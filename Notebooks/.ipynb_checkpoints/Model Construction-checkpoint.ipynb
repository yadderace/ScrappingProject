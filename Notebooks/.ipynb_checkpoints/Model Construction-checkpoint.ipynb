{
 "cells": [
  {
   "cell_type": "markdown",
   "metadata": {},
   "source": [
    "# Data Wrangling"
   ]
  },
  {
   "cell_type": "markdown",
   "metadata": {},
   "source": [
    "## Librerias\n",
    "\n",
    "### Instalacion"
   ]
  },
  {
   "cell_type": "code",
   "execution_count": null,
   "metadata": {},
   "outputs": [],
   "source": []
  },
  {
   "cell_type": "markdown",
   "metadata": {},
   "source": [
    "### Importacion"
   ]
  },
  {
   "cell_type": "code",
   "execution_count": 459,
   "metadata": {},
   "outputs": [],
   "source": [
    "import re\n",
    "import pandas as pd\n",
    "import numpy as np\n",
    "import seaborn as sns\n",
    "\n",
    "from sklearn.cluster import KMeans\n",
    "from sklearn.model_selection import train_test_split\n",
    "from sklearn.linear_model import LinearRegression\n",
    "from sklearn.ensemble import RandomForestRegressor\n",
    "from sklearn.metrics import mean_squared_error, r2_score"
   ]
  },
  {
   "cell_type": "markdown",
   "metadata": {},
   "source": [
    "## Carga Datos"
   ]
  },
  {
   "cell_type": "code",
   "execution_count": 460,
   "metadata": {},
   "outputs": [
    {
     "data": {
      "text/html": [
       "<div>\n",
       "<style scoped>\n",
       "    .dataframe tbody tr th:only-of-type {\n",
       "        vertical-align: middle;\n",
       "    }\n",
       "\n",
       "    .dataframe tbody tr th {\n",
       "        vertical-align: top;\n",
       "    }\n",
       "\n",
       "    .dataframe thead th {\n",
       "        text-align: right;\n",
       "    }\n",
       "</style>\n",
       "<table border=\"1\" class=\"dataframe\">\n",
       "  <thead>\n",
       "    <tr style=\"text-align: right;\">\n",
       "      <th></th>\n",
       "      <th>codigoencabezado</th>\n",
       "      <th>idregistro</th>\n",
       "      <th>linkpagina</th>\n",
       "      <th>fecharegistro</th>\n",
       "      <th>administracion</th>\n",
       "      <th>amueblado</th>\n",
       "      <th>antiguedad</th>\n",
       "      <th>banos</th>\n",
       "      <th>habitaciones</th>\n",
       "      <th>estudio</th>\n",
       "      <th>...</th>\n",
       "      <th>moneda</th>\n",
       "      <th>tipo</th>\n",
       "      <th>tipo_vendedor</th>\n",
       "      <th>favoritos</th>\n",
       "      <th>titulo</th>\n",
       "      <th>fecha_creacion</th>\n",
       "      <th>valido_hasta</th>\n",
       "      <th>descripcion</th>\n",
       "      <th>partner_code</th>\n",
       "      <th>user_id</th>\n",
       "    </tr>\n",
       "  </thead>\n",
       "  <tbody>\n",
       "    <tr>\n",
       "      <th>count</th>\n",
       "      <td>3528.000000</td>\n",
       "      <td>3.528000e+03</td>\n",
       "      <td>3528</td>\n",
       "      <td>3528</td>\n",
       "      <td>737.000000</td>\n",
       "      <td>2171</td>\n",
       "      <td>1719</td>\n",
       "      <td>3525.000000</td>\n",
       "      <td>3509.000000</td>\n",
       "      <td>3509</td>\n",
       "      <td>...</td>\n",
       "      <td>3528</td>\n",
       "      <td>3524</td>\n",
       "      <td>2930</td>\n",
       "      <td>3528.000000</td>\n",
       "      <td>3528</td>\n",
       "      <td>3528</td>\n",
       "      <td>3528</td>\n",
       "      <td>3528</td>\n",
       "      <td>488</td>\n",
       "      <td>3.528000e+03</td>\n",
       "    </tr>\n",
       "    <tr>\n",
       "      <th>unique</th>\n",
       "      <td>NaN</td>\n",
       "      <td>NaN</td>\n",
       "      <td>1760</td>\n",
       "      <td>11</td>\n",
       "      <td>NaN</td>\n",
       "      <td>2</td>\n",
       "      <td>8</td>\n",
       "      <td>NaN</td>\n",
       "      <td>NaN</td>\n",
       "      <td>2</td>\n",
       "      <td>...</td>\n",
       "      <td>2</td>\n",
       "      <td>4</td>\n",
       "      <td>2</td>\n",
       "      <td>NaN</td>\n",
       "      <td>1648</td>\n",
       "      <td>1918</td>\n",
       "      <td>1756</td>\n",
       "      <td>1772</td>\n",
       "      <td>274</td>\n",
       "      <td>NaN</td>\n",
       "    </tr>\n",
       "    <tr>\n",
       "      <th>top</th>\n",
       "      <td>NaN</td>\n",
       "      <td>NaN</td>\n",
       "      <td>https://www.olx.com.gt/item/venta-apartamento-...</td>\n",
       "      <td>2020-06-25</td>\n",
       "      <td>NaN</td>\n",
       "      <td>No</td>\n",
       "      <td>Hasta 5 años</td>\n",
       "      <td>NaN</td>\n",
       "      <td>NaN</td>\n",
       "      <td>No</td>\n",
       "      <td>...</td>\n",
       "      <td>US$</td>\n",
       "      <td>Apartamento</td>\n",
       "      <td>Inmobiliaria</td>\n",
       "      <td>NaN</td>\n",
       "      <td>ALQUILO APARTAMENTO EN VILLA CANALES</td>\n",
       "      <td>2020-05-14T17:23:53-06:00</td>\n",
       "      <td>2020-08-12T17:23:53-06:00</td>\n",
       "      <td>Fácil acceso por Villa Nueva, Petapa, Villa Ca...</td>\n",
       "      <td>PVA-007-05-20-V</td>\n",
       "      <td>NaN</td>\n",
       "    </tr>\n",
       "    <tr>\n",
       "      <th>freq</th>\n",
       "      <td>NaN</td>\n",
       "      <td>NaN</td>\n",
       "      <td>13</td>\n",
       "      <td>610</td>\n",
       "      <td>NaN</td>\n",
       "      <td>1691</td>\n",
       "      <td>528</td>\n",
       "      <td>NaN</td>\n",
       "      <td>NaN</td>\n",
       "      <td>3483</td>\n",
       "      <td>...</td>\n",
       "      <td>2158</td>\n",
       "      <td>3439</td>\n",
       "      <td>2446</td>\n",
       "      <td>NaN</td>\n",
       "      <td>16</td>\n",
       "      <td>12</td>\n",
       "      <td>12</td>\n",
       "      <td>17</td>\n",
       "      <td>7</td>\n",
       "      <td>NaN</td>\n",
       "    </tr>\n",
       "    <tr>\n",
       "      <th>mean</th>\n",
       "      <td>1765.247166</td>\n",
       "      <td>1.095362e+09</td>\n",
       "      <td>NaN</td>\n",
       "      <td>NaN</td>\n",
       "      <td>708.308005</td>\n",
       "      <td>NaN</td>\n",
       "      <td>NaN</td>\n",
       "      <td>1.938440</td>\n",
       "      <td>2.306355</td>\n",
       "      <td>NaN</td>\n",
       "      <td>...</td>\n",
       "      <td>NaN</td>\n",
       "      <td>NaN</td>\n",
       "      <td>NaN</td>\n",
       "      <td>2.311508</td>\n",
       "      <td>NaN</td>\n",
       "      <td>NaN</td>\n",
       "      <td>NaN</td>\n",
       "      <td>NaN</td>\n",
       "      <td>NaN</td>\n",
       "      <td>4.049816e+07</td>\n",
       "    </tr>\n",
       "    <tr>\n",
       "      <th>std</th>\n",
       "      <td>1018.917489</td>\n",
       "      <td>1.502473e+07</td>\n",
       "      <td>NaN</td>\n",
       "      <td>NaN</td>\n",
       "      <td>4151.486978</td>\n",
       "      <td>NaN</td>\n",
       "      <td>NaN</td>\n",
       "      <td>0.935739</td>\n",
       "      <td>0.806485</td>\n",
       "      <td>NaN</td>\n",
       "      <td>...</td>\n",
       "      <td>NaN</td>\n",
       "      <td>NaN</td>\n",
       "      <td>NaN</td>\n",
       "      <td>12.746027</td>\n",
       "      <td>NaN</td>\n",
       "      <td>NaN</td>\n",
       "      <td>NaN</td>\n",
       "      <td>NaN</td>\n",
       "      <td>NaN</td>\n",
       "      <td>2.522375e+07</td>\n",
       "    </tr>\n",
       "    <tr>\n",
       "      <th>min</th>\n",
       "      <td>1.000000</td>\n",
       "      <td>9.305465e+08</td>\n",
       "      <td>NaN</td>\n",
       "      <td>NaN</td>\n",
       "      <td>0.000000</td>\n",
       "      <td>NaN</td>\n",
       "      <td>NaN</td>\n",
       "      <td>0.000000</td>\n",
       "      <td>1.000000</td>\n",
       "      <td>NaN</td>\n",
       "      <td>...</td>\n",
       "      <td>NaN</td>\n",
       "      <td>NaN</td>\n",
       "      <td>NaN</td>\n",
       "      <td>0.000000</td>\n",
       "      <td>NaN</td>\n",
       "      <td>NaN</td>\n",
       "      <td>NaN</td>\n",
       "      <td>NaN</td>\n",
       "      <td>NaN</td>\n",
       "      <td>2.843723e+06</td>\n",
       "    </tr>\n",
       "    <tr>\n",
       "      <th>25%</th>\n",
       "      <td>882.750000</td>\n",
       "      <td>1.100266e+09</td>\n",
       "      <td>NaN</td>\n",
       "      <td>NaN</td>\n",
       "      <td>0.000000</td>\n",
       "      <td>NaN</td>\n",
       "      <td>NaN</td>\n",
       "      <td>1.000000</td>\n",
       "      <td>2.000000</td>\n",
       "      <td>NaN</td>\n",
       "      <td>...</td>\n",
       "      <td>NaN</td>\n",
       "      <td>NaN</td>\n",
       "      <td>NaN</td>\n",
       "      <td>0.000000</td>\n",
       "      <td>NaN</td>\n",
       "      <td>NaN</td>\n",
       "      <td>NaN</td>\n",
       "      <td>NaN</td>\n",
       "      <td>NaN</td>\n",
       "      <td>2.401211e+07</td>\n",
       "    </tr>\n",
       "    <tr>\n",
       "      <th>50%</th>\n",
       "      <td>1765.500000</td>\n",
       "      <td>1.100373e+09</td>\n",
       "      <td>NaN</td>\n",
       "      <td>NaN</td>\n",
       "      <td>0.000000</td>\n",
       "      <td>NaN</td>\n",
       "      <td>NaN</td>\n",
       "      <td>2.000000</td>\n",
       "      <td>2.000000</td>\n",
       "      <td>NaN</td>\n",
       "      <td>...</td>\n",
       "      <td>NaN</td>\n",
       "      <td>NaN</td>\n",
       "      <td>NaN</td>\n",
       "      <td>1.000000</td>\n",
       "      <td>NaN</td>\n",
       "      <td>NaN</td>\n",
       "      <td>NaN</td>\n",
       "      <td>NaN</td>\n",
       "      <td>NaN</td>\n",
       "      <td>2.767485e+07</td>\n",
       "    </tr>\n",
       "    <tr>\n",
       "      <th>75%</th>\n",
       "      <td>2647.250000</td>\n",
       "      <td>1.100402e+09</td>\n",
       "      <td>NaN</td>\n",
       "      <td>NaN</td>\n",
       "      <td>300.000000</td>\n",
       "      <td>NaN</td>\n",
       "      <td>NaN</td>\n",
       "      <td>2.000000</td>\n",
       "      <td>3.000000</td>\n",
       "      <td>NaN</td>\n",
       "      <td>...</td>\n",
       "      <td>NaN</td>\n",
       "      <td>NaN</td>\n",
       "      <td>NaN</td>\n",
       "      <td>2.000000</td>\n",
       "      <td>NaN</td>\n",
       "      <td>NaN</td>\n",
       "      <td>NaN</td>\n",
       "      <td>NaN</td>\n",
       "      <td>NaN</td>\n",
       "      <td>6.306340e+07</td>\n",
       "    </tr>\n",
       "    <tr>\n",
       "      <th>max</th>\n",
       "      <td>3529.000000</td>\n",
       "      <td>1.100433e+09</td>\n",
       "      <td>NaN</td>\n",
       "      <td>NaN</td>\n",
       "      <td>65546.000000</td>\n",
       "      <td>NaN</td>\n",
       "      <td>NaN</td>\n",
       "      <td>10.000000</td>\n",
       "      <td>10.000000</td>\n",
       "      <td>NaN</td>\n",
       "      <td>...</td>\n",
       "      <td>NaN</td>\n",
       "      <td>NaN</td>\n",
       "      <td>NaN</td>\n",
       "      <td>642.000000</td>\n",
       "      <td>NaN</td>\n",
       "      <td>NaN</td>\n",
       "      <td>NaN</td>\n",
       "      <td>NaN</td>\n",
       "      <td>NaN</td>\n",
       "      <td>8.038010e+07</td>\n",
       "    </tr>\n",
       "  </tbody>\n",
       "</table>\n",
       "<p>11 rows × 26 columns</p>\n",
       "</div>"
      ],
      "text/plain": [
       "        codigoencabezado    idregistro  \\\n",
       "count        3528.000000  3.528000e+03   \n",
       "unique               NaN           NaN   \n",
       "top                  NaN           NaN   \n",
       "freq                 NaN           NaN   \n",
       "mean         1765.247166  1.095362e+09   \n",
       "std          1018.917489  1.502473e+07   \n",
       "min             1.000000  9.305465e+08   \n",
       "25%           882.750000  1.100266e+09   \n",
       "50%          1765.500000  1.100373e+09   \n",
       "75%          2647.250000  1.100402e+09   \n",
       "max          3529.000000  1.100433e+09   \n",
       "\n",
       "                                               linkpagina fecharegistro  \\\n",
       "count                                                3528          3528   \n",
       "unique                                               1760            11   \n",
       "top     https://www.olx.com.gt/item/venta-apartamento-...    2020-06-25   \n",
       "freq                                                   13           610   \n",
       "mean                                                  NaN           NaN   \n",
       "std                                                   NaN           NaN   \n",
       "min                                                   NaN           NaN   \n",
       "25%                                                   NaN           NaN   \n",
       "50%                                                   NaN           NaN   \n",
       "75%                                                   NaN           NaN   \n",
       "max                                                   NaN           NaN   \n",
       "\n",
       "        administracion amueblado    antiguedad        banos  habitaciones  \\\n",
       "count       737.000000      2171          1719  3525.000000   3509.000000   \n",
       "unique             NaN         2             8          NaN           NaN   \n",
       "top                NaN        No  Hasta 5 años          NaN           NaN   \n",
       "freq               NaN      1691           528          NaN           NaN   \n",
       "mean        708.308005       NaN           NaN     1.938440      2.306355   \n",
       "std        4151.486978       NaN           NaN     0.935739      0.806485   \n",
       "min           0.000000       NaN           NaN     0.000000      1.000000   \n",
       "25%           0.000000       NaN           NaN     1.000000      2.000000   \n",
       "50%           0.000000       NaN           NaN     2.000000      2.000000   \n",
       "75%         300.000000       NaN           NaN     2.000000      3.000000   \n",
       "max       65546.000000       NaN           NaN    10.000000     10.000000   \n",
       "\n",
       "       estudio  ...  moneda         tipo  tipo_vendedor    favoritos  \\\n",
       "count     3509  ...    3528         3524           2930  3528.000000   \n",
       "unique       2  ...       2            4              2          NaN   \n",
       "top         No  ...     US$  Apartamento   Inmobiliaria          NaN   \n",
       "freq      3483  ...    2158         3439           2446          NaN   \n",
       "mean       NaN  ...     NaN          NaN            NaN     2.311508   \n",
       "std        NaN  ...     NaN          NaN            NaN    12.746027   \n",
       "min        NaN  ...     NaN          NaN            NaN     0.000000   \n",
       "25%        NaN  ...     NaN          NaN            NaN     0.000000   \n",
       "50%        NaN  ...     NaN          NaN            NaN     1.000000   \n",
       "75%        NaN  ...     NaN          NaN            NaN     2.000000   \n",
       "max        NaN  ...     NaN          NaN            NaN   642.000000   \n",
       "\n",
       "                                      titulo             fecha_creacion  \\\n",
       "count                                   3528                       3528   \n",
       "unique                                  1648                       1918   \n",
       "top     ALQUILO APARTAMENTO EN VILLA CANALES  2020-05-14T17:23:53-06:00   \n",
       "freq                                      16                         12   \n",
       "mean                                     NaN                        NaN   \n",
       "std                                      NaN                        NaN   \n",
       "min                                      NaN                        NaN   \n",
       "25%                                      NaN                        NaN   \n",
       "50%                                      NaN                        NaN   \n",
       "75%                                      NaN                        NaN   \n",
       "max                                      NaN                        NaN   \n",
       "\n",
       "                     valido_hasta  \\\n",
       "count                        3528   \n",
       "unique                       1756   \n",
       "top     2020-08-12T17:23:53-06:00   \n",
       "freq                           12   \n",
       "mean                          NaN   \n",
       "std                           NaN   \n",
       "min                           NaN   \n",
       "25%                           NaN   \n",
       "50%                           NaN   \n",
       "75%                           NaN   \n",
       "max                           NaN   \n",
       "\n",
       "                                              descripcion     partner_code  \\\n",
       "count                                                3528              488   \n",
       "unique                                               1772              274   \n",
       "top     Fácil acceso por Villa Nueva, Petapa, Villa Ca...  PVA-007-05-20-V   \n",
       "freq                                                   17                7   \n",
       "mean                                                  NaN              NaN   \n",
       "std                                                   NaN              NaN   \n",
       "min                                                   NaN              NaN   \n",
       "25%                                                   NaN              NaN   \n",
       "50%                                                   NaN              NaN   \n",
       "75%                                                   NaN              NaN   \n",
       "max                                                   NaN              NaN   \n",
       "\n",
       "             user_id  \n",
       "count   3.528000e+03  \n",
       "unique           NaN  \n",
       "top              NaN  \n",
       "freq             NaN  \n",
       "mean    4.049816e+07  \n",
       "std     2.522375e+07  \n",
       "min     2.843723e+06  \n",
       "25%     2.401211e+07  \n",
       "50%     2.767485e+07  \n",
       "75%     6.306340e+07  \n",
       "max     8.038010e+07  \n",
       "\n",
       "[11 rows x 26 columns]"
      ]
     },
     "execution_count": 460,
     "metadata": {},
     "output_type": "execute_result"
    }
   ],
   "source": [
    "dfFinalSet = pd.read_csv('FinalSet.csv', dtype = {'codigoencabezado': 'int32'})\n",
    "\n",
    "dfFinalSet.describe(include = 'all')"
   ]
  },
  {
   "cell_type": "markdown",
   "metadata": {},
   "source": [
    "## Data Wrangling"
   ]
  },
  {
   "cell_type": "markdown",
   "metadata": {},
   "source": [
    "En esta seccion prepararemos el set de datos que se utilizara para realizar la construccion del modelo de regresion. Primero definiremos los valores de flag para indicar que acciones se aplicaran sobre los datos."
   ]
  },
  {
   "cell_type": "code",
   "execution_count": 461,
   "metadata": {},
   "outputs": [],
   "source": [
    "# Normalizacion de datos para columna espacio_m2\n",
    "flagDataNormalization = True"
   ]
  },
  {
   "cell_type": "markdown",
   "metadata": {},
   "source": [
    "### Registros Unicos\n",
    "\n",
    "Obtendremos solo los valores mas actualizados de los registros. Utilizaremos el atributo **idregistro** como identificador unico de los registros."
   ]
  },
  {
   "cell_type": "code",
   "execution_count": 462,
   "metadata": {},
   "outputs": [
    {
     "data": {
      "text/plain": [
       "(1744, 26)"
      ]
     },
     "execution_count": 462,
     "metadata": {},
     "output_type": "execute_result"
    }
   ],
   "source": [
    "# Conversion a string del campo idregistro\n",
    "dfAnalisisSet = dfFinalSet.astype({'idregistro': 'str'})\n",
    "\n",
    "# Conversion a fecha del campo fecharegsitro\n",
    "dfAnalisisSet['fecharegistro'] = pd.to_datetime(dfAnalisisSet['fecharegistro'], format = \"%Y-%m-%d\")\n",
    "\n",
    "# Obtencion de fecha maxima por cada idregistro y filtro de esos registros.\n",
    "dfAnalisisSet = dfAnalisisSet.loc[dfAnalisisSet.reset_index().groupby(['idregistro'])['fecharegistro'].idxmax()]\n",
    "\n",
    "# Verificamos la cantidad de registros faltantes\n",
    "dfAnalisisSet.shape"
   ]
  },
  {
   "cell_type": "markdown",
   "metadata": {},
   "source": [
    "### Columna Precio Real\n",
    "\n",
    "Procedemos a crear una columna llamada **precio_real** para establecer el precio en quetzales. Para los registros que tienen un precio en dolares se aplicara el factor de conversion a quetzales."
   ]
  },
  {
   "cell_type": "code",
   "execution_count": 463,
   "metadata": {},
   "outputs": [
    {
     "data": {
      "text/plain": [
       "1630    2299310.0\n",
       "3155    1461100.0\n",
       "974     1207330.0\n",
       "975      922800.0\n",
       "965        6000.0\n",
       "          ...    \n",
       "2945     315000.0\n",
       "2944    1191950.0\n",
       "3161    2499250.0\n",
       "1645        900.0\n",
       "2659    4921600.0\n",
       "Name: precio_real, Length: 1744, dtype: float64"
      ]
     },
     "execution_count": 463,
     "metadata": {},
     "output_type": "execute_result"
    }
   ],
   "source": [
    "# Factor de conversion\n",
    "cambio_moneda = 7.69\n",
    "\n",
    "# Creacion de nueva columna\n",
    "dfAnalisisSet['precio_real'] = np.where(dfAnalisisSet['moneda'] == 'US$', dfAnalisisSet['precio'] * cambio_moneda, \n",
    "                                        dfAnalisisSet['precio'])\n",
    "\n",
    "# Visualizams los valores de precio real\n",
    "dfAnalisisSet['precio_real']"
   ]
  },
  {
   "cell_type": "markdown",
   "metadata": {},
   "source": [
    "### Columna Oferta\n",
    "\n",
    "Procederemos a crear una columna llamada oferta para determinar si es una venta o alquiler de apartamento. Para ello vamos a especificar un valor pivote en la columna precio. Todo valor superior al valor pivote sera considerado como una venta."
   ]
  },
  {
   "cell_type": "code",
   "execution_count": 464,
   "metadata": {},
   "outputs": [
    {
     "data": {
      "text/plain": [
       "oferta\n",
       "Alquiler    1108\n",
       "Venta        636\n",
       "Name: codigoencabezado, dtype: int64"
      ]
     },
     "execution_count": 464,
     "metadata": {},
     "output_type": "execute_result"
    }
   ],
   "source": [
    "# Asignacion de valor pivote\n",
    "intValorPivote = 50000\n",
    "\n",
    "# Creacion de nueva columna oferta.\n",
    "dfAnalisisSet['oferta'] = ['Venta' if precio > intValorPivote else 'Alquiler' for precio in dfAnalisisSet['precio_real']]\n",
    "\n",
    "# Verificamos cuantos registros quedaron en el dataset\n",
    "dfAnalisisSet.groupby(['oferta']).count()['codigoencabezado']"
   ]
  },
  {
   "cell_type": "markdown",
   "metadata": {},
   "source": [
    "### Filtro Inicial"
   ]
  },
  {
   "cell_type": "markdown",
   "metadata": {},
   "source": [
    "Los primeros filtros a aplicar a nuestro set de datos son los siguientes:\n",
    "* Tipo de oferta como Venta, ya que solo nos interesa realizar el modelo para apartamentos en venta.\n",
    "* Amueblado con valor No, ya que segun el analisis para las ventas no hay data para este atributo.\n",
    "* El tipo se especificara como \"Apartamento\" ya que es la clasificacion que posee mayor cantidad de registros."
   ]
  },
  {
   "cell_type": "code",
   "execution_count": 465,
   "metadata": {},
   "outputs": [
    {
     "data": {
      "text/plain": [
       "(616, 28)"
      ]
     },
     "execution_count": 465,
     "metadata": {},
     "output_type": "execute_result"
    }
   ],
   "source": [
    "# Especificamos los filtros\n",
    "dfFiltradoSet = dfAnalisisSet[(dfAnalisisSet['oferta'] == 'Venta') & \n",
    "                              ((dfAnalisisSet['amueblado'] == 'No') | (dfAnalisisSet['amueblado'].isnull())) &\n",
    "                             (dfAnalisisSet['tipo'] == 'Apartamento')]\n",
    "\n",
    "# Verificamos las dimensiones\n",
    "dfFiltradoSet.shape"
   ]
  },
  {
   "cell_type": "markdown",
   "metadata": {},
   "source": [
    "Ahora especificamos las columnas que utilizaremos en principio para la construccion del set de datos"
   ]
  },
  {
   "cell_type": "code",
   "execution_count": 466,
   "metadata": {},
   "outputs": [
    {
     "data": {
      "text/plain": [
       "(616, 11)"
      ]
     },
     "execution_count": 466,
     "metadata": {},
     "output_type": "execute_result"
    }
   ],
   "source": [
    "# Seleccionando las columnas a utilizar\n",
    "dfFiltradoSet = dfFiltradoSet[['idregistro', 'banos', 'habitaciones', \n",
    "                               'espacio_m2', 'latitud', 'longitud', 'moneda',\n",
    "                               'parqueo', 'tipo_vendedor', 'precio_real', 'user_id']]\n",
    "\n",
    "dfFiltradoSet.shape"
   ]
  },
  {
   "cell_type": "markdown",
   "metadata": {},
   "source": [
    "### Nueva Variable Ubicacion (KMeans)\n",
    "\n",
    "Se procedera a crear una nueva variable llamada ubicacion que sera el numero de cluster asignado dependiendo de los valores de longitud y latitud."
   ]
  },
  {
   "cell_type": "code",
   "execution_count": 467,
   "metadata": {},
   "outputs": [
    {
     "data": {
      "text/html": [
       "<div>\n",
       "<style scoped>\n",
       "    .dataframe tbody tr th:only-of-type {\n",
       "        vertical-align: middle;\n",
       "    }\n",
       "\n",
       "    .dataframe tbody tr th {\n",
       "        vertical-align: top;\n",
       "    }\n",
       "\n",
       "    .dataframe thead th {\n",
       "        text-align: right;\n",
       "    }\n",
       "</style>\n",
       "<table border=\"1\" class=\"dataframe\">\n",
       "  <thead>\n",
       "    <tr style=\"text-align: right;\">\n",
       "      <th></th>\n",
       "      <th>idregistro</th>\n",
       "      <th>banos</th>\n",
       "      <th>habitaciones</th>\n",
       "      <th>espacio_m2</th>\n",
       "      <th>latitud</th>\n",
       "      <th>longitud</th>\n",
       "      <th>moneda</th>\n",
       "      <th>parqueo</th>\n",
       "      <th>tipo_vendedor</th>\n",
       "      <th>precio_real</th>\n",
       "      <th>user_id</th>\n",
       "      <th>ubicacion</th>\n",
       "    </tr>\n",
       "  </thead>\n",
       "  <tbody>\n",
       "    <tr>\n",
       "      <th>1630</th>\n",
       "      <td>1007688385</td>\n",
       "      <td>3.0</td>\n",
       "      <td>3.0</td>\n",
       "      <td>232.0</td>\n",
       "      <td>14.591</td>\n",
       "      <td>-90.506</td>\n",
       "      <td>US$</td>\n",
       "      <td>NaN</td>\n",
       "      <td>Inmobiliaria</td>\n",
       "      <td>2299310.00</td>\n",
       "      <td>55074295</td>\n",
       "      <td>U1</td>\n",
       "    </tr>\n",
       "    <tr>\n",
       "      <th>3155</th>\n",
       "      <td>1009069375</td>\n",
       "      <td>3.0</td>\n",
       "      <td>2.0</td>\n",
       "      <td>120.0</td>\n",
       "      <td>14.635</td>\n",
       "      <td>-90.508</td>\n",
       "      <td>US$</td>\n",
       "      <td>NaN</td>\n",
       "      <td>Inmobiliaria</td>\n",
       "      <td>1461100.00</td>\n",
       "      <td>63063400</td>\n",
       "      <td>U0</td>\n",
       "    </tr>\n",
       "    <tr>\n",
       "      <th>974</th>\n",
       "      <td>1014321966</td>\n",
       "      <td>2.0</td>\n",
       "      <td>1.0</td>\n",
       "      <td>78.0</td>\n",
       "      <td>14.600</td>\n",
       "      <td>-90.511</td>\n",
       "      <td>US$</td>\n",
       "      <td>Si</td>\n",
       "      <td>Inmobiliaria</td>\n",
       "      <td>1207330.00</td>\n",
       "      <td>34408653</td>\n",
       "      <td>U7</td>\n",
       "    </tr>\n",
       "    <tr>\n",
       "      <th>975</th>\n",
       "      <td>1014324725</td>\n",
       "      <td>2.0</td>\n",
       "      <td>2.0</td>\n",
       "      <td>65.0</td>\n",
       "      <td>14.593</td>\n",
       "      <td>-90.491</td>\n",
       "      <td>US$</td>\n",
       "      <td>Si</td>\n",
       "      <td>Inmobiliaria</td>\n",
       "      <td>922800.00</td>\n",
       "      <td>34408653</td>\n",
       "      <td>U1</td>\n",
       "    </tr>\n",
       "    <tr>\n",
       "      <th>557</th>\n",
       "      <td>1023944274</td>\n",
       "      <td>2.0</td>\n",
       "      <td>2.0</td>\n",
       "      <td>74.0</td>\n",
       "      <td>14.588</td>\n",
       "      <td>-90.503</td>\n",
       "      <td>US$</td>\n",
       "      <td>Si</td>\n",
       "      <td>Inmobiliaria</td>\n",
       "      <td>1647474.84</td>\n",
       "      <td>24012106</td>\n",
       "      <td>U1</td>\n",
       "    </tr>\n",
       "    <tr>\n",
       "      <th>559</th>\n",
       "      <td>1029720345</td>\n",
       "      <td>2.0</td>\n",
       "      <td>3.0</td>\n",
       "      <td>290.0</td>\n",
       "      <td>14.607</td>\n",
       "      <td>-90.470</td>\n",
       "      <td>US$</td>\n",
       "      <td>Si</td>\n",
       "      <td>Inmobiliaria</td>\n",
       "      <td>5190750.00</td>\n",
       "      <td>24012106</td>\n",
       "      <td>U5</td>\n",
       "    </tr>\n",
       "    <tr>\n",
       "      <th>2219</th>\n",
       "      <td>1030164820</td>\n",
       "      <td>2.0</td>\n",
       "      <td>2.0</td>\n",
       "      <td>74.0</td>\n",
       "      <td>14.588</td>\n",
       "      <td>-90.503</td>\n",
       "      <td>US$</td>\n",
       "      <td>Si</td>\n",
       "      <td>Inmobiliaria</td>\n",
       "      <td>1647474.84</td>\n",
       "      <td>24012106</td>\n",
       "      <td>U1</td>\n",
       "    </tr>\n",
       "    <tr>\n",
       "      <th>521</th>\n",
       "      <td>1039739280</td>\n",
       "      <td>2.0</td>\n",
       "      <td>2.0</td>\n",
       "      <td>74.0</td>\n",
       "      <td>14.588</td>\n",
       "      <td>-90.503</td>\n",
       "      <td>US$</td>\n",
       "      <td>Si</td>\n",
       "      <td>Inmobiliaria</td>\n",
       "      <td>1647474.84</td>\n",
       "      <td>24012106</td>\n",
       "      <td>U1</td>\n",
       "    </tr>\n",
       "    <tr>\n",
       "      <th>3049</th>\n",
       "      <td>1040281262</td>\n",
       "      <td>2.0</td>\n",
       "      <td>4.0</td>\n",
       "      <td>110.0</td>\n",
       "      <td>14.645</td>\n",
       "      <td>-90.540</td>\n",
       "      <td>Q</td>\n",
       "      <td>Si</td>\n",
       "      <td>Inmobiliaria</td>\n",
       "      <td>990300.00</td>\n",
       "      <td>24012106</td>\n",
       "      <td>U9</td>\n",
       "    </tr>\n",
       "    <tr>\n",
       "      <th>526</th>\n",
       "      <td>1041192203</td>\n",
       "      <td>1.0</td>\n",
       "      <td>1.0</td>\n",
       "      <td>79.0</td>\n",
       "      <td>14.588</td>\n",
       "      <td>-90.503</td>\n",
       "      <td>Q</td>\n",
       "      <td>Si</td>\n",
       "      <td>Inmobiliaria</td>\n",
       "      <td>1329277.00</td>\n",
       "      <td>24012106</td>\n",
       "      <td>U1</td>\n",
       "    </tr>\n",
       "  </tbody>\n",
       "</table>\n",
       "</div>"
      ],
      "text/plain": [
       "      idregistro  banos  habitaciones  espacio_m2  latitud  longitud moneda  \\\n",
       "1630  1007688385    3.0           3.0       232.0   14.591   -90.506    US$   \n",
       "3155  1009069375    3.0           2.0       120.0   14.635   -90.508    US$   \n",
       "974   1014321966    2.0           1.0        78.0   14.600   -90.511    US$   \n",
       "975   1014324725    2.0           2.0        65.0   14.593   -90.491    US$   \n",
       "557   1023944274    2.0           2.0        74.0   14.588   -90.503    US$   \n",
       "559   1029720345    2.0           3.0       290.0   14.607   -90.470    US$   \n",
       "2219  1030164820    2.0           2.0        74.0   14.588   -90.503    US$   \n",
       "521   1039739280    2.0           2.0        74.0   14.588   -90.503    US$   \n",
       "3049  1040281262    2.0           4.0       110.0   14.645   -90.540      Q   \n",
       "526   1041192203    1.0           1.0        79.0   14.588   -90.503      Q   \n",
       "\n",
       "     parqueo tipo_vendedor  precio_real   user_id ubicacion  \n",
       "1630     NaN  Inmobiliaria   2299310.00  55074295        U1  \n",
       "3155     NaN  Inmobiliaria   1461100.00  63063400        U0  \n",
       "974       Si  Inmobiliaria   1207330.00  34408653        U7  \n",
       "975       Si  Inmobiliaria    922800.00  34408653        U1  \n",
       "557       Si  Inmobiliaria   1647474.84  24012106        U1  \n",
       "559       Si  Inmobiliaria   5190750.00  24012106        U5  \n",
       "2219      Si  Inmobiliaria   1647474.84  24012106        U1  \n",
       "521       Si  Inmobiliaria   1647474.84  24012106        U1  \n",
       "3049      Si  Inmobiliaria    990300.00  24012106        U9  \n",
       "526       Si  Inmobiliaria   1329277.00  24012106        U1  "
      ]
     },
     "execution_count": 467,
     "metadata": {},
     "output_type": "execute_result"
    }
   ],
   "source": [
    "# Seleccion de numero de clusters.\n",
    "# Nota: En Notebook Data Analysis podriamos identificar la cantidad de cluster por medio de elbow plot\n",
    "intKClusters = 13\n",
    "\n",
    "# Se obtienen los valores que se utilizaran para la construccion de modelo KMeans\n",
    "npUbicaciones = np.array(list(zip(dfFiltradoSet['longitud'], \n",
    "                                  dfFiltradoSet['latitud']))).reshape(len(dfFiltradoSet['longitud']), 2)\n",
    "\n",
    "# Construccion del modelo\n",
    "kmeanModel = KMeans(n_clusters = intKClusters, max_iter = 2000).fit(npUbicaciones)\n",
    "\n",
    "\n",
    "\n",
    "# Asignacion de clusters a registros\n",
    "dfFiltradoSet['ubicacion'] = [\"U\" + str(ubicacion) for ubicacion in kmeanModel.labels_]\n",
    "\n",
    "# Verificacion de la nueva columna\n",
    "dfFiltradoSet.head(10)"
   ]
  },
  {
   "cell_type": "markdown",
   "metadata": {},
   "source": [
    "### Filtro Baja Frecuencia (Ubicacion)\n",
    "\n",
    "Verificaremos para la variable **ubicacion** del dataframe la frecuencia de sus valores para dejar aquellos que se encuentran bien representados."
   ]
  },
  {
   "cell_type": "code",
   "execution_count": 468,
   "metadata": {},
   "outputs": [
    {
     "data": {
      "text/plain": [
       "U1     237\n",
       "U5      93\n",
       "U0      91\n",
       "U7      57\n",
       "U6      38\n",
       "U4      28\n",
       "U9      19\n",
       "U8      16\n",
       "U12     13\n",
       "U3      12\n",
       "U11      7\n",
       "U10      4\n",
       "U2       1\n",
       "Name: ubicacion, dtype: int64"
      ]
     },
     "execution_count": 468,
     "metadata": {},
     "output_type": "execute_result"
    }
   ],
   "source": [
    "srFreqUbicacion = pd.Series(dfFiltradoSet['ubicacion']).value_counts()\n",
    "srFreqUbicacion"
   ]
  },
  {
   "cell_type": "code",
   "execution_count": 469,
   "metadata": {},
   "outputs": [
    {
     "data": {
      "text/plain": [
       "U1     237\n",
       "U4      93\n",
       "U2      91\n",
       "U3      57\n",
       "U8      38\n",
       "U7      28\n",
       "U5      19\n",
       "U9      16\n",
       "U10     13\n",
       "U6      12\n",
       "Name: ubicacion, dtype: int64"
      ]
     },
     "execution_count": 469,
     "metadata": {},
     "output_type": "execute_result"
    }
   ],
   "source": [
    "# Eliminando elementos que tienen baja frecuencia para ubicacion\n",
    "intNumeroPivote = 10\n",
    "idxEliminar = srFreqUbicacion[srFreqUbicacion <= intNumeroPivote].index\n",
    "dfFiltradoSet = dfFiltradoSet[~dfFiltradoSet.ubicacion.isin(idxEliminar)]\n",
    "\n",
    "# Creamos el dataframe con el cual vamos a mapear los valores\n",
    "dfMapeo = pd.DataFrame({'ubicacion': dfFiltradoSet.ubicacion.unique()})\n",
    "dfMapeo['nueva_ubicacion'] = [\"U\" + str(ubicacion) for ubicacion in range(1, len(dfMapeo) + 1)]\n",
    "\n",
    "# Colocamos los nuevos valores de ubicacion\n",
    "dfFiltradoSet['ubicacion'] = dfFiltradoSet.join(dfMapeo.set_index('ubicacion'), on = 'ubicacion')['nueva_ubicacion']\n",
    "\n",
    "# Verificamos que valores quedaron\n",
    "srFreqUbicacion = pd.Series(dfFiltradoSet['ubicacion']).value_counts()\n",
    "srFreqUbicacion"
   ]
  },
  {
   "cell_type": "markdown",
   "metadata": {},
   "source": [
    "### Manejo valores nulos\n",
    "\n",
    "#### Validacion variables con valores nulos\n",
    "Procedemos a verificar cuales son las variables que presentan valores nulos"
   ]
  },
  {
   "cell_type": "code",
   "execution_count": 470,
   "metadata": {},
   "outputs": [
    {
     "data": {
      "text/plain": [
       "idregistro         0\n",
       "banos              0\n",
       "habitaciones       0\n",
       "espacio_m2         0\n",
       "latitud            0\n",
       "longitud           0\n",
       "moneda             0\n",
       "parqueo           17\n",
       "tipo_vendedor    146\n",
       "precio_real        0\n",
       "user_id            0\n",
       "ubicacion          0\n",
       "dtype: int64"
      ]
     },
     "execution_count": 470,
     "metadata": {},
     "output_type": "execute_result"
    }
   ],
   "source": [
    "dfFiltradoSet.isnull().sum()"
   ]
  },
  {
   "cell_type": "markdown",
   "metadata": {},
   "source": [
    "#### Tratamiento Valores Nulos Parqueo\n",
    "Primero verificaremos los rangos de valores para la variable **parqueo**."
   ]
  },
  {
   "cell_type": "code",
   "execution_count": 471,
   "metadata": {},
   "outputs": [
    {
     "data": {
      "text/plain": [
       "Si     483\n",
       "No     104\n",
       "NaN     17\n",
       "Name: parqueo, dtype: int64"
      ]
     },
     "execution_count": 471,
     "metadata": {},
     "output_type": "execute_result"
    }
   ],
   "source": [
    "srFreqParqueo = pd.Series(dfFiltradoSet['parqueo']).value_counts(dropna = False)\n",
    "srFreqParqueo"
   ]
  },
  {
   "cell_type": "markdown",
   "metadata": {},
   "source": [
    "Vamos a utilizar la columna de descripcion para verificar si tiene la columna parqueo. De ser asi, se les colocara que si posee parqueo."
   ]
  },
  {
   "cell_type": "code",
   "execution_count": 472,
   "metadata": {},
   "outputs": [
    {
     "data": {
      "text/plain": [
       "1    497\n",
       "0    107\n",
       "Name: parqueo, dtype: int64"
      ]
     },
     "execution_count": 472,
     "metadata": {},
     "output_type": "execute_result"
    }
   ],
   "source": [
    "# Obtenemos la info de los registros que tienen parqueo como nulo.\n",
    "dfSinParqueo = dfFiltradoSet.loc[pd.isnull(dfFiltradoSet['parqueo']), ['idregistro', 'parqueo']]\n",
    "\n",
    "# Obtenemos la info de los regsitros del catalogo inicial solo para los registros de interes.\n",
    "dfCatalogo = dfAnalisisSet.loc[dfAnalisisSet.idregistro.isin(dfSinParqueo['idregistro']), ['idregistro', 'descripcion']]\n",
    "\n",
    "# Verificamos si existe palabra parqueo dentro de columna descripcion\n",
    "dfCatalogo['parqueo'] = [\"Si\" if (re.search('parqueo',str(descripcion).lower())) else \"No\" \\\n",
    "                         for descripcion in dfCatalogo['descripcion']]\n",
    "\n",
    "# Asignacion de los valores calculados para parqueo\n",
    "dfFiltradoSet = dfFiltradoSet.set_index(['idregistro'])\\\n",
    "    .combine_first(dfCatalogo[['idregistro', 'parqueo']].set_index(['idregistro']))\\\n",
    "    .reset_index()\n",
    "\n",
    "\n",
    "# Verificamos si existe palabra parqueo dentro de columna descripcion\n",
    "dfFiltradoSet['parqueo'] = [1 if (parqueo == \"Si\") else 0 for parqueo in dfFiltradoSet['parqueo']]\n",
    "\n",
    "# Verificacion del parqueo\n",
    "srFreqParqueo = pd.Series(dfFiltradoSet['parqueo']).value_counts(dropna = False)\n",
    "srFreqParqueo"
   ]
  },
  {
   "cell_type": "markdown",
   "metadata": {},
   "source": [
    "#### Tratamiento Valores Nulos Tipo Vendedor"
   ]
  },
  {
   "cell_type": "code",
   "execution_count": 473,
   "metadata": {},
   "outputs": [
    {
     "data": {
      "text/plain": [
       "Inmobiliaria     438\n",
       "NaN              146\n",
       "Dueño Directo     20\n",
       "Name: tipo_vendedor, dtype: int64"
      ]
     },
     "execution_count": 473,
     "metadata": {},
     "output_type": "execute_result"
    }
   ],
   "source": [
    "srFreqVendedor = pd.Series(dfFiltradoSet['tipo_vendedor']).value_counts(dropna = False)\n",
    "srFreqVendedor"
   ]
  },
  {
   "cell_type": "code",
   "execution_count": 474,
   "metadata": {},
   "outputs": [
    {
     "data": {
      "text/plain": [
       "Inmobiliaria     573\n",
       "Dueño Directo     31\n",
       "Name: tipo_vendedor, dtype: int64"
      ]
     },
     "execution_count": 474,
     "metadata": {},
     "output_type": "execute_result"
    }
   ],
   "source": [
    "# Obtenemos los codigos de vendedor donde el tipo_vendedor es nulo.\n",
    "dfSinVendedor = dfFiltradoSet.loc[pd.isnull(dfFiltradoSet['tipo_vendedor']), ['idregistro', 'tipo_vendedor', 'user_id']]\n",
    "\n",
    "# Calculamos la frecuencia de registros para cada user_id\n",
    "srFreqVendedores = pd.Series(dfSinVendedor['user_id']).value_counts(dropna = False)\n",
    "\n",
    "# Para aquellos user_id que solo poseen un registro se les asigna el valor de \"Dueno Directo\"\n",
    "intNumeroPivote = 1\n",
    "idxDuenos = srFreqVendedores[srFreqVendedores == intNumeroPivote].index\n",
    "dfSinVendedor['tipo_vendedor'] = [\"Dueño Directo\" if x else \"Inmobiliaria\" for x in dfSinVendedor.user_id.isin(idxDuenos)]\n",
    "\n",
    "# Asignacion de los valores calculados para tipo de vendedor\n",
    "dfFiltradoSet = dfFiltradoSet.set_index(['idregistro'])\\\n",
    "    .combine_first(dfSinVendedor[['idregistro', 'tipo_vendedor']].set_index(['idregistro']))\\\n",
    "    .reset_index()\n",
    "\n",
    "# Verificacion del tipo de vendedor\n",
    "srFreqParqueo = pd.Series(dfFiltradoSet['tipo_vendedor']).value_counts(dropna = False)\n",
    "srFreqParqueo"
   ]
  },
  {
   "cell_type": "markdown",
   "metadata": {},
   "source": [
    "### Data Normalization\n",
    "\n",
    "El objetivo es normalizar  la columna de espacio que tiene una escala mayor a diferencia de las otras variables. Para la normalizacion se utilizara Z score."
   ]
  },
  {
   "cell_type": "code",
   "execution_count": 475,
   "metadata": {},
   "outputs": [
    {
     "data": {
      "text/html": [
       "<div>\n",
       "<style scoped>\n",
       "    .dataframe tbody tr th:only-of-type {\n",
       "        vertical-align: middle;\n",
       "    }\n",
       "\n",
       "    .dataframe tbody tr th {\n",
       "        vertical-align: top;\n",
       "    }\n",
       "\n",
       "    .dataframe thead th {\n",
       "        text-align: right;\n",
       "    }\n",
       "</style>\n",
       "<table border=\"1\" class=\"dataframe\">\n",
       "  <thead>\n",
       "    <tr style=\"text-align: right;\">\n",
       "      <th></th>\n",
       "      <th>idregistro</th>\n",
       "      <th>banos</th>\n",
       "      <th>espacio_m2</th>\n",
       "      <th>habitaciones</th>\n",
       "      <th>latitud</th>\n",
       "      <th>longitud</th>\n",
       "      <th>moneda</th>\n",
       "      <th>parqueo</th>\n",
       "      <th>precio_real</th>\n",
       "      <th>tipo_vendedor</th>\n",
       "      <th>ubicacion</th>\n",
       "      <th>user_id</th>\n",
       "    </tr>\n",
       "  </thead>\n",
       "  <tbody>\n",
       "    <tr>\n",
       "      <th>0</th>\n",
       "      <td>1007688385</td>\n",
       "      <td>3.0</td>\n",
       "      <td>0.358714</td>\n",
       "      <td>3.0</td>\n",
       "      <td>14.591</td>\n",
       "      <td>-90.506</td>\n",
       "      <td>US$</td>\n",
       "      <td>1</td>\n",
       "      <td>2299310.00</td>\n",
       "      <td>Inmobiliaria</td>\n",
       "      <td>U1</td>\n",
       "      <td>55074295</td>\n",
       "    </tr>\n",
       "    <tr>\n",
       "      <th>1</th>\n",
       "      <td>1009069375</td>\n",
       "      <td>3.0</td>\n",
       "      <td>0.169205</td>\n",
       "      <td>2.0</td>\n",
       "      <td>14.635</td>\n",
       "      <td>-90.508</td>\n",
       "      <td>US$</td>\n",
       "      <td>1</td>\n",
       "      <td>1461100.00</td>\n",
       "      <td>Inmobiliaria</td>\n",
       "      <td>U2</td>\n",
       "      <td>63063400</td>\n",
       "    </tr>\n",
       "    <tr>\n",
       "      <th>2</th>\n",
       "      <td>1014321966</td>\n",
       "      <td>2.0</td>\n",
       "      <td>0.098139</td>\n",
       "      <td>1.0</td>\n",
       "      <td>14.600</td>\n",
       "      <td>-90.511</td>\n",
       "      <td>US$</td>\n",
       "      <td>1</td>\n",
       "      <td>1207330.00</td>\n",
       "      <td>Inmobiliaria</td>\n",
       "      <td>U3</td>\n",
       "      <td>34408653</td>\n",
       "    </tr>\n",
       "    <tr>\n",
       "      <th>3</th>\n",
       "      <td>1014324725</td>\n",
       "      <td>2.0</td>\n",
       "      <td>0.076142</td>\n",
       "      <td>2.0</td>\n",
       "      <td>14.593</td>\n",
       "      <td>-90.491</td>\n",
       "      <td>US$</td>\n",
       "      <td>1</td>\n",
       "      <td>922800.00</td>\n",
       "      <td>Inmobiliaria</td>\n",
       "      <td>U1</td>\n",
       "      <td>34408653</td>\n",
       "    </tr>\n",
       "    <tr>\n",
       "      <th>4</th>\n",
       "      <td>1023944274</td>\n",
       "      <td>2.0</td>\n",
       "      <td>0.091371</td>\n",
       "      <td>2.0</td>\n",
       "      <td>14.588</td>\n",
       "      <td>-90.503</td>\n",
       "      <td>US$</td>\n",
       "      <td>1</td>\n",
       "      <td>1647474.84</td>\n",
       "      <td>Inmobiliaria</td>\n",
       "      <td>U1</td>\n",
       "      <td>24012106</td>\n",
       "    </tr>\n",
       "    <tr>\n",
       "      <th>...</th>\n",
       "      <td>...</td>\n",
       "      <td>...</td>\n",
       "      <td>...</td>\n",
       "      <td>...</td>\n",
       "      <td>...</td>\n",
       "      <td>...</td>\n",
       "      <td>...</td>\n",
       "      <td>...</td>\n",
       "      <td>...</td>\n",
       "      <td>...</td>\n",
       "      <td>...</td>\n",
       "      <td>...</td>\n",
       "    </tr>\n",
       "    <tr>\n",
       "      <th>599</th>\n",
       "      <td>1100431708</td>\n",
       "      <td>1.0</td>\n",
       "      <td>0.062606</td>\n",
       "      <td>1.0</td>\n",
       "      <td>14.608</td>\n",
       "      <td>-90.478</td>\n",
       "      <td>US$</td>\n",
       "      <td>1</td>\n",
       "      <td>795915.00</td>\n",
       "      <td>Inmobiliaria</td>\n",
       "      <td>U4</td>\n",
       "      <td>80273618</td>\n",
       "    </tr>\n",
       "    <tr>\n",
       "      <th>600</th>\n",
       "      <td>1100432637</td>\n",
       "      <td>1.0</td>\n",
       "      <td>0.008460</td>\n",
       "      <td>1.0</td>\n",
       "      <td>14.640</td>\n",
       "      <td>-90.509</td>\n",
       "      <td>Q</td>\n",
       "      <td>0</td>\n",
       "      <td>315000.00</td>\n",
       "      <td>Inmobiliaria</td>\n",
       "      <td>U2</td>\n",
       "      <td>76700775</td>\n",
       "    </tr>\n",
       "    <tr>\n",
       "      <th>601</th>\n",
       "      <td>1100432947</td>\n",
       "      <td>2.0</td>\n",
       "      <td>0.148900</td>\n",
       "      <td>2.0</td>\n",
       "      <td>14.590</td>\n",
       "      <td>-90.501</td>\n",
       "      <td>US$</td>\n",
       "      <td>1</td>\n",
       "      <td>1191950.00</td>\n",
       "      <td>Inmobiliaria</td>\n",
       "      <td>U1</td>\n",
       "      <td>56587551</td>\n",
       "    </tr>\n",
       "    <tr>\n",
       "      <th>602</th>\n",
       "      <td>930546537</td>\n",
       "      <td>3.0</td>\n",
       "      <td>0.406091</td>\n",
       "      <td>2.0</td>\n",
       "      <td>14.595</td>\n",
       "      <td>-90.508</td>\n",
       "      <td>US$</td>\n",
       "      <td>1</td>\n",
       "      <td>2499250.00</td>\n",
       "      <td>Inmobiliaria</td>\n",
       "      <td>U1</td>\n",
       "      <td>20592158</td>\n",
       "    </tr>\n",
       "    <tr>\n",
       "      <th>603</th>\n",
       "      <td>998866453</td>\n",
       "      <td>4.0</td>\n",
       "      <td>0.549915</td>\n",
       "      <td>3.0</td>\n",
       "      <td>14.607</td>\n",
       "      <td>-90.470</td>\n",
       "      <td>US$</td>\n",
       "      <td>1</td>\n",
       "      <td>4921600.00</td>\n",
       "      <td>Inmobiliaria</td>\n",
       "      <td>U4</td>\n",
       "      <td>15462053</td>\n",
       "    </tr>\n",
       "  </tbody>\n",
       "</table>\n",
       "<p>604 rows × 12 columns</p>\n",
       "</div>"
      ],
      "text/plain": [
       "     idregistro  banos  espacio_m2  habitaciones  latitud  longitud moneda  \\\n",
       "0    1007688385    3.0    0.358714           3.0   14.591   -90.506    US$   \n",
       "1    1009069375    3.0    0.169205           2.0   14.635   -90.508    US$   \n",
       "2    1014321966    2.0    0.098139           1.0   14.600   -90.511    US$   \n",
       "3    1014324725    2.0    0.076142           2.0   14.593   -90.491    US$   \n",
       "4    1023944274    2.0    0.091371           2.0   14.588   -90.503    US$   \n",
       "..          ...    ...         ...           ...      ...       ...    ...   \n",
       "599  1100431708    1.0    0.062606           1.0   14.608   -90.478    US$   \n",
       "600  1100432637    1.0    0.008460           1.0   14.640   -90.509      Q   \n",
       "601  1100432947    2.0    0.148900           2.0   14.590   -90.501    US$   \n",
       "602   930546537    3.0    0.406091           2.0   14.595   -90.508    US$   \n",
       "603   998866453    4.0    0.549915           3.0   14.607   -90.470    US$   \n",
       "\n",
       "     parqueo  precio_real tipo_vendedor ubicacion   user_id  \n",
       "0          1   2299310.00  Inmobiliaria        U1  55074295  \n",
       "1          1   1461100.00  Inmobiliaria        U2  63063400  \n",
       "2          1   1207330.00  Inmobiliaria        U3  34408653  \n",
       "3          1    922800.00  Inmobiliaria        U1  34408653  \n",
       "4          1   1647474.84  Inmobiliaria        U1  24012106  \n",
       "..       ...          ...           ...       ...       ...  \n",
       "599        1    795915.00  Inmobiliaria        U4  80273618  \n",
       "600        0    315000.00  Inmobiliaria        U2  76700775  \n",
       "601        1   1191950.00  Inmobiliaria        U1  56587551  \n",
       "602        1   2499250.00  Inmobiliaria        U1  20592158  \n",
       "603        1   4921600.00  Inmobiliaria        U4  15462053  \n",
       "\n",
       "[604 rows x 12 columns]"
      ]
     },
     "execution_count": 475,
     "metadata": {},
     "output_type": "execute_result"
    }
   ],
   "source": [
    "dfFiltradoSet['espacio_m2'] = (dfFiltradoSet['espacio_m2'] - dfFiltradoSet['espacio_m2'].min()) / (dfFiltradoSet['espacio_m2'].max() - dfFiltradoSet['espacio_m2'].min())\n",
    "\n",
    "dfFiltradoSet"
   ]
  },
  {
   "cell_type": "markdown",
   "metadata": {},
   "source": [
    "### Hot Encoding\n",
    "\n",
    "Vamos a crear dummy variables para aquellas variables que son de tipo categorico. Primero verificaremos los tipos de datos del actual dataframe."
   ]
  },
  {
   "cell_type": "code",
   "execution_count": 476,
   "metadata": {},
   "outputs": [
    {
     "data": {
      "text/plain": [
       "idregistro        object\n",
       "banos            float64\n",
       "espacio_m2       float64\n",
       "habitaciones     float64\n",
       "latitud          float64\n",
       "longitud         float64\n",
       "moneda            object\n",
       "parqueo            int64\n",
       "precio_real      float64\n",
       "tipo_vendedor     object\n",
       "ubicacion         object\n",
       "user_id            int64\n",
       "dtype: object"
      ]
     },
     "execution_count": 476,
     "metadata": {},
     "output_type": "execute_result"
    }
   ],
   "source": [
    "dfFiltradoSet.dtypes"
   ]
  },
  {
   "cell_type": "code",
   "execution_count": 477,
   "metadata": {},
   "outputs": [
    {
     "data": {
      "text/plain": [
       "idregistro            object\n",
       "banos                float64\n",
       "espacio_m2           float64\n",
       "habitaciones         float64\n",
       "latitud              float64\n",
       "longitud             float64\n",
       "moneda                object\n",
       "parqueo                int64\n",
       "precio_real          float64\n",
       "tipo_vendedor         object\n",
       "ubicacion             object\n",
       "user_id                int64\n",
       "moneda_q               uint8\n",
       "moneda_d               uint8\n",
       "tipo_dueno             uint8\n",
       "tipo_inmobiliaria      uint8\n",
       "U1                     uint8\n",
       "U10                    uint8\n",
       "U2                     uint8\n",
       "U3                     uint8\n",
       "U4                     uint8\n",
       "U5                     uint8\n",
       "U6                     uint8\n",
       "U7                     uint8\n",
       "U8                     uint8\n",
       "U9                     uint8\n",
       "dtype: object"
      ]
     },
     "execution_count": 477,
     "metadata": {},
     "output_type": "execute_result"
    }
   ],
   "source": [
    "# Eliminamos variables dummy si ya existen\n",
    "dfFiltradoSet = dfFiltradoSet.drop(['moneda_q','moneda_d', 'tipo_inmobiliaria', 'tipo_dueno'], axis=1, errors='ignore')\n",
    "\n",
    "# Convertimos aquellas variables categoricas a variables dummy.\n",
    "dfFiltradoSet = pd.concat([dfFiltradoSet, pd.get_dummies(dfFiltradoSet['moneda'])\\\n",
    "                              .rename(columns={'Q': 'moneda_q', 'US$': 'moneda_d'})], axis = 1)\n",
    "\n",
    "dfFiltradoSet = pd.concat([dfFiltradoSet, pd.get_dummies(dfFiltradoSet['tipo_vendedor'])\\\n",
    "                              .rename(columns={'Inmobiliaria': 'tipo_inmobiliaria', \n",
    "                                               'Dueño Directo': 'tipo_dueno'})], axis = 1)\n",
    "\n",
    "dfFiltradoSet = pd.concat([dfFiltradoSet, pd.get_dummies(dfFiltradoSet['ubicacion'])], axis = 1)\n",
    "\n",
    "# Verificamos las variables resultantes\n",
    "dfFiltradoSet.dtypes"
   ]
  },
  {
   "cell_type": "markdown",
   "metadata": {},
   "source": [
    "### Seleccion Variables Modelo"
   ]
  },
  {
   "cell_type": "code",
   "execution_count": 478,
   "metadata": {},
   "outputs": [
    {
     "data": {
      "text/plain": [
       "idregistro            object\n",
       "banos                float64\n",
       "espacio_m2           float64\n",
       "habitaciones         float64\n",
       "parqueo                int64\n",
       "precio_real          float64\n",
       "moneda_q               uint8\n",
       "moneda_d               uint8\n",
       "tipo_dueno             uint8\n",
       "tipo_inmobiliaria      uint8\n",
       "U1                     uint8\n",
       "U10                    uint8\n",
       "U2                     uint8\n",
       "U3                     uint8\n",
       "U4                     uint8\n",
       "U5                     uint8\n",
       "U6                     uint8\n",
       "U7                     uint8\n",
       "U8                     uint8\n",
       "U9                     uint8\n",
       "dtype: object"
      ]
     },
     "execution_count": 478,
     "metadata": {},
     "output_type": "execute_result"
    }
   ],
   "source": [
    "# Generar las variables de ubicacion\n",
    "variables_ubicacion =[\"U\" + str(ubicacion) for ubicacion in [*range(1, len(dfMapeo) + 1)]]\n",
    "variables_set = ['idregistro', 'banos', 'espacio_m2', \n",
    "                               'habitaciones', 'moneda_q', 'moneda_d',\n",
    "                               'parqueo', 'tipo_dueno', 'tipo_inmobiliaria', \n",
    "                               'precio_real'\n",
    "                              ]\n",
    "# Seleccion de las variables\n",
    "dfModeloSet = dfFiltradoSet[dfFiltradoSet.columns.intersection(variables_ubicacion + variables_set)]\n",
    "\n",
    "# Verificacion de las variables\n",
    "dfModeloSet.dtypes"
   ]
  },
  {
   "cell_type": "markdown",
   "metadata": {},
   "source": [
    "## Construccion Modelo"
   ]
  },
  {
   "cell_type": "code",
   "execution_count": 479,
   "metadata": {},
   "outputs": [
    {
     "data": {
      "text/html": [
       "<div>\n",
       "<style scoped>\n",
       "    .dataframe tbody tr th:only-of-type {\n",
       "        vertical-align: middle;\n",
       "    }\n",
       "\n",
       "    .dataframe tbody tr th {\n",
       "        vertical-align: top;\n",
       "    }\n",
       "\n",
       "    .dataframe thead th {\n",
       "        text-align: right;\n",
       "    }\n",
       "</style>\n",
       "<table border=\"1\" class=\"dataframe\">\n",
       "  <thead>\n",
       "    <tr style=\"text-align: right;\">\n",
       "      <th></th>\n",
       "      <th>banos</th>\n",
       "      <th>espacio_m2</th>\n",
       "      <th>habitaciones</th>\n",
       "      <th>parqueo</th>\n",
       "      <th>moneda_q</th>\n",
       "      <th>moneda_d</th>\n",
       "      <th>tipo_dueno</th>\n",
       "      <th>tipo_inmobiliaria</th>\n",
       "      <th>U1</th>\n",
       "      <th>U10</th>\n",
       "      <th>U2</th>\n",
       "      <th>U3</th>\n",
       "      <th>U4</th>\n",
       "      <th>U5</th>\n",
       "      <th>U6</th>\n",
       "      <th>U7</th>\n",
       "      <th>U8</th>\n",
       "      <th>U9</th>\n",
       "    </tr>\n",
       "  </thead>\n",
       "  <tbody>\n",
       "    <tr>\n",
       "      <th>561</th>\n",
       "      <td>3.0</td>\n",
       "      <td>0.321489</td>\n",
       "      <td>3.0</td>\n",
       "      <td>1</td>\n",
       "      <td>0</td>\n",
       "      <td>1</td>\n",
       "      <td>0</td>\n",
       "      <td>1</td>\n",
       "      <td>0</td>\n",
       "      <td>0</td>\n",
       "      <td>1</td>\n",
       "      <td>0</td>\n",
       "      <td>0</td>\n",
       "      <td>0</td>\n",
       "      <td>0</td>\n",
       "      <td>0</td>\n",
       "      <td>0</td>\n",
       "      <td>0</td>\n",
       "    </tr>\n",
       "    <tr>\n",
       "      <th>581</th>\n",
       "      <td>2.0</td>\n",
       "      <td>0.240271</td>\n",
       "      <td>3.0</td>\n",
       "      <td>1</td>\n",
       "      <td>0</td>\n",
       "      <td>1</td>\n",
       "      <td>0</td>\n",
       "      <td>1</td>\n",
       "      <td>0</td>\n",
       "      <td>0</td>\n",
       "      <td>1</td>\n",
       "      <td>0</td>\n",
       "      <td>0</td>\n",
       "      <td>0</td>\n",
       "      <td>0</td>\n",
       "      <td>0</td>\n",
       "      <td>0</td>\n",
       "      <td>0</td>\n",
       "    </tr>\n",
       "    <tr>\n",
       "      <th>393</th>\n",
       "      <td>1.0</td>\n",
       "      <td>0.050761</td>\n",
       "      <td>2.0</td>\n",
       "      <td>1</td>\n",
       "      <td>0</td>\n",
       "      <td>1</td>\n",
       "      <td>0</td>\n",
       "      <td>1</td>\n",
       "      <td>1</td>\n",
       "      <td>0</td>\n",
       "      <td>0</td>\n",
       "      <td>0</td>\n",
       "      <td>0</td>\n",
       "      <td>0</td>\n",
       "      <td>0</td>\n",
       "      <td>0</td>\n",
       "      <td>0</td>\n",
       "      <td>0</td>\n",
       "    </tr>\n",
       "    <tr>\n",
       "      <th>119</th>\n",
       "      <td>2.0</td>\n",
       "      <td>0.084602</td>\n",
       "      <td>2.0</td>\n",
       "      <td>1</td>\n",
       "      <td>1</td>\n",
       "      <td>0</td>\n",
       "      <td>0</td>\n",
       "      <td>1</td>\n",
       "      <td>0</td>\n",
       "      <td>0</td>\n",
       "      <td>0</td>\n",
       "      <td>0</td>\n",
       "      <td>0</td>\n",
       "      <td>0</td>\n",
       "      <td>0</td>\n",
       "      <td>0</td>\n",
       "      <td>0</td>\n",
       "      <td>1</td>\n",
       "    </tr>\n",
       "    <tr>\n",
       "      <th>309</th>\n",
       "      <td>4.0</td>\n",
       "      <td>0.854484</td>\n",
       "      <td>4.0</td>\n",
       "      <td>1</td>\n",
       "      <td>0</td>\n",
       "      <td>1</td>\n",
       "      <td>0</td>\n",
       "      <td>1</td>\n",
       "      <td>0</td>\n",
       "      <td>0</td>\n",
       "      <td>0</td>\n",
       "      <td>0</td>\n",
       "      <td>1</td>\n",
       "      <td>0</td>\n",
       "      <td>0</td>\n",
       "      <td>0</td>\n",
       "      <td>0</td>\n",
       "      <td>0</td>\n",
       "    </tr>\n",
       "    <tr>\n",
       "      <th>...</th>\n",
       "      <td>...</td>\n",
       "      <td>...</td>\n",
       "      <td>...</td>\n",
       "      <td>...</td>\n",
       "      <td>...</td>\n",
       "      <td>...</td>\n",
       "      <td>...</td>\n",
       "      <td>...</td>\n",
       "      <td>...</td>\n",
       "      <td>...</td>\n",
       "      <td>...</td>\n",
       "      <td>...</td>\n",
       "      <td>...</td>\n",
       "      <td>...</td>\n",
       "      <td>...</td>\n",
       "      <td>...</td>\n",
       "      <td>...</td>\n",
       "      <td>...</td>\n",
       "    </tr>\n",
       "    <tr>\n",
       "      <th>597</th>\n",
       "      <td>2.0</td>\n",
       "      <td>0.296108</td>\n",
       "      <td>2.0</td>\n",
       "      <td>1</td>\n",
       "      <td>1</td>\n",
       "      <td>0</td>\n",
       "      <td>0</td>\n",
       "      <td>1</td>\n",
       "      <td>0</td>\n",
       "      <td>0</td>\n",
       "      <td>0</td>\n",
       "      <td>0</td>\n",
       "      <td>1</td>\n",
       "      <td>0</td>\n",
       "      <td>0</td>\n",
       "      <td>0</td>\n",
       "      <td>0</td>\n",
       "      <td>0</td>\n",
       "    </tr>\n",
       "    <tr>\n",
       "      <th>127</th>\n",
       "      <td>2.0</td>\n",
       "      <td>0.133672</td>\n",
       "      <td>2.0</td>\n",
       "      <td>0</td>\n",
       "      <td>0</td>\n",
       "      <td>1</td>\n",
       "      <td>0</td>\n",
       "      <td>1</td>\n",
       "      <td>1</td>\n",
       "      <td>0</td>\n",
       "      <td>0</td>\n",
       "      <td>0</td>\n",
       "      <td>0</td>\n",
       "      <td>0</td>\n",
       "      <td>0</td>\n",
       "      <td>0</td>\n",
       "      <td>0</td>\n",
       "      <td>0</td>\n",
       "    </tr>\n",
       "    <tr>\n",
       "      <th>425</th>\n",
       "      <td>2.0</td>\n",
       "      <td>0.221658</td>\n",
       "      <td>3.0</td>\n",
       "      <td>0</td>\n",
       "      <td>0</td>\n",
       "      <td>1</td>\n",
       "      <td>0</td>\n",
       "      <td>1</td>\n",
       "      <td>1</td>\n",
       "      <td>0</td>\n",
       "      <td>0</td>\n",
       "      <td>0</td>\n",
       "      <td>0</td>\n",
       "      <td>0</td>\n",
       "      <td>0</td>\n",
       "      <td>0</td>\n",
       "      <td>0</td>\n",
       "      <td>0</td>\n",
       "    </tr>\n",
       "    <tr>\n",
       "      <th>408</th>\n",
       "      <td>2.0</td>\n",
       "      <td>0.169205</td>\n",
       "      <td>2.0</td>\n",
       "      <td>1</td>\n",
       "      <td>0</td>\n",
       "      <td>1</td>\n",
       "      <td>1</td>\n",
       "      <td>0</td>\n",
       "      <td>0</td>\n",
       "      <td>0</td>\n",
       "      <td>0</td>\n",
       "      <td>1</td>\n",
       "      <td>0</td>\n",
       "      <td>0</td>\n",
       "      <td>0</td>\n",
       "      <td>0</td>\n",
       "      <td>0</td>\n",
       "      <td>0</td>\n",
       "    </tr>\n",
       "    <tr>\n",
       "      <th>43</th>\n",
       "      <td>2.0</td>\n",
       "      <td>0.169205</td>\n",
       "      <td>3.0</td>\n",
       "      <td>1</td>\n",
       "      <td>0</td>\n",
       "      <td>1</td>\n",
       "      <td>0</td>\n",
       "      <td>1</td>\n",
       "      <td>0</td>\n",
       "      <td>0</td>\n",
       "      <td>0</td>\n",
       "      <td>1</td>\n",
       "      <td>0</td>\n",
       "      <td>0</td>\n",
       "      <td>0</td>\n",
       "      <td>0</td>\n",
       "      <td>0</td>\n",
       "      <td>0</td>\n",
       "    </tr>\n",
       "  </tbody>\n",
       "</table>\n",
       "<p>422 rows × 18 columns</p>\n",
       "</div>"
      ],
      "text/plain": [
       "     banos  espacio_m2  habitaciones  parqueo  moneda_q  moneda_d  tipo_dueno  \\\n",
       "561    3.0    0.321489           3.0        1         0         1           0   \n",
       "581    2.0    0.240271           3.0        1         0         1           0   \n",
       "393    1.0    0.050761           2.0        1         0         1           0   \n",
       "119    2.0    0.084602           2.0        1         1         0           0   \n",
       "309    4.0    0.854484           4.0        1         0         1           0   \n",
       "..     ...         ...           ...      ...       ...       ...         ...   \n",
       "597    2.0    0.296108           2.0        1         1         0           0   \n",
       "127    2.0    0.133672           2.0        0         0         1           0   \n",
       "425    2.0    0.221658           3.0        0         0         1           0   \n",
       "408    2.0    0.169205           2.0        1         0         1           1   \n",
       "43     2.0    0.169205           3.0        1         0         1           0   \n",
       "\n",
       "     tipo_inmobiliaria  U1  U10  U2  U3  U4  U5  U6  U7  U8  U9  \n",
       "561                  1   0    0   1   0   0   0   0   0   0   0  \n",
       "581                  1   0    0   1   0   0   0   0   0   0   0  \n",
       "393                  1   1    0   0   0   0   0   0   0   0   0  \n",
       "119                  1   0    0   0   0   0   0   0   0   0   1  \n",
       "309                  1   0    0   0   0   1   0   0   0   0   0  \n",
       "..                 ...  ..  ...  ..  ..  ..  ..  ..  ..  ..  ..  \n",
       "597                  1   0    0   0   0   1   0   0   0   0   0  \n",
       "127                  1   1    0   0   0   0   0   0   0   0   0  \n",
       "425                  1   1    0   0   0   0   0   0   0   0   0  \n",
       "408                  0   0    0   0   1   0   0   0   0   0   0  \n",
       "43                   1   0    0   0   1   0   0   0   0   0   0  \n",
       "\n",
       "[422 rows x 18 columns]"
      ]
     },
     "execution_count": 479,
     "metadata": {},
     "output_type": "execute_result"
    }
   ],
   "source": [
    "# Seleccionamos las variables predictoras\n",
    "dfPredictors = dfModeloSet.loc[:, ~dfModeloSet.columns.isin(['precio_real', 'idregistro'])]\n",
    "\n",
    "# Seleccionamos la variable dependiente\n",
    "Y = dfModeloSet['precio_real']\n",
    "\n",
    "# Separamos los datos para test y training\n",
    "xTrain, xTest, yTrain, yTest = train_test_split(dfPredictors, Y, test_size = 0.3, random_state=1505)\n",
    "\n",
    "xTrain"
   ]
  },
  {
   "cell_type": "markdown",
   "metadata": {},
   "source": [
    "### Regresion Lineal\n",
    "\n",
    "Se crea modelo de regresion lineal multivariable utilizando los datos de entrenamiento. Verificamos que obtenemos los valores de coeficiente y de intercepto."
   ]
  },
  {
   "cell_type": "code",
   "execution_count": 480,
   "metadata": {},
   "outputs": [
    {
     "data": {
      "text/plain": [
       "array([ 121003.66613993, 6740105.95442945,  -36806.84919516,\n",
       "        215472.41520143,  -83433.44189811,   83433.44189811,\n",
       "        -32134.04273083,   32134.04273083,  237312.07882266,\n",
       "       -154421.72417375,  101325.18067461,  -34590.57210463,\n",
       "        339124.35494721,  -92636.68992206, -176724.55251172,\n",
       "       -123180.78495983,  177466.01757796, -273673.30835044])"
      ]
     },
     "execution_count": 480,
     "metadata": {},
     "output_type": "execute_result"
    }
   ],
   "source": [
    "# Construccion del modelo\n",
    "linearRegModel = LinearRegression()\n",
    "\n",
    "linearRegModel.fit(xTrain, yTrain)\n",
    "\n",
    "# Verificacion de coeficientes\n",
    "linearRegModel.coef_"
   ]
  },
  {
   "cell_type": "code",
   "execution_count": 481,
   "metadata": {},
   "outputs": [
    {
     "data": {
      "text/plain": [
       "-117967.1053825689"
      ]
     },
     "execution_count": 481,
     "metadata": {},
     "output_type": "execute_result"
    }
   ],
   "source": [
    "# Verificacion de intercepto\n",
    "linearRegModel.intercept_"
   ]
  },
  {
   "cell_type": "markdown",
   "metadata": {},
   "source": [
    "#### Validacion"
   ]
  },
  {
   "cell_type": "code",
   "execution_count": 482,
   "metadata": {},
   "outputs": [
    {
     "data": {
      "text/plain": [
       "<matplotlib.axes._subplots.AxesSubplot at 0x201a29d8888>"
      ]
     },
     "execution_count": 482,
     "metadata": {},
     "output_type": "execute_result"
    },
    {
     "data": {
      "image/png": "[encoded data removed]",
      "text/plain": [
       "<Figure size 432x288 with 1 Axes>"
      ]
     },
     "metadata": {
      "needs_background": "light"
     },
     "output_type": "display_data"
    }
   ],
   "source": [
    "# Obtenemos las predicciones del modelo para los datos test\n",
    "yHat = linearRegModel.predict(xTest)\n",
    "\n",
    "# Verificamos con un grafico de distribucion la prediccion del modelo\n",
    "ax1 = sns.distplot(yTest, hist = False, color = \"r\", label = \"Actual Price\")\n",
    "sns.distplot(yHat, hist = False, color = \"b\", label = \"Fitted Price\", ax = ax1)"
   ]
  },
  {
   "cell_type": "markdown",
   "metadata": {},
   "source": [
    "#### MSE & R^2"
   ]
  },
  {
   "cell_type": "code",
   "execution_count": 483,
   "metadata": {},
   "outputs": [
    {
     "data": {
      "text/plain": [
       "574324746665.7592"
      ]
     },
     "execution_count": 483,
     "metadata": {},
     "output_type": "execute_result"
    }
   ],
   "source": [
    "# Calculo de metricas\n",
    "mseLinearRegModel = mean_squared_error(yTest, yHat)\n",
    "r2LinearRegModel = r2_score(yTest, yHat)\n",
    "\n",
    "mseLinearRegModel"
   ]
  },
  {
   "cell_type": "code",
   "execution_count": 484,
   "metadata": {},
   "outputs": [
    {
     "data": {
      "text/plain": [
       "0.7618048837178678"
      ]
     },
     "execution_count": 484,
     "metadata": {},
     "output_type": "execute_result"
    }
   ],
   "source": [
    "r2LinearRegModel"
   ]
  },
  {
   "cell_type": "markdown",
   "metadata": {},
   "source": [
    "### Random Forest Regressor"
   ]
  },
  {
   "cell_type": "code",
   "execution_count": 485,
   "metadata": {},
   "outputs": [
    {
     "data": {
      "text/plain": [
       "RandomForestRegressor(max_depth=20, n_estimators=200, random_state=1505)"
      ]
     },
     "execution_count": 485,
     "metadata": {},
     "output_type": "execute_result"
    }
   ],
   "source": [
    "# Construccion del modelo\n",
    "randomForestModel = RandomForestRegressor(n_estimators = 200, max_depth = 20, random_state = 1505)\n",
    "\n",
    "randomForestModel.fit(xTrain, yTrain)"
   ]
  },
  {
   "cell_type": "markdown",
   "metadata": {},
   "source": [
    "#### Validacion"
   ]
  },
  {
   "cell_type": "code",
   "execution_count": 486,
   "metadata": {},
   "outputs": [
    {
     "data": {
      "text/plain": [
       "<matplotlib.axes._subplots.AxesSubplot at 0x201a28eca48>"
      ]
     },
     "execution_count": 486,
     "metadata": {},
     "output_type": "execute_result"
    },
    {
     "data": {
      "image/png": "[encoded data removed]",
      "text/plain": [
       "<Figure size 432x288 with 1 Axes>"
      ]
     },
     "metadata": {
      "needs_background": "light"
     },
     "output_type": "display_data"
    }
   ],
   "source": [
    "# Obtenemos las predicciones del modelo para los datos test\n",
    "yHat = randomForestModel.predict(xTest)\n",
    "\n",
    "# Verificamos con un grafico de distribucion la prediccion del modelo\n",
    "ax1 = sns.distplot(yTest, hist = False, color = \"r\", label = \"Actual Price\")\n",
    "sns.distplot(yHat, hist = False, color = \"b\", label = \"Fitted Price\", ax = ax1)"
   ]
  },
  {
   "cell_type": "markdown",
   "metadata": {},
   "source": [
    "#### MSE & R^2"
   ]
  },
  {
   "cell_type": "code",
   "execution_count": 487,
   "metadata": {},
   "outputs": [
    {
     "data": {
      "text/plain": [
       "530199105131.402"
      ]
     },
     "execution_count": 487,
     "metadata": {},
     "output_type": "execute_result"
    }
   ],
   "source": [
    "# Calculo de metricas\n",
    "mseRandomForestModel = mean_squared_error(yTest, yHat)\n",
    "r2RandomForestModel = r2_score(yTest, yHat)\n",
    "\n",
    "mseRandomForestModel"
   ]
  },
  {
   "cell_type": "code",
   "execution_count": 488,
   "metadata": {},
   "outputs": [
    {
     "data": {
      "text/plain": [
       "0.7801055269990752"
      ]
     },
     "execution_count": 488,
     "metadata": {},
     "output_type": "execute_result"
    }
   ],
   "source": [
    "r2RandomForestModel"
   ]
  }
 ],
 "metadata": {
  "kernelspec": {
   "display_name": "Python 3",
   "language": "python",
   "name": "python3"
  },
  "language_info": {
   "codemirror_mode": {
    "name": "ipython",
    "version": 3
   },
   "file_extension": ".py",
   "mimetype": "text/x-python",
   "name": "python",
   "nbconvert_exporter": "python",
   "pygments_lexer": "ipython3",
   "version": "3.7.6"
  },
  "toc": {
   "base_numbering": 1,
   "nav_menu": {},
   "number_sections": true,
   "sideBar": false,
   "skip_h1_title": false,
   "title_cell": "Table of Contents",
   "title_sidebar": "Contents",
   "toc_cell": false,
   "toc_position": {},
   "toc_section_display": true,
   "toc_window_display": true
  }
 },
 "nbformat": 4,
 "nbformat_minor": 4
}
