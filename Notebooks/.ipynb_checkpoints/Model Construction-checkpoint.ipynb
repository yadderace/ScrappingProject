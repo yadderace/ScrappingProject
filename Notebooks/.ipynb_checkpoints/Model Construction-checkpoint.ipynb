{
 "cells": [
  {
   "cell_type": "markdown",
   "metadata": {},
   "source": [
    "# Data Wrangling"
   ]
  },
  {
   "cell_type": "markdown",
   "metadata": {},
   "source": [
    "## Librerias\n",
    "\n",
    "### Instalacion"
   ]
  },
  {
   "cell_type": "code",
   "execution_count": null,
   "metadata": {},
   "outputs": [],
   "source": []
  },
  {
   "cell_type": "markdown",
   "metadata": {},
   "source": [
    "### Importacion"
   ]
  },
  {
   "cell_type": "code",
   "execution_count": 81,
   "metadata": {},
   "outputs": [],
   "source": [
    "import re\n",
    "import pandas as pd\n",
    "import numpy as np\n",
    "import seaborn as sns\n",
    "\n",
    "from sklearn.cluster import KMeans\n",
    "from sklearn.model_selection import train_test_split\n",
    "from sklearn.linear_model import LinearRegression\n",
    "from sklearn.ensemble import RandomForestRegressor\n",
    "from sklearn.metrics import mean_squared_error, r2_score"
   ]
  },
  {
   "cell_type": "markdown",
   "metadata": {},
   "source": [
    "## Carga Datos"
   ]
  },
  {
   "cell_type": "code",
   "execution_count": 82,
   "metadata": {},
   "outputs": [
    {
     "data": {
      "text/html": [
       "<div>\n",
       "<style scoped>\n",
       "    .dataframe tbody tr th:only-of-type {\n",
       "        vertical-align: middle;\n",
       "    }\n",
       "\n",
       "    .dataframe tbody tr th {\n",
       "        vertical-align: top;\n",
       "    }\n",
       "\n",
       "    .dataframe thead th {\n",
       "        text-align: right;\n",
       "    }\n",
       "</style>\n",
       "<table border=\"1\" class=\"dataframe\">\n",
       "  <thead>\n",
       "    <tr style=\"text-align: right;\">\n",
       "      <th></th>\n",
       "      <th>codigoencabezado</th>\n",
       "      <th>idregistro</th>\n",
       "      <th>linkpagina</th>\n",
       "      <th>fecharegistro</th>\n",
       "      <th>fechalimpieza</th>\n",
       "      <th>administracion</th>\n",
       "      <th>amueblado</th>\n",
       "      <th>antiguedad</th>\n",
       "      <th>banos</th>\n",
       "      <th>habitaciones</th>\n",
       "      <th>...</th>\n",
       "      <th>moneda</th>\n",
       "      <th>tipo</th>\n",
       "      <th>tipo_vendedor</th>\n",
       "      <th>favoritos</th>\n",
       "      <th>titulo</th>\n",
       "      <th>fecha_creacion</th>\n",
       "      <th>valido_hasta</th>\n",
       "      <th>descripcion</th>\n",
       "      <th>partner_code</th>\n",
       "      <th>user_id</th>\n",
       "    </tr>\n",
       "  </thead>\n",
       "  <tbody>\n",
       "    <tr>\n",
       "      <th>count</th>\n",
       "      <td>5569.000000</td>\n",
       "      <td>5.569000e+03</td>\n",
       "      <td>5569</td>\n",
       "      <td>5569</td>\n",
       "      <td>5569</td>\n",
       "      <td>1190.000000</td>\n",
       "      <td>3310</td>\n",
       "      <td>2627</td>\n",
       "      <td>5561.000000</td>\n",
       "      <td>5538.000000</td>\n",
       "      <td>...</td>\n",
       "      <td>5569</td>\n",
       "      <td>5561</td>\n",
       "      <td>4300</td>\n",
       "      <td>5569.000000</td>\n",
       "      <td>5569</td>\n",
       "      <td>5569</td>\n",
       "      <td>5569</td>\n",
       "      <td>5569</td>\n",
       "      <td>1107</td>\n",
       "      <td>5.569000e+03</td>\n",
       "    </tr>\n",
       "    <tr>\n",
       "      <th>unique</th>\n",
       "      <td>NaN</td>\n",
       "      <td>NaN</td>\n",
       "      <td>2743</td>\n",
       "      <td>15</td>\n",
       "      <td>2</td>\n",
       "      <td>NaN</td>\n",
       "      <td>2</td>\n",
       "      <td>8</td>\n",
       "      <td>NaN</td>\n",
       "      <td>NaN</td>\n",
       "      <td>...</td>\n",
       "      <td>2</td>\n",
       "      <td>6</td>\n",
       "      <td>3</td>\n",
       "      <td>NaN</td>\n",
       "      <td>2542</td>\n",
       "      <td>2739</td>\n",
       "      <td>2453</td>\n",
       "      <td>2748</td>\n",
       "      <td>754</td>\n",
       "      <td>NaN</td>\n",
       "    </tr>\n",
       "    <tr>\n",
       "      <th>top</th>\n",
       "      <td>NaN</td>\n",
       "      <td>NaN</td>\n",
       "      <td>https://www.olx.com.gt/item/apartamento-en-ven...</td>\n",
       "      <td>2020-06-25</td>\n",
       "      <td>2020-07-11</td>\n",
       "      <td>NaN</td>\n",
       "      <td>No</td>\n",
       "      <td>Hasta 5 años</td>\n",
       "      <td>NaN</td>\n",
       "      <td>NaN</td>\n",
       "      <td>...</td>\n",
       "      <td>US$</td>\n",
       "      <td>Apartamento</td>\n",
       "      <td>Inmobiliaria</td>\n",
       "      <td>NaN</td>\n",
       "      <td>Alquilo Apartamento en Villa Risho, zona 14 | ...</td>\n",
       "      <td>2020-05-14T17:23:53-06:00</td>\n",
       "      <td>2020-10-14T05:23:05-06:00</td>\n",
       "      <td>Fácil acceso por Villa Nueva, Petapa, Villa Ca...</td>\n",
       "      <td>PAA-011-03-20-2-R</td>\n",
       "      <td>NaN</td>\n",
       "    </tr>\n",
       "    <tr>\n",
       "      <th>freq</th>\n",
       "      <td>NaN</td>\n",
       "      <td>NaN</td>\n",
       "      <td>15</td>\n",
       "      <td>610</td>\n",
       "      <td>5080</td>\n",
       "      <td>NaN</td>\n",
       "      <td>2584</td>\n",
       "      <td>859</td>\n",
       "      <td>NaN</td>\n",
       "      <td>NaN</td>\n",
       "      <td>...</td>\n",
       "      <td>3546</td>\n",
       "      <td>5422</td>\n",
       "      <td>3616</td>\n",
       "      <td>NaN</td>\n",
       "      <td>20</td>\n",
       "      <td>15</td>\n",
       "      <td>20</td>\n",
       "      <td>17</td>\n",
       "      <td>9</td>\n",
       "      <td>NaN</td>\n",
       "    </tr>\n",
       "    <tr>\n",
       "      <th>mean</th>\n",
       "      <td>2785.839828</td>\n",
       "      <td>1.096580e+09</td>\n",
       "      <td>NaN</td>\n",
       "      <td>NaN</td>\n",
       "      <td>NaN</td>\n",
       "      <td>510.795798</td>\n",
       "      <td>NaN</td>\n",
       "      <td>NaN</td>\n",
       "      <td>1.959180</td>\n",
       "      <td>2.302636</td>\n",
       "      <td>...</td>\n",
       "      <td>NaN</td>\n",
       "      <td>NaN</td>\n",
       "      <td>NaN</td>\n",
       "      <td>2.268630</td>\n",
       "      <td>NaN</td>\n",
       "      <td>NaN</td>\n",
       "      <td>NaN</td>\n",
       "      <td>NaN</td>\n",
       "      <td>NaN</td>\n",
       "      <td>3.910065e+07</td>\n",
       "    </tr>\n",
       "    <tr>\n",
       "      <th>std</th>\n",
       "      <td>1608.009192</td>\n",
       "      <td>1.308418e+07</td>\n",
       "      <td>NaN</td>\n",
       "      <td>NaN</td>\n",
       "      <td>NaN</td>\n",
       "      <td>3409.053475</td>\n",
       "      <td>NaN</td>\n",
       "      <td>NaN</td>\n",
       "      <td>1.014795</td>\n",
       "      <td>0.802603</td>\n",
       "      <td>...</td>\n",
       "      <td>NaN</td>\n",
       "      <td>NaN</td>\n",
       "      <td>NaN</td>\n",
       "      <td>11.134723</td>\n",
       "      <td>NaN</td>\n",
       "      <td>NaN</td>\n",
       "      <td>NaN</td>\n",
       "      <td>NaN</td>\n",
       "      <td>NaN</td>\n",
       "      <td>2.626175e+07</td>\n",
       "    </tr>\n",
       "    <tr>\n",
       "      <th>min</th>\n",
       "      <td>1.000000</td>\n",
       "      <td>9.305465e+08</td>\n",
       "      <td>NaN</td>\n",
       "      <td>NaN</td>\n",
       "      <td>NaN</td>\n",
       "      <td>0.000000</td>\n",
       "      <td>NaN</td>\n",
       "      <td>NaN</td>\n",
       "      <td>0.000000</td>\n",
       "      <td>1.000000</td>\n",
       "      <td>...</td>\n",
       "      <td>NaN</td>\n",
       "      <td>NaN</td>\n",
       "      <td>NaN</td>\n",
       "      <td>0.000000</td>\n",
       "      <td>NaN</td>\n",
       "      <td>NaN</td>\n",
       "      <td>NaN</td>\n",
       "      <td>NaN</td>\n",
       "      <td>NaN</td>\n",
       "      <td>2.843723e+06</td>\n",
       "    </tr>\n",
       "    <tr>\n",
       "      <th>25%</th>\n",
       "      <td>1394.000000</td>\n",
       "      <td>1.100259e+09</td>\n",
       "      <td>NaN</td>\n",
       "      <td>NaN</td>\n",
       "      <td>NaN</td>\n",
       "      <td>0.000000</td>\n",
       "      <td>NaN</td>\n",
       "      <td>NaN</td>\n",
       "      <td>1.000000</td>\n",
       "      <td>2.000000</td>\n",
       "      <td>...</td>\n",
       "      <td>NaN</td>\n",
       "      <td>NaN</td>\n",
       "      <td>NaN</td>\n",
       "      <td>0.000000</td>\n",
       "      <td>NaN</td>\n",
       "      <td>NaN</td>\n",
       "      <td>NaN</td>\n",
       "      <td>NaN</td>\n",
       "      <td>NaN</td>\n",
       "      <td>1.569436e+07</td>\n",
       "    </tr>\n",
       "    <tr>\n",
       "      <th>50%</th>\n",
       "      <td>2786.000000</td>\n",
       "      <td>1.100378e+09</td>\n",
       "      <td>NaN</td>\n",
       "      <td>NaN</td>\n",
       "      <td>NaN</td>\n",
       "      <td>0.000000</td>\n",
       "      <td>NaN</td>\n",
       "      <td>NaN</td>\n",
       "      <td>2.000000</td>\n",
       "      <td>2.000000</td>\n",
       "      <td>...</td>\n",
       "      <td>NaN</td>\n",
       "      <td>NaN</td>\n",
       "      <td>NaN</td>\n",
       "      <td>1.000000</td>\n",
       "      <td>NaN</td>\n",
       "      <td>NaN</td>\n",
       "      <td>NaN</td>\n",
       "      <td>NaN</td>\n",
       "      <td>NaN</td>\n",
       "      <td>2.745098e+07</td>\n",
       "    </tr>\n",
       "    <tr>\n",
       "      <th>75%</th>\n",
       "      <td>4178.000000</td>\n",
       "      <td>1.100417e+09</td>\n",
       "      <td>NaN</td>\n",
       "      <td>NaN</td>\n",
       "      <td>NaN</td>\n",
       "      <td>111.000000</td>\n",
       "      <td>NaN</td>\n",
       "      <td>NaN</td>\n",
       "      <td>2.000000</td>\n",
       "      <td>3.000000</td>\n",
       "      <td>...</td>\n",
       "      <td>NaN</td>\n",
       "      <td>NaN</td>\n",
       "      <td>NaN</td>\n",
       "      <td>2.000000</td>\n",
       "      <td>NaN</td>\n",
       "      <td>NaN</td>\n",
       "      <td>NaN</td>\n",
       "      <td>NaN</td>\n",
       "      <td>NaN</td>\n",
       "      <td>6.306340e+07</td>\n",
       "    </tr>\n",
       "    <tr>\n",
       "      <th>max</th>\n",
       "      <td>5570.000000</td>\n",
       "      <td>1.100467e+09</td>\n",
       "      <td>NaN</td>\n",
       "      <td>NaN</td>\n",
       "      <td>NaN</td>\n",
       "      <td>65546.000000</td>\n",
       "      <td>NaN</td>\n",
       "      <td>NaN</td>\n",
       "      <td>10.000000</td>\n",
       "      <td>10.000000</td>\n",
       "      <td>...</td>\n",
       "      <td>NaN</td>\n",
       "      <td>NaN</td>\n",
       "      <td>NaN</td>\n",
       "      <td>642.000000</td>\n",
       "      <td>NaN</td>\n",
       "      <td>NaN</td>\n",
       "      <td>NaN</td>\n",
       "      <td>NaN</td>\n",
       "      <td>NaN</td>\n",
       "      <td>8.041803e+07</td>\n",
       "    </tr>\n",
       "  </tbody>\n",
       "</table>\n",
       "<p>11 rows × 27 columns</p>\n",
       "</div>"
      ],
      "text/plain": [
       "        codigoencabezado    idregistro  \\\n",
       "count        5569.000000  5.569000e+03   \n",
       "unique               NaN           NaN   \n",
       "top                  NaN           NaN   \n",
       "freq                 NaN           NaN   \n",
       "mean         2785.839828  1.096580e+09   \n",
       "std          1608.009192  1.308418e+07   \n",
       "min             1.000000  9.305465e+08   \n",
       "25%          1394.000000  1.100259e+09   \n",
       "50%          2786.000000  1.100378e+09   \n",
       "75%          4178.000000  1.100417e+09   \n",
       "max          5570.000000  1.100467e+09   \n",
       "\n",
       "                                               linkpagina fecharegistro  \\\n",
       "count                                                5569          5569   \n",
       "unique                                               2743            15   \n",
       "top     https://www.olx.com.gt/item/apartamento-en-ven...    2020-06-25   \n",
       "freq                                                   15           610   \n",
       "mean                                                  NaN           NaN   \n",
       "std                                                   NaN           NaN   \n",
       "min                                                   NaN           NaN   \n",
       "25%                                                   NaN           NaN   \n",
       "50%                                                   NaN           NaN   \n",
       "75%                                                   NaN           NaN   \n",
       "max                                                   NaN           NaN   \n",
       "\n",
       "       fechalimpieza  administracion amueblado    antiguedad        banos  \\\n",
       "count           5569     1190.000000      3310          2627  5561.000000   \n",
       "unique             2             NaN         2             8          NaN   \n",
       "top       2020-07-11             NaN        No  Hasta 5 años          NaN   \n",
       "freq            5080             NaN      2584           859          NaN   \n",
       "mean             NaN      510.795798       NaN           NaN     1.959180   \n",
       "std              NaN     3409.053475       NaN           NaN     1.014795   \n",
       "min              NaN        0.000000       NaN           NaN     0.000000   \n",
       "25%              NaN        0.000000       NaN           NaN     1.000000   \n",
       "50%              NaN        0.000000       NaN           NaN     2.000000   \n",
       "75%              NaN      111.000000       NaN           NaN     2.000000   \n",
       "max              NaN    65546.000000       NaN           NaN    10.000000   \n",
       "\n",
       "        habitaciones  ... moneda         tipo  tipo_vendedor    favoritos  \\\n",
       "count    5538.000000  ...   5569         5561           4300  5569.000000   \n",
       "unique           NaN  ...      2            6              3          NaN   \n",
       "top              NaN  ...    US$  Apartamento   Inmobiliaria          NaN   \n",
       "freq             NaN  ...   3546         5422           3616          NaN   \n",
       "mean        2.302636  ...    NaN          NaN            NaN     2.268630   \n",
       "std         0.802603  ...    NaN          NaN            NaN    11.134723   \n",
       "min         1.000000  ...    NaN          NaN            NaN     0.000000   \n",
       "25%         2.000000  ...    NaN          NaN            NaN     0.000000   \n",
       "50%         2.000000  ...    NaN          NaN            NaN     1.000000   \n",
       "75%         3.000000  ...    NaN          NaN            NaN     2.000000   \n",
       "max        10.000000  ...    NaN          NaN            NaN   642.000000   \n",
       "\n",
       "                                                   titulo  \\\n",
       "count                                                5569   \n",
       "unique                                               2542   \n",
       "top     Alquilo Apartamento en Villa Risho, zona 14 | ...   \n",
       "freq                                                   20   \n",
       "mean                                                  NaN   \n",
       "std                                                   NaN   \n",
       "min                                                   NaN   \n",
       "25%                                                   NaN   \n",
       "50%                                                   NaN   \n",
       "75%                                                   NaN   \n",
       "max                                                   NaN   \n",
       "\n",
       "                   fecha_creacion               valido_hasta  \\\n",
       "count                        5569                       5569   \n",
       "unique                       2739                       2453   \n",
       "top     2020-05-14T17:23:53-06:00  2020-10-14T05:23:05-06:00   \n",
       "freq                           15                         20   \n",
       "mean                          NaN                        NaN   \n",
       "std                           NaN                        NaN   \n",
       "min                           NaN                        NaN   \n",
       "25%                           NaN                        NaN   \n",
       "50%                           NaN                        NaN   \n",
       "75%                           NaN                        NaN   \n",
       "max                           NaN                        NaN   \n",
       "\n",
       "                                              descripcion       partner_code  \\\n",
       "count                                                5569               1107   \n",
       "unique                                               2748                754   \n",
       "top     Fácil acceso por Villa Nueva, Petapa, Villa Ca...  PAA-011-03-20-2-R   \n",
       "freq                                                   17                  9   \n",
       "mean                                                  NaN                NaN   \n",
       "std                                                   NaN                NaN   \n",
       "min                                                   NaN                NaN   \n",
       "25%                                                   NaN                NaN   \n",
       "50%                                                   NaN                NaN   \n",
       "75%                                                   NaN                NaN   \n",
       "max                                                   NaN                NaN   \n",
       "\n",
       "             user_id  \n",
       "count   5.569000e+03  \n",
       "unique           NaN  \n",
       "top              NaN  \n",
       "freq             NaN  \n",
       "mean    3.910065e+07  \n",
       "std     2.626175e+07  \n",
       "min     2.843723e+06  \n",
       "25%     1.569436e+07  \n",
       "50%     2.745098e+07  \n",
       "75%     6.306340e+07  \n",
       "max     8.041803e+07  \n",
       "\n",
       "[11 rows x 27 columns]"
      ]
     },
     "execution_count": 82,
     "metadata": {},
     "output_type": "execute_result"
    }
   ],
   "source": [
    "dfFinalSet = pd.read_csv('FinalSet.csv', dtype = {'codigoencabezado': 'int32'})\n",
    "\n",
    "dfFinalSet.describe(include = 'all')"
   ]
  },
  {
   "cell_type": "markdown",
   "metadata": {},
   "source": [
    "## Data Wrangling"
   ]
  },
  {
   "cell_type": "markdown",
   "metadata": {},
   "source": [
    "En esta seccion prepararemos el set de datos que se utilizara para realizar la construccion del modelo de regresion. Primero definiremos los valores de flag para indicar que acciones se aplicaran sobre los datos."
   ]
  },
  {
   "cell_type": "code",
   "execution_count": 83,
   "metadata": {},
   "outputs": [],
   "source": [
    "# Normalizacion de datos para columna espacio_m2\n",
    "flagDataNormalization = True"
   ]
  },
  {
   "cell_type": "markdown",
   "metadata": {},
   "source": [
    "### Registros Unicos\n",
    "\n",
    "Obtendremos solo los valores mas actualizados de los registros. Utilizaremos el atributo **idregistro** como identificador unico de los registros."
   ]
  },
  {
   "cell_type": "code",
   "execution_count": 84,
   "metadata": {},
   "outputs": [
    {
     "data": {
      "text/plain": [
       "(2717, 27)"
      ]
     },
     "execution_count": 84,
     "metadata": {},
     "output_type": "execute_result"
    }
   ],
   "source": [
    "# Conversion a string del campo idregistro\n",
    "dfAnalisisSet = dfFinalSet.astype({'idregistro': 'str'})\n",
    "\n",
    "# Conversion a fecha del campo fecharegsitro\n",
    "dfAnalisisSet['fecharegistro'] = pd.to_datetime(dfAnalisisSet['fecharegistro'], format = \"%Y-%m-%d\")\n",
    "\n",
    "# Obtencion de fecha maxima por cada idregistro y filtro de esos registros.\n",
    "dfAnalisisSet = dfAnalisisSet.loc[dfAnalisisSet.reset_index().groupby(['idregistro'])['fecharegistro'].idxmax()]\n",
    "\n",
    "# Verificamos la cantidad de registros faltantes\n",
    "dfAnalisisSet.shape"
   ]
  },
  {
   "cell_type": "markdown",
   "metadata": {},
   "source": [
    "### Columna Precio Real\n",
    "\n",
    "Procedemos a crear una columna llamada **precio_real** para establecer el precio en quetzales. Para los registros que tienen un precio en dolares se aplicara el factor de conversion a quetzales."
   ]
  },
  {
   "cell_type": "code",
   "execution_count": 85,
   "metadata": {},
   "outputs": [
    {
     "data": {
      "text/plain": [
       "2538    2299310.0\n",
       "4049    1461100.0\n",
       "1885    1207330.0\n",
       "1886     922800.0\n",
       "1876       6000.0\n",
       "          ...    \n",
       "643      544999.0\n",
       "4055    2499250.0\n",
       "2553        900.0\n",
       "5362      23070.0\n",
       "3555    4921600.0\n",
       "Name: precio_real, Length: 2717, dtype: float64"
      ]
     },
     "execution_count": 85,
     "metadata": {},
     "output_type": "execute_result"
    }
   ],
   "source": [
    "# Factor de conversion\n",
    "cambio_moneda = 7.69\n",
    "\n",
    "# Creacion de nueva columna\n",
    "dfAnalisisSet['precio_real'] = np.where(dfAnalisisSet['moneda'] == 'US$', dfAnalisisSet['precio'] * cambio_moneda, \n",
    "                                        dfAnalisisSet['precio'])\n",
    "\n",
    "# Visualizams los valores de precio real\n",
    "dfAnalisisSet['precio_real']"
   ]
  },
  {
   "cell_type": "markdown",
   "metadata": {},
   "source": [
    "### Columna Oferta\n",
    "\n",
    "Procederemos a crear una columna llamada oferta para determinar si es una venta o alquiler de apartamento. Para ello vamos a especificar un valor pivote en la columna precio. Todo valor superior al valor pivote sera considerado como una venta."
   ]
  },
  {
   "cell_type": "code",
   "execution_count": 86,
   "metadata": {},
   "outputs": [
    {
     "data": {
      "text/plain": [
       "oferta\n",
       "Alquiler    1568\n",
       "Venta       1149\n",
       "Name: codigoencabezado, dtype: int64"
      ]
     },
     "execution_count": 86,
     "metadata": {},
     "output_type": "execute_result"
    }
   ],
   "source": [
    "# Asignacion de valor pivote\n",
    "intValorPivote = 50000\n",
    "\n",
    "# Creacion de nueva columna oferta.\n",
    "dfAnalisisSet['oferta'] = ['Venta' if precio > intValorPivote else 'Alquiler' for precio in dfAnalisisSet['precio_real']]\n",
    "\n",
    "# Verificamos cuantos registros quedaron en el dataset\n",
    "dfAnalisisSet.groupby(['oferta']).count()['codigoencabezado']"
   ]
  },
  {
   "cell_type": "markdown",
   "metadata": {},
   "source": [
    "### Filtro Inicial"
   ]
  },
  {
   "cell_type": "markdown",
   "metadata": {},
   "source": [
    "Los primeros filtros a aplicar a nuestro set de datos son los siguientes:\n",
    "* Tipo de oferta como Venta, ya que solo nos interesa realizar el modelo para apartamentos en venta.\n",
    "* Amueblado con valor No, ya que segun el analisis para las ventas no hay data para este atributo.\n",
    "* El tipo se especificara como \"Apartamento\" ya que es la clasificacion que posee mayor cantidad de registros."
   ]
  },
  {
   "cell_type": "code",
   "execution_count": 87,
   "metadata": {},
   "outputs": [
    {
     "data": {
      "text/plain": [
       "(1120, 29)"
      ]
     },
     "execution_count": 87,
     "metadata": {},
     "output_type": "execute_result"
    }
   ],
   "source": [
    "# Especificamos los filtros\n",
    "dfFiltradoSet = dfAnalisisSet[(dfAnalisisSet['oferta'] == 'Venta') & \n",
    "                              ((dfAnalisisSet['amueblado'] == 'No') | (dfAnalisisSet['amueblado'].isnull())) &\n",
    "                             (dfAnalisisSet['tipo'] == 'Apartamento')]\n",
    "\n",
    "# Verificamos las dimensiones\n",
    "dfFiltradoSet.shape"
   ]
  },
  {
   "cell_type": "markdown",
   "metadata": {},
   "source": [
    "Ahora especificamos las columnas que utilizaremos en principio para la construccion del set de datos"
   ]
  },
  {
   "cell_type": "code",
   "execution_count": 88,
   "metadata": {},
   "outputs": [
    {
     "data": {
      "text/plain": [
       "(1120, 11)"
      ]
     },
     "execution_count": 88,
     "metadata": {},
     "output_type": "execute_result"
    }
   ],
   "source": [
    "# Seleccionando las columnas a utilizar\n",
    "dfFiltradoSet = dfFiltradoSet[['idregistro', 'banos', 'habitaciones', \n",
    "                               'espacio_m2', 'latitud', 'longitud', 'moneda',\n",
    "                               'parqueo', 'tipo_vendedor', 'precio_real', 'user_id']]\n",
    "\n",
    "dfFiltradoSet.shape"
   ]
  },
  {
   "cell_type": "markdown",
   "metadata": {},
   "source": [
    "### Nueva Variable Ubicacion (KMeans)\n",
    "\n",
    "Se procedera a crear una nueva variable llamada ubicacion que sera el numero de cluster asignado dependiendo de los valores de longitud y latitud."
   ]
  },
  {
   "cell_type": "code",
   "execution_count": 135,
   "metadata": {
    "scrolled": true
   },
   "outputs": [
    {
     "data": {
      "text/html": [
       "<div>\n",
       "<style scoped>\n",
       "    .dataframe tbody tr th:only-of-type {\n",
       "        vertical-align: middle;\n",
       "    }\n",
       "\n",
       "    .dataframe tbody tr th {\n",
       "        vertical-align: top;\n",
       "    }\n",
       "\n",
       "    .dataframe thead th {\n",
       "        text-align: right;\n",
       "    }\n",
       "</style>\n",
       "<table border=\"1\" class=\"dataframe\">\n",
       "  <thead>\n",
       "    <tr style=\"text-align: right;\">\n",
       "      <th></th>\n",
       "      <th>longitud</th>\n",
       "      <th>latitud</th>\n",
       "    </tr>\n",
       "  </thead>\n",
       "  <tbody>\n",
       "    <tr>\n",
       "      <th>2538</th>\n",
       "      <td>-90.506</td>\n",
       "      <td>14.591</td>\n",
       "    </tr>\n",
       "    <tr>\n",
       "      <th>4049</th>\n",
       "      <td>-90.508</td>\n",
       "      <td>14.635</td>\n",
       "    </tr>\n",
       "    <tr>\n",
       "      <th>1885</th>\n",
       "      <td>-90.511</td>\n",
       "      <td>14.600</td>\n",
       "    </tr>\n",
       "    <tr>\n",
       "      <th>1886</th>\n",
       "      <td>-90.491</td>\n",
       "      <td>14.593</td>\n",
       "    </tr>\n",
       "    <tr>\n",
       "      <th>1468</th>\n",
       "      <td>-90.503</td>\n",
       "      <td>14.588</td>\n",
       "    </tr>\n",
       "    <tr>\n",
       "      <th>...</th>\n",
       "      <td>...</td>\n",
       "      <td>...</td>\n",
       "    </tr>\n",
       "    <tr>\n",
       "      <th>799</th>\n",
       "      <td>-90.500</td>\n",
       "      <td>14.586</td>\n",
       "    </tr>\n",
       "    <tr>\n",
       "      <th>710</th>\n",
       "      <td>-90.512</td>\n",
       "      <td>14.592</td>\n",
       "    </tr>\n",
       "    <tr>\n",
       "      <th>643</th>\n",
       "      <td>-90.465</td>\n",
       "      <td>14.652</td>\n",
       "    </tr>\n",
       "    <tr>\n",
       "      <th>4055</th>\n",
       "      <td>-90.508</td>\n",
       "      <td>14.595</td>\n",
       "    </tr>\n",
       "    <tr>\n",
       "      <th>3555</th>\n",
       "      <td>-90.470</td>\n",
       "      <td>14.607</td>\n",
       "    </tr>\n",
       "  </tbody>\n",
       "</table>\n",
       "<p>1120 rows × 2 columns</p>\n",
       "</div>"
      ],
      "text/plain": [
       "      longitud  latitud\n",
       "2538   -90.506   14.591\n",
       "4049   -90.508   14.635\n",
       "1885   -90.511   14.600\n",
       "1886   -90.491   14.593\n",
       "1468   -90.503   14.588\n",
       "...        ...      ...\n",
       "799    -90.500   14.586\n",
       "710    -90.512   14.592\n",
       "643    -90.465   14.652\n",
       "4055   -90.508   14.595\n",
       "3555   -90.470   14.607\n",
       "\n",
       "[1120 rows x 2 columns]"
      ]
     },
     "execution_count": 135,
     "metadata": {},
     "output_type": "execute_result"
    }
   ],
   "source": [
    "dfFiltradoSet[['longitud', 'latitud']]"
   ]
  },
  {
   "cell_type": "code",
   "execution_count": 136,
   "metadata": {},
   "outputs": [
    {
     "data": {
      "image/png": "[encoded data removed]",
      "text/plain": [
       "<Figure size 432x288 with 1 Axes>"
      ]
     },
     "metadata": {
      "needs_background": "light"
     },
     "output_type": "display_data"
    }
   ],
   "source": [
    "# Seleccion de numero de clusters.\n",
    "# Nota: En Notebook Data Analysis podriamos identificar la cantidad de cluster por medio de elbow plot\n",
    "intKClusters = 13\n",
    "\n",
    "# Se obtienen los valores que se utilizaran para la construccion de modelo KMeans\n",
    "#npUbicaciones = np.array(list(zip(dfFiltradoSet['longitud'], \n",
    "#                                  dfFiltradoSet['latitud']))).reshape(len(dfFiltradoSet['longitud']), 2)\n",
    "\n",
    "# Construccion del modelo\n",
    "kmeanModel = KMeans(n_clusters = intKClusters, max_iter = 2000).fit(dfFiltradoSet[['longitud', 'latitud']])\n",
    "\n",
    "#kmeanModel.cluster_centers_\n",
    "from matplotlib import pyplot as plt\n",
    "plt.scatter(dfFiltradoSet['longitud'], dfFiltradoSet['latitud'])\n",
    "plt.scatter(kmeanModel.cluster_centers_[:, 0], kmeanModel.cluster_centers_[:, 1], c='red')\n",
    "plt.show()\n",
    "\n",
    "#dfTemp['categoria'] = kmeanModel.labels_.unique()\n",
    "\n",
    "\n",
    "# Asignacion de clusters a registros\n",
    "#dfFiltradoSet['ubicacion'] = [\"U\" + str(ubicacion) for ubicacion in kmeanModel.labels_]\n",
    "\n",
    "# Verificacion de la nueva columna\n",
    "#dfFiltradoSet.head(10)"
   ]
  },
  {
   "cell_type": "code",
   "execution_count": 181,
   "metadata": {},
   "outputs": [
    {
     "name": "stderr",
     "output_type": "stream",
     "text": [
      "C:\\Users\\yadde\\miniconda3\\lib\\site-packages\\ipykernel_launcher.py:13: RuntimeWarning: Explicit initial center position passed: performing only one init in k-means instead of n_init=10\n",
      "  del sys.path[0]\n"
     ]
    },
    {
     "data": {
      "text/html": [
       "<div>\n",
       "<style scoped>\n",
       "    .dataframe tbody tr th:only-of-type {\n",
       "        vertical-align: middle;\n",
       "    }\n",
       "\n",
       "    .dataframe tbody tr th {\n",
       "        vertical-align: top;\n",
       "    }\n",
       "\n",
       "    .dataframe thead th {\n",
       "        text-align: right;\n",
       "    }\n",
       "</style>\n",
       "<table border=\"1\" class=\"dataframe\">\n",
       "  <thead>\n",
       "    <tr style=\"text-align: right;\">\n",
       "      <th></th>\n",
       "      <th>U0</th>\n",
       "      <th>U1</th>\n",
       "      <th>U2</th>\n",
       "      <th>U3</th>\n",
       "      <th>U4</th>\n",
       "      <th>U5</th>\n",
       "      <th>U6</th>\n",
       "      <th>U7</th>\n",
       "      <th>U8</th>\n",
       "      <th>U9</th>\n",
       "      <th>U10</th>\n",
       "      <th>prueba</th>\n",
       "      <th>prueba2</th>\n",
       "    </tr>\n",
       "  </thead>\n",
       "  <tbody>\n",
       "    <tr>\n",
       "      <th>0</th>\n",
       "      <td>NaN</td>\n",
       "      <td>NaN</td>\n",
       "      <td>NaN</td>\n",
       "      <td>NaN</td>\n",
       "      <td>NaN</td>\n",
       "      <td>NaN</td>\n",
       "      <td>NaN</td>\n",
       "      <td>NaN</td>\n",
       "      <td>NaN</td>\n",
       "      <td>NaN</td>\n",
       "      <td>NaN</td>\n",
       "      <td>10</td>\n",
       "      <td>11</td>\n",
       "    </tr>\n",
       "  </tbody>\n",
       "</table>\n",
       "</div>"
      ],
      "text/plain": [
       "    U0   U1   U2   U3   U4   U5   U6   U7   U8   U9  U10  prueba  prueba2\n",
       "0  NaN  NaN  NaN  NaN  NaN  NaN  NaN  NaN  NaN  NaN  NaN      10       11"
      ]
     },
     "execution_count": 181,
     "metadata": {},
     "output_type": "execute_result"
    }
   ],
   "source": [
    "frecCat = np.unique(kmeanModel.labels_, return_counts = True)\n",
    "dfCategorias = pd.DataFrame({'categoria': frecCat[0], \n",
    "                  'frecuencia': frecCat[1], \n",
    "                  'longitud': kmeanModel.cluster_centers_[:,0],\n",
    "                  'latitud': kmeanModel.cluster_centers_[:,1]})\n",
    "\n",
    "dfCategorias = dfCategorias.loc[dfCategorias['frecuencia'] > 10]\n",
    "\n",
    "centroids = dfCategorias[['longitud', 'latitud']].to_numpy()\n",
    "\n",
    "# Construccion del modelo\n",
    "kmeanModel2 = KMeans(init = centroids, n_clusters = len(dfCategorias.index), max_iter = 2000)\\\n",
    "                .fit(dfFiltradoSet[['longitud', 'latitud']])\n",
    "\n",
    "np.unique(kmeanModel2.labels_, return_counts = True)\n",
    "\n",
    "kmeanModel2.predict(pd.DataFrame({'longitud':[-90.506, -90.508], 'latitud': [14.591, 14.635]}))\n"
   ]
  },
  {
   "cell_type": "markdown",
   "metadata": {},
   "source": [
    "### Filtro Baja Frecuencia (Ubicacion)\n",
    "\n",
    "Verificaremos para la variable **ubicacion** del dataframe la frecuencia de sus valores para dejar aquellos que se encuentran bien representados."
   ]
  },
  {
   "cell_type": "code",
   "execution_count": 60,
   "metadata": {},
   "outputs": [
    {
     "data": {
      "text/plain": [
       "U0     313\n",
       "U5     246\n",
       "U4     163\n",
       "U8     132\n",
       "U2     123\n",
       "U9      35\n",
       "U7      33\n",
       "U6      27\n",
       "U3      18\n",
       "U10     14\n",
       "U11      9\n",
       "U12      6\n",
       "U1       1\n",
       "Name: ubicacion, dtype: int64"
      ]
     },
     "execution_count": 60,
     "metadata": {},
     "output_type": "execute_result"
    }
   ],
   "source": [
    "srFreqUbicacion = pd.Series(dfFiltradoSet['ubicacion']).value_counts()\n",
    "srFreqUbicacion"
   ]
  },
  {
   "cell_type": "code",
   "execution_count": 61,
   "metadata": {},
   "outputs": [
    {
     "data": {
      "text/plain": [
       "U3     313\n",
       "U1     246\n",
       "U4     163\n",
       "U2     132\n",
       "U8     123\n",
       "U5      35\n",
       "U7      33\n",
       "U10     27\n",
       "U9      18\n",
       "U6      14\n",
       "Name: ubicacion, dtype: int64"
      ]
     },
     "execution_count": 61,
     "metadata": {},
     "output_type": "execute_result"
    }
   ],
   "source": [
    "# Eliminando elementos que tienen baja frecuencia para ubicacion\n",
    "intNumeroPivote = 10\n",
    "idxEliminar = srFreqUbicacion[srFreqUbicacion <= intNumeroPivote].index\n",
    "dfFiltradoSet = dfFiltradoSet[~dfFiltradoSet.ubicacion.isin(idxEliminar)]\n",
    "\n",
    "# Creamos el dataframe con el cual vamos a mapear los valores\n",
    "dfMapeo = pd.DataFrame({'ubicacion': dfFiltradoSet.ubicacion.unique()})\n",
    "dfMapeo['nueva_ubicacion'] = [\"U\" + str(ubicacion) for ubicacion in range(1, len(dfMapeo) + 1)]\n",
    "\n",
    "# Colocamos los nuevos valores de ubicacion\n",
    "dfFiltradoSet['ubicacion'] = dfFiltradoSet.join(dfMapeo.set_index('ubicacion'), on = 'ubicacion')['nueva_ubicacion']\n",
    "\n",
    "# Verificamos que valores quedaron\n",
    "srFreqUbicacion = pd.Series(dfFiltradoSet['ubicacion']).value_counts()\n",
    "srFreqUbicacion"
   ]
  },
  {
   "cell_type": "markdown",
   "metadata": {},
   "source": [
    "### Manejo valores nulos\n",
    "\n",
    "#### Validacion variables con valores nulos\n",
    "Procedemos a verificar cuales son las variables que presentan valores nulos"
   ]
  },
  {
   "cell_type": "code",
   "execution_count": 62,
   "metadata": {},
   "outputs": [
    {
     "data": {
      "text/plain": [
       "idregistro         0\n",
       "banos              0\n",
       "habitaciones       0\n",
       "espacio_m2         0\n",
       "latitud            0\n",
       "longitud           0\n",
       "moneda             0\n",
       "parqueo           25\n",
       "tipo_vendedor    523\n",
       "precio_real        0\n",
       "user_id            0\n",
       "ubicacion          0\n",
       "dtype: int64"
      ]
     },
     "execution_count": 62,
     "metadata": {},
     "output_type": "execute_result"
    }
   ],
   "source": [
    "dfFiltradoSet.isnull().sum()"
   ]
  },
  {
   "cell_type": "markdown",
   "metadata": {},
   "source": [
    "#### Tratamiento Valores Nulos Parqueo\n",
    "Primero verificaremos los rangos de valores para la variable **parqueo**."
   ]
  },
  {
   "cell_type": "code",
   "execution_count": 63,
   "metadata": {},
   "outputs": [
    {
     "data": {
      "text/plain": [
       "Si     666\n",
       "No     413\n",
       "NaN     25\n",
       "Name: parqueo, dtype: int64"
      ]
     },
     "execution_count": 63,
     "metadata": {},
     "output_type": "execute_result"
    }
   ],
   "source": [
    "srFreqParqueo = pd.Series(dfFiltradoSet['parqueo']).value_counts(dropna = False)\n",
    "srFreqParqueo"
   ]
  },
  {
   "cell_type": "markdown",
   "metadata": {},
   "source": [
    "Vamos a utilizar la columna de descripcion para verificar si tiene la columna parqueo. De ser asi, se les colocara que si posee parqueo."
   ]
  },
  {
   "cell_type": "code",
   "execution_count": 64,
   "metadata": {},
   "outputs": [
    {
     "data": {
      "text/plain": [
       "1    687\n",
       "0    417\n",
       "Name: parqueo, dtype: int64"
      ]
     },
     "execution_count": 64,
     "metadata": {},
     "output_type": "execute_result"
    }
   ],
   "source": [
    "# Obtenemos la info de los registros que tienen parqueo como nulo.\n",
    "dfSinParqueo = dfFiltradoSet.loc[pd.isnull(dfFiltradoSet['parqueo']), ['idregistro', 'parqueo']]\n",
    "\n",
    "# Obtenemos la info de los regsitros del catalogo inicial solo para los registros de interes.\n",
    "dfCatalogo = dfAnalisisSet.loc[dfAnalisisSet.idregistro.isin(dfSinParqueo['idregistro']), ['idregistro', 'descripcion']]\n",
    "\n",
    "# Verificamos si existe palabra parqueo dentro de columna descripcion\n",
    "dfCatalogo['parqueo'] = [\"Si\" if (re.search('parqueo',str(descripcion).lower())) else \"No\" \\\n",
    "                         for descripcion in dfCatalogo['descripcion']]\n",
    "\n",
    "# Asignacion de los valores calculados para parqueo\n",
    "dfFiltradoSet = dfFiltradoSet.set_index(['idregistro'])\\\n",
    "    .combine_first(dfCatalogo[['idregistro', 'parqueo']].set_index(['idregistro']))\\\n",
    "    .reset_index()\n",
    "\n",
    "\n",
    "# Verificamos si existe palabra parqueo dentro de columna descripcion\n",
    "dfFiltradoSet['parqueo'] = [1 if (parqueo == \"Si\") else 0 for parqueo in dfFiltradoSet['parqueo']]\n",
    "\n",
    "# Verificacion del parqueo\n",
    "srFreqParqueo = pd.Series(dfFiltradoSet['parqueo']).value_counts(dropna = False)\n",
    "srFreqParqueo"
   ]
  },
  {
   "cell_type": "markdown",
   "metadata": {},
   "source": [
    "#### Tratamiento Valores Nulos Tipo Vendedor"
   ]
  },
  {
   "cell_type": "code",
   "execution_count": 65,
   "metadata": {},
   "outputs": [
    {
     "data": {
      "text/plain": [
       "Inmobiliaria     550\n",
       "NaN              523\n",
       "Dueño Directo     31\n",
       "Name: tipo_vendedor, dtype: int64"
      ]
     },
     "execution_count": 65,
     "metadata": {},
     "output_type": "execute_result"
    }
   ],
   "source": [
    "srFreqVendedor = pd.Series(dfFiltradoSet['tipo_vendedor']).value_counts(dropna = False)\n",
    "srFreqVendedor"
   ]
  },
  {
   "cell_type": "code",
   "execution_count": 66,
   "metadata": {},
   "outputs": [
    {
     "data": {
      "text/plain": [
       "idregistro         1100438641\n",
       "banos                       3\n",
       "espacio_m2                171\n",
       "habitaciones                3\n",
       "latitud                14.591\n",
       "longitud              -90.512\n",
       "moneda                    US$\n",
       "parqueo                     1\n",
       "precio_real       1.84475e+06\n",
       "tipo_vendedor    Inmobiliaria\n",
       "ubicacion                  U1\n",
       "user_id              39763788\n",
       "Name: 953, dtype: object"
      ]
     },
     "execution_count": 66,
     "metadata": {},
     "output_type": "execute_result"
    }
   ],
   "source": [
    "# Obtenemos los codigos de vendedor donde el tipo_vendedor es nulo.\n",
    "dfSinVendedor = dfFiltradoSet.loc[pd.isnull(dfFiltradoSet['tipo_vendedor']), ['idregistro', 'tipo_vendedor', 'user_id']]\n",
    "\n",
    "# Calculamos la frecuencia de registros para cada user_id\n",
    "srFreqVendedores = pd.Series(dfSinVendedor['user_id']).value_counts(dropna = False)\n",
    "\n",
    "# Para aquellos user_id que solo poseen un registro se les asigna el valor de \"Dueno Directo\"\n",
    "intNumeroPivote = 1\n",
    "idxDuenos = srFreqVendedores[srFreqVendedores == intNumeroPivote].index\n",
    "dfSinVendedor['tipo_vendedor'] = [\"Dueño Directo\" if x else \"Inmobiliaria\" for x in dfSinVendedor.user_id.isin(idxDuenos)]\n",
    "\n",
    "# Asignacion de los valores calculados para tipo de vendedor\n",
    "dfFiltradoSet = dfFiltradoSet.set_index(['idregistro'])\\\n",
    "    .combine_first(dfSinVendedor[['idregistro', 'tipo_vendedor']].set_index(['idregistro']))\\\n",
    "    .reset_index()\n",
    "\n",
    "dfFiltradoSet.loc[953]\n",
    "# Verificacion del tipo de vendedor\n",
    "#srFreqParqueo = pd.Series(dfFiltradoSet['tipo_vendedor']).value_counts(dropna = False)\n",
    "#srFreqParqueo"
   ]
  },
  {
   "cell_type": "markdown",
   "metadata": {},
   "source": [
    "### Data Normalization\n",
    "\n",
    "El objetivo es normalizar  la columna de espacio que tiene una escala mayor a diferencia de las otras variables. Para la normalizacion se utilizara Z score."
   ]
  },
  {
   "cell_type": "code",
   "execution_count": 67,
   "metadata": {},
   "outputs": [
    {
     "data": {
      "text/html": [
       "<div>\n",
       "<style scoped>\n",
       "    .dataframe tbody tr th:only-of-type {\n",
       "        vertical-align: middle;\n",
       "    }\n",
       "\n",
       "    .dataframe tbody tr th {\n",
       "        vertical-align: top;\n",
       "    }\n",
       "\n",
       "    .dataframe thead th {\n",
       "        text-align: right;\n",
       "    }\n",
       "</style>\n",
       "<table border=\"1\" class=\"dataframe\">\n",
       "  <thead>\n",
       "    <tr style=\"text-align: right;\">\n",
       "      <th></th>\n",
       "      <th>idregistro</th>\n",
       "      <th>banos</th>\n",
       "      <th>espacio_m2</th>\n",
       "      <th>habitaciones</th>\n",
       "      <th>latitud</th>\n",
       "      <th>longitud</th>\n",
       "      <th>moneda</th>\n",
       "      <th>parqueo</th>\n",
       "      <th>precio_real</th>\n",
       "      <th>tipo_vendedor</th>\n",
       "      <th>ubicacion</th>\n",
       "      <th>user_id</th>\n",
       "    </tr>\n",
       "  </thead>\n",
       "  <tbody>\n",
       "    <tr>\n",
       "      <th>0</th>\n",
       "      <td>1007688385</td>\n",
       "      <td>3.0</td>\n",
       "      <td>232.0</td>\n",
       "      <td>3.0</td>\n",
       "      <td>14.591</td>\n",
       "      <td>-90.506</td>\n",
       "      <td>US$</td>\n",
       "      <td>1</td>\n",
       "      <td>2299310.00</td>\n",
       "      <td>Inmobiliaria</td>\n",
       "      <td>U1</td>\n",
       "      <td>55074295</td>\n",
       "    </tr>\n",
       "    <tr>\n",
       "      <th>1</th>\n",
       "      <td>1009069375</td>\n",
       "      <td>3.0</td>\n",
       "      <td>120.0</td>\n",
       "      <td>2.0</td>\n",
       "      <td>14.635</td>\n",
       "      <td>-90.508</td>\n",
       "      <td>US$</td>\n",
       "      <td>1</td>\n",
       "      <td>1461100.00</td>\n",
       "      <td>Inmobiliaria</td>\n",
       "      <td>U2</td>\n",
       "      <td>63063400</td>\n",
       "    </tr>\n",
       "    <tr>\n",
       "      <th>2</th>\n",
       "      <td>1014321966</td>\n",
       "      <td>2.0</td>\n",
       "      <td>78.0</td>\n",
       "      <td>1.0</td>\n",
       "      <td>14.600</td>\n",
       "      <td>-90.511</td>\n",
       "      <td>US$</td>\n",
       "      <td>1</td>\n",
       "      <td>1207330.00</td>\n",
       "      <td>Inmobiliaria</td>\n",
       "      <td>U1</td>\n",
       "      <td>34408653</td>\n",
       "    </tr>\n",
       "    <tr>\n",
       "      <th>3</th>\n",
       "      <td>1014324725</td>\n",
       "      <td>2.0</td>\n",
       "      <td>65.0</td>\n",
       "      <td>2.0</td>\n",
       "      <td>14.593</td>\n",
       "      <td>-90.491</td>\n",
       "      <td>US$</td>\n",
       "      <td>1</td>\n",
       "      <td>922800.00</td>\n",
       "      <td>Inmobiliaria</td>\n",
       "      <td>U3</td>\n",
       "      <td>34408653</td>\n",
       "    </tr>\n",
       "    <tr>\n",
       "      <th>4</th>\n",
       "      <td>1023944274</td>\n",
       "      <td>2.0</td>\n",
       "      <td>74.0</td>\n",
       "      <td>2.0</td>\n",
       "      <td>14.588</td>\n",
       "      <td>-90.503</td>\n",
       "      <td>US$</td>\n",
       "      <td>1</td>\n",
       "      <td>1647474.84</td>\n",
       "      <td>Inmobiliaria</td>\n",
       "      <td>U1</td>\n",
       "      <td>24012106</td>\n",
       "    </tr>\n",
       "    <tr>\n",
       "      <th>...</th>\n",
       "      <td>...</td>\n",
       "      <td>...</td>\n",
       "      <td>...</td>\n",
       "      <td>...</td>\n",
       "      <td>...</td>\n",
       "      <td>...</td>\n",
       "      <td>...</td>\n",
       "      <td>...</td>\n",
       "      <td>...</td>\n",
       "      <td>...</td>\n",
       "      <td>...</td>\n",
       "      <td>...</td>\n",
       "    </tr>\n",
       "    <tr>\n",
       "      <th>1099</th>\n",
       "      <td>1100464679</td>\n",
       "      <td>2.0</td>\n",
       "      <td>86.0</td>\n",
       "      <td>3.0</td>\n",
       "      <td>14.592</td>\n",
       "      <td>-90.520</td>\n",
       "      <td>US$</td>\n",
       "      <td>1</td>\n",
       "      <td>1368820.00</td>\n",
       "      <td>Inmobiliaria</td>\n",
       "      <td>U1</td>\n",
       "      <td>32785066</td>\n",
       "    </tr>\n",
       "    <tr>\n",
       "      <th>1100</th>\n",
       "      <td>1100464828</td>\n",
       "      <td>2.0</td>\n",
       "      <td>84.0</td>\n",
       "      <td>3.0</td>\n",
       "      <td>14.586</td>\n",
       "      <td>-90.500</td>\n",
       "      <td>US$</td>\n",
       "      <td>1</td>\n",
       "      <td>999700.00</td>\n",
       "      <td>Inmobiliaria</td>\n",
       "      <td>U1</td>\n",
       "      <td>56587551</td>\n",
       "    </tr>\n",
       "    <tr>\n",
       "      <th>1101</th>\n",
       "      <td>1100465920</td>\n",
       "      <td>3.0</td>\n",
       "      <td>76.0</td>\n",
       "      <td>2.0</td>\n",
       "      <td>14.592</td>\n",
       "      <td>-90.512</td>\n",
       "      <td>US$</td>\n",
       "      <td>1</td>\n",
       "      <td>1418512.78</td>\n",
       "      <td>Inmobiliaria</td>\n",
       "      <td>U1</td>\n",
       "      <td>23432107</td>\n",
       "    </tr>\n",
       "    <tr>\n",
       "      <th>1102</th>\n",
       "      <td>930546537</td>\n",
       "      <td>3.0</td>\n",
       "      <td>260.0</td>\n",
       "      <td>2.0</td>\n",
       "      <td>14.595</td>\n",
       "      <td>-90.508</td>\n",
       "      <td>US$</td>\n",
       "      <td>1</td>\n",
       "      <td>2499250.00</td>\n",
       "      <td>Inmobiliaria</td>\n",
       "      <td>U1</td>\n",
       "      <td>20592158</td>\n",
       "    </tr>\n",
       "    <tr>\n",
       "      <th>1103</th>\n",
       "      <td>998866453</td>\n",
       "      <td>4.0</td>\n",
       "      <td>345.0</td>\n",
       "      <td>3.0</td>\n",
       "      <td>14.607</td>\n",
       "      <td>-90.470</td>\n",
       "      <td>US$</td>\n",
       "      <td>1</td>\n",
       "      <td>4921600.00</td>\n",
       "      <td>Inmobiliaria</td>\n",
       "      <td>U4</td>\n",
       "      <td>15462053</td>\n",
       "    </tr>\n",
       "  </tbody>\n",
       "</table>\n",
       "<p>1104 rows × 12 columns</p>\n",
       "</div>"
      ],
      "text/plain": [
       "      idregistro  banos  espacio_m2  habitaciones  latitud  longitud moneda  \\\n",
       "0     1007688385    3.0       232.0           3.0   14.591   -90.506    US$   \n",
       "1     1009069375    3.0       120.0           2.0   14.635   -90.508    US$   \n",
       "2     1014321966    2.0        78.0           1.0   14.600   -90.511    US$   \n",
       "3     1014324725    2.0        65.0           2.0   14.593   -90.491    US$   \n",
       "4     1023944274    2.0        74.0           2.0   14.588   -90.503    US$   \n",
       "...          ...    ...         ...           ...      ...       ...    ...   \n",
       "1099  1100464679    2.0        86.0           3.0   14.592   -90.520    US$   \n",
       "1100  1100464828    2.0        84.0           3.0   14.586   -90.500    US$   \n",
       "1101  1100465920    3.0        76.0           2.0   14.592   -90.512    US$   \n",
       "1102   930546537    3.0       260.0           2.0   14.595   -90.508    US$   \n",
       "1103   998866453    4.0       345.0           3.0   14.607   -90.470    US$   \n",
       "\n",
       "      parqueo  precio_real tipo_vendedor ubicacion   user_id  \n",
       "0           1   2299310.00  Inmobiliaria        U1  55074295  \n",
       "1           1   1461100.00  Inmobiliaria        U2  63063400  \n",
       "2           1   1207330.00  Inmobiliaria        U1  34408653  \n",
       "3           1    922800.00  Inmobiliaria        U3  34408653  \n",
       "4           1   1647474.84  Inmobiliaria        U1  24012106  \n",
       "...       ...          ...           ...       ...       ...  \n",
       "1099        1   1368820.00  Inmobiliaria        U1  32785066  \n",
       "1100        1    999700.00  Inmobiliaria        U1  56587551  \n",
       "1101        1   1418512.78  Inmobiliaria        U1  23432107  \n",
       "1102        1   2499250.00  Inmobiliaria        U1  20592158  \n",
       "1103        1   4921600.00  Inmobiliaria        U4  15462053  \n",
       "\n",
       "[1104 rows x 12 columns]"
      ]
     },
     "execution_count": 67,
     "metadata": {},
     "output_type": "execute_result"
    }
   ],
   "source": [
    "#dfFiltradoSet['espacio_m2'] = (dfFiltradoSet['espacio_m2'] - dfFiltradoSet['espacio_m2'].min()) / (dfFiltradoSet['espacio_m2'].max() - dfFiltradoSet['espacio_m2'].min())\n",
    "\n",
    "dfFiltradoSet"
   ]
  },
  {
   "cell_type": "markdown",
   "metadata": {},
   "source": [
    "### Hot Encoding\n",
    "\n",
    "Vamos a crear dummy variables para aquellas variables que son de tipo categorico. Primero verificaremos los tipos de datos del actual dataframe."
   ]
  },
  {
   "cell_type": "code",
   "execution_count": 68,
   "metadata": {},
   "outputs": [
    {
     "data": {
      "text/plain": [
       "idregistro        object\n",
       "banos            float64\n",
       "espacio_m2       float64\n",
       "habitaciones     float64\n",
       "latitud          float64\n",
       "longitud         float64\n",
       "moneda            object\n",
       "parqueo            int64\n",
       "precio_real      float64\n",
       "tipo_vendedor     object\n",
       "ubicacion         object\n",
       "user_id            int64\n",
       "dtype: object"
      ]
     },
     "execution_count": 68,
     "metadata": {},
     "output_type": "execute_result"
    }
   ],
   "source": [
    "dfFiltradoSet.dtypes"
   ]
  },
  {
   "cell_type": "code",
   "execution_count": 69,
   "metadata": {},
   "outputs": [
    {
     "data": {
      "text/plain": [
       "idregistro            object\n",
       "banos                float64\n",
       "espacio_m2           float64\n",
       "habitaciones         float64\n",
       "latitud              float64\n",
       "longitud             float64\n",
       "moneda                object\n",
       "parqueo                int64\n",
       "precio_real          float64\n",
       "tipo_vendedor         object\n",
       "ubicacion             object\n",
       "user_id                int64\n",
       "moneda_q               uint8\n",
       "moneda_d               uint8\n",
       "tipo_dueno             uint8\n",
       "tipo_inmobiliaria      uint8\n",
       "U1                     uint8\n",
       "U10                    uint8\n",
       "U2                     uint8\n",
       "U3                     uint8\n",
       "U4                     uint8\n",
       "U5                     uint8\n",
       "U6                     uint8\n",
       "U7                     uint8\n",
       "U8                     uint8\n",
       "U9                     uint8\n",
       "dtype: object"
      ]
     },
     "execution_count": 69,
     "metadata": {},
     "output_type": "execute_result"
    }
   ],
   "source": [
    "# Eliminamos variables dummy si ya existen\n",
    "dfFiltradoSet = dfFiltradoSet.drop(['moneda_q','moneda_d', 'tipo_inmobiliaria', 'tipo_dueno'], axis=1, errors='ignore')\n",
    "\n",
    "# Convertimos aquellas variables categoricas a variables dummy.\n",
    "dfFiltradoSet = pd.concat([dfFiltradoSet, pd.get_dummies(dfFiltradoSet['moneda'])\\\n",
    "                              .rename(columns={'Q': 'moneda_q', 'US$': 'moneda_d'})], axis = 1)\n",
    "\n",
    "dfFiltradoSet = pd.concat([dfFiltradoSet, pd.get_dummies(dfFiltradoSet['tipo_vendedor'])\\\n",
    "                              .rename(columns={'Inmobiliaria': 'tipo_inmobiliaria', \n",
    "                                               'Dueño Directo': 'tipo_dueno'})], axis = 1)\n",
    "\n",
    "dfFiltradoSet = pd.concat([dfFiltradoSet, pd.get_dummies(dfFiltradoSet['ubicacion'])], axis = 1)\n",
    "\n",
    "# Verificamos las variables resultantes\n",
    "dfFiltradoSet.dtypes"
   ]
  },
  {
   "cell_type": "markdown",
   "metadata": {},
   "source": [
    "### Seleccion Variables Modelo"
   ]
  },
  {
   "cell_type": "code",
   "execution_count": 70,
   "metadata": {},
   "outputs": [
    {
     "data": {
      "text/plain": [
       "idregistro            object\n",
       "banos                float64\n",
       "espacio_m2           float64\n",
       "habitaciones         float64\n",
       "parqueo                int64\n",
       "precio_real          float64\n",
       "moneda_q               uint8\n",
       "moneda_d               uint8\n",
       "tipo_dueno             uint8\n",
       "tipo_inmobiliaria      uint8\n",
       "U1                     uint8\n",
       "U10                    uint8\n",
       "U2                     uint8\n",
       "U3                     uint8\n",
       "U4                     uint8\n",
       "U5                     uint8\n",
       "U6                     uint8\n",
       "U7                     uint8\n",
       "U8                     uint8\n",
       "U9                     uint8\n",
       "dtype: object"
      ]
     },
     "execution_count": 70,
     "metadata": {},
     "output_type": "execute_result"
    }
   ],
   "source": [
    "# Generar las variables de ubicacion\n",
    "variables_ubicacion =[\"U\" + str(ubicacion) for ubicacion in [*range(1, len(dfMapeo) + 1)]]\n",
    "variables_set = ['idregistro', 'banos', 'espacio_m2', \n",
    "                               'habitaciones', 'moneda_q', 'moneda_d',\n",
    "                               'parqueo', 'tipo_dueno', 'tipo_inmobiliaria', \n",
    "                               'precio_real'\n",
    "                              ]\n",
    "# Seleccion de las variables\n",
    "dfModeloSet = dfFiltradoSet[dfFiltradoSet.columns.intersection(variables_ubicacion + variables_set)]\n",
    "\n",
    "# Verificacion de las variables\n",
    "dfModeloSet.dtypes"
   ]
  },
  {
   "cell_type": "markdown",
   "metadata": {},
   "source": [
    "## Construccion Modelo"
   ]
  },
  {
   "cell_type": "code",
   "execution_count": 190,
   "metadata": {},
   "outputs": [
    {
     "data": {
      "text/plain": [
       "banos                float64\n",
       "espacio_m2           float64\n",
       "habitaciones         float64\n",
       "parqueo                int64\n",
       "moneda_q               uint8\n",
       "moneda_d               uint8\n",
       "tipo_dueno             uint8\n",
       "tipo_inmobiliaria      uint8\n",
       "U1                     uint8\n",
       "U10                    uint8\n",
       "U2                     uint8\n",
       "U3                     uint8\n",
       "U4                     uint8\n",
       "U5                     uint8\n",
       "U6                     uint8\n",
       "U7                     uint8\n",
       "U8                     uint8\n",
       "U9                     uint8\n",
       "dtype: object"
      ]
     },
     "execution_count": 190,
     "metadata": {},
     "output_type": "execute_result"
    }
   ],
   "source": [
    "# Seleccionamos las variables predictoras\n",
    "dfPredictors = dfModeloSet.loc[:, ~dfModeloSet.columns.isin(['precio_real', 'idregistro'])]\n",
    "\n",
    "# Seleccionamos la variable dependiente\n",
    "Y = dfModeloSet['precio_real']\n",
    "\n",
    "# Separamos los datos para test y training\n",
    "xTrain, xTest, yTrain, yTest = train_test_split(dfPredictors, Y, test_size = 0.3, random_state=1505)\n",
    "\n",
    "xTrain.dtypes"
   ]
  },
  {
   "cell_type": "code",
   "execution_count": 191,
   "metadata": {},
   "outputs": [
    {
     "data": {
      "text/html": [
       "<div>\n",
       "<style scoped>\n",
       "    .dataframe tbody tr th:only-of-type {\n",
       "        vertical-align: middle;\n",
       "    }\n",
       "\n",
       "    .dataframe tbody tr th {\n",
       "        vertical-align: top;\n",
       "    }\n",
       "\n",
       "    .dataframe thead th {\n",
       "        text-align: right;\n",
       "    }\n",
       "</style>\n",
       "<table border=\"1\" class=\"dataframe\">\n",
       "  <thead>\n",
       "    <tr style=\"text-align: right;\">\n",
       "      <th></th>\n",
       "      <th>idregistro</th>\n",
       "      <th>banos</th>\n",
       "      <th>espacio_m2</th>\n",
       "      <th>habitaciones</th>\n",
       "      <th>parqueo</th>\n",
       "      <th>precio_real</th>\n",
       "      <th>moneda_q</th>\n",
       "      <th>moneda_d</th>\n",
       "      <th>tipo_dueno</th>\n",
       "      <th>tipo_inmobiliaria</th>\n",
       "      <th>U1</th>\n",
       "      <th>U10</th>\n",
       "      <th>U2</th>\n",
       "      <th>U3</th>\n",
       "      <th>U4</th>\n",
       "      <th>U5</th>\n",
       "      <th>U6</th>\n",
       "      <th>U7</th>\n",
       "      <th>U8</th>\n",
       "      <th>U9</th>\n",
       "    </tr>\n",
       "  </thead>\n",
       "  <tbody>\n",
       "    <tr>\n",
       "      <th>843</th>\n",
       "      <td>1100413514</td>\n",
       "      <td>2.0</td>\n",
       "      <td>121.0</td>\n",
       "      <td>3.0</td>\n",
       "      <td>0</td>\n",
       "      <td>1418651.2</td>\n",
       "      <td>0</td>\n",
       "      <td>1</td>\n",
       "      <td>0</td>\n",
       "      <td>1</td>\n",
       "      <td>0</td>\n",
       "      <td>0</td>\n",
       "      <td>0</td>\n",
       "      <td>1</td>\n",
       "      <td>0</td>\n",
       "      <td>0</td>\n",
       "      <td>0</td>\n",
       "      <td>0</td>\n",
       "      <td>0</td>\n",
       "      <td>0</td>\n",
       "    </tr>\n",
       "  </tbody>\n",
       "</table>\n",
       "</div>"
      ],
      "text/plain": [
       "     idregistro  banos  espacio_m2  habitaciones  parqueo  precio_real  \\\n",
       "843  1100413514    2.0       121.0           3.0        0    1418651.2   \n",
       "\n",
       "     moneda_q  moneda_d  tipo_dueno  tipo_inmobiliaria  U1  U10  U2  U3  U4  \\\n",
       "843         0         1           0                  1   0    0   0   1   0   \n",
       "\n",
       "     U5  U6  U7  U8  U9  \n",
       "843   0   0   0   0   0  "
      ]
     },
     "execution_count": 191,
     "metadata": {},
     "output_type": "execute_result"
    }
   ],
   "source": [
    "dfModeloSet.loc[dfModeloSet['idregistro'] == '1100413514']"
   ]
  },
  {
   "cell_type": "code",
   "execution_count": 192,
   "metadata": {},
   "outputs": [
    {
     "data": {
      "text/html": [
       "<div>\n",
       "<style scoped>\n",
       "    .dataframe tbody tr th:only-of-type {\n",
       "        vertical-align: middle;\n",
       "    }\n",
       "\n",
       "    .dataframe tbody tr th {\n",
       "        vertical-align: top;\n",
       "    }\n",
       "\n",
       "    .dataframe thead th {\n",
       "        text-align: right;\n",
       "    }\n",
       "</style>\n",
       "<table border=\"1\" class=\"dataframe\">\n",
       "  <thead>\n",
       "    <tr style=\"text-align: right;\">\n",
       "      <th></th>\n",
       "      <th>nombrecampo</th>\n",
       "      <th>tipodatacampo</th>\n",
       "    </tr>\n",
       "  </thead>\n",
       "  <tbody>\n",
       "    <tr>\n",
       "      <th>0</th>\n",
       "      <td>idregistro</td>\n",
       "      <td>object</td>\n",
       "    </tr>\n",
       "    <tr>\n",
       "      <th>1</th>\n",
       "      <td>banos</td>\n",
       "      <td>float64</td>\n",
       "    </tr>\n",
       "    <tr>\n",
       "      <th>2</th>\n",
       "      <td>espacio_m2</td>\n",
       "      <td>float64</td>\n",
       "    </tr>\n",
       "    <tr>\n",
       "      <th>3</th>\n",
       "      <td>habitaciones</td>\n",
       "      <td>float64</td>\n",
       "    </tr>\n",
       "    <tr>\n",
       "      <th>4</th>\n",
       "      <td>parqueo</td>\n",
       "      <td>int64</td>\n",
       "    </tr>\n",
       "    <tr>\n",
       "      <th>5</th>\n",
       "      <td>precio_real</td>\n",
       "      <td>float64</td>\n",
       "    </tr>\n",
       "    <tr>\n",
       "      <th>6</th>\n",
       "      <td>moneda_q</td>\n",
       "      <td>uint8</td>\n",
       "    </tr>\n",
       "    <tr>\n",
       "      <th>7</th>\n",
       "      <td>moneda_d</td>\n",
       "      <td>uint8</td>\n",
       "    </tr>\n",
       "    <tr>\n",
       "      <th>8</th>\n",
       "      <td>tipo_dueno</td>\n",
       "      <td>uint8</td>\n",
       "    </tr>\n",
       "    <tr>\n",
       "      <th>9</th>\n",
       "      <td>tipo_inmobiliaria</td>\n",
       "      <td>uint8</td>\n",
       "    </tr>\n",
       "    <tr>\n",
       "      <th>10</th>\n",
       "      <td>U1</td>\n",
       "      <td>uint8</td>\n",
       "    </tr>\n",
       "    <tr>\n",
       "      <th>11</th>\n",
       "      <td>U10</td>\n",
       "      <td>uint8</td>\n",
       "    </tr>\n",
       "    <tr>\n",
       "      <th>12</th>\n",
       "      <td>U2</td>\n",
       "      <td>uint8</td>\n",
       "    </tr>\n",
       "    <tr>\n",
       "      <th>13</th>\n",
       "      <td>U3</td>\n",
       "      <td>uint8</td>\n",
       "    </tr>\n",
       "    <tr>\n",
       "      <th>14</th>\n",
       "      <td>U4</td>\n",
       "      <td>uint8</td>\n",
       "    </tr>\n",
       "    <tr>\n",
       "      <th>15</th>\n",
       "      <td>U5</td>\n",
       "      <td>uint8</td>\n",
       "    </tr>\n",
       "    <tr>\n",
       "      <th>16</th>\n",
       "      <td>U6</td>\n",
       "      <td>uint8</td>\n",
       "    </tr>\n",
       "    <tr>\n",
       "      <th>17</th>\n",
       "      <td>U7</td>\n",
       "      <td>uint8</td>\n",
       "    </tr>\n",
       "    <tr>\n",
       "      <th>18</th>\n",
       "      <td>U8</td>\n",
       "      <td>uint8</td>\n",
       "    </tr>\n",
       "    <tr>\n",
       "      <th>19</th>\n",
       "      <td>U9</td>\n",
       "      <td>uint8</td>\n",
       "    </tr>\n",
       "  </tbody>\n",
       "</table>\n",
       "</div>"
      ],
      "text/plain": [
       "          nombrecampo tipodatacampo\n",
       "0          idregistro        object\n",
       "1               banos       float64\n",
       "2          espacio_m2       float64\n",
       "3        habitaciones       float64\n",
       "4             parqueo         int64\n",
       "5         precio_real       float64\n",
       "6            moneda_q         uint8\n",
       "7            moneda_d         uint8\n",
       "8          tipo_dueno         uint8\n",
       "9   tipo_inmobiliaria         uint8\n",
       "10                 U1         uint8\n",
       "11                U10         uint8\n",
       "12                 U2         uint8\n",
       "13                 U3         uint8\n",
       "14                 U4         uint8\n",
       "15                 U5         uint8\n",
       "16                 U6         uint8\n",
       "17                 U7         uint8\n",
       "18                 U8         uint8\n",
       "19                 U9         uint8"
      ]
     },
     "execution_count": 192,
     "metadata": {},
     "output_type": "execute_result"
    }
   ],
   "source": [
    "\n",
    "dfTemp = dfModeloSet.loc[~dfModeloSet.index.isin(xTrain.index)]\n",
    "\n",
    "dfTemp = pd.DataFrame(dfTemp[dfTemp.columns].dtypes).reset_index()\n",
    "\n",
    "dfTemp.columns = ['nombrecampo', 'tipodatacampo']\n",
    "\n",
    "dfTemp"
   ]
  },
  {
   "cell_type": "markdown",
   "metadata": {},
   "source": [
    "### Regresion Lineal\n",
    "\n",
    "Se crea modelo de regresion lineal multivariable utilizando los datos de entrenamiento. Verificamos que obtenemos los valores de coeficiente y de intercepto."
   ]
  },
  {
   "cell_type": "code",
   "execution_count": 193,
   "metadata": {},
   "outputs": [
    {
     "data": {
      "text/plain": [
       "array([  85975.27339808,   12985.78556357,  -55751.8901623 ,\n",
       "        157614.10577966,  -23689.58764401,   23689.58764401,\n",
       "        -89081.07078159,   89081.07078159,  104009.75875926,\n",
       "       -148695.00962134,   24983.59195387,  173969.1156708 ,\n",
       "        129993.45429427, -129003.43207154, -138034.17458658,\n",
       "        -30196.0338024 ,  262699.4517589 , -249726.72235523])"
      ]
     },
     "execution_count": 193,
     "metadata": {},
     "output_type": "execute_result"
    }
   ],
   "source": [
    "# Construccion del modelo\n",
    "linearRegModel = LinearRegression()\n",
    "\n",
    "linearRegModel.fit(xTrain, yTrain)\n",
    "\n",
    "# Verificacion de coeficientes\n",
    "linearRegModel.coef_"
   ]
  },
  {
   "cell_type": "code",
   "execution_count": 194,
   "metadata": {},
   "outputs": [
    {
     "data": {
      "text/plain": [
       "-373610.6655760454"
      ]
     },
     "execution_count": 194,
     "metadata": {},
     "output_type": "execute_result"
    }
   ],
   "source": [
    "# Verificacion de intercepto\n",
    "linearRegModel.intercept_"
   ]
  },
  {
   "cell_type": "markdown",
   "metadata": {},
   "source": [
    "#### Validacion"
   ]
  },
  {
   "cell_type": "code",
   "execution_count": 195,
   "metadata": {},
   "outputs": [
    {
     "data": {
      "text/plain": [
       "[Text(0, 0.5, 'Densidad'),\n",
       " Text(0.5, 0, 'Precio (Q)'),\n",
       " Text(0.5, 1.0, 'Regresion Lineal Multivariable')]"
      ]
     },
     "execution_count": 195,
     "metadata": {},
     "output_type": "execute_result"
    },
    {
     "data": {
      "image/png": "[encoded data removed]",
      "text/plain": [
       "<Figure size 432x288 with 1 Axes>"
      ]
     },
     "metadata": {
      "needs_background": "light"
     },
     "output_type": "display_data"
    }
   ],
   "source": [
    "# Obtenemos las predicciones del modelo para los datos test\n",
    "yHat = linearRegModel.predict(xTest)\n",
    "\n",
    "# Verificamos con un grafico de distribucion la prediccion del modelo\n",
    "ax1 = sns.distplot(yTest, hist = False, color = \"r\", label = \"Precio Actual\")\n",
    "sns.distplot(yHat, hist = False, color = \"b\", label = \"Precio Modelo\", ax = ax1)\n",
    "ax1.set(title = \"Regresion Lineal Multivariable\", xlabel='Precio (Q)', ylabel='Densidad')"
   ]
  },
  {
   "cell_type": "markdown",
   "metadata": {},
   "source": [
    "#### MSE & R^2"
   ]
  },
  {
   "cell_type": "code",
   "execution_count": 196,
   "metadata": {},
   "outputs": [
    {
     "data": {
      "text/plain": [
       "376438712205.0342"
      ]
     },
     "execution_count": 196,
     "metadata": {},
     "output_type": "execute_result"
    }
   ],
   "source": [
    "# Calculo de metricas\n",
    "mseLinearRegModel = mean_squared_error(yTest, yHat)\n",
    "r2LinearRegModel = r2_score(yTest, yHat)\n",
    "\n",
    "mseLinearRegModel"
   ]
  },
  {
   "cell_type": "code",
   "execution_count": 197,
   "metadata": {},
   "outputs": [
    {
     "data": {
      "text/plain": [
       "0.7760756515568852"
      ]
     },
     "execution_count": 197,
     "metadata": {},
     "output_type": "execute_result"
    }
   ],
   "source": [
    "r2LinearRegModel"
   ]
  },
  {
   "cell_type": "markdown",
   "metadata": {},
   "source": [
    "### Random Forest Regressor"
   ]
  },
  {
   "cell_type": "code",
   "execution_count": 198,
   "metadata": {},
   "outputs": [
    {
     "data": {
      "text/plain": [
       "RandomForestRegressor(max_depth=20, n_estimators=200, random_state=1505)"
      ]
     },
     "execution_count": 198,
     "metadata": {},
     "output_type": "execute_result"
    }
   ],
   "source": [
    "# Construccion del modelo\n",
    "randomForestModel = RandomForestRegressor(n_estimators = 200, max_depth = 20, random_state = 1505)\n",
    "\n",
    "randomForestModel.fit(xTrain, yTrain)"
   ]
  },
  {
   "cell_type": "markdown",
   "metadata": {},
   "source": [
    "#### Validacion"
   ]
  },
  {
   "cell_type": "code",
   "execution_count": 199,
   "metadata": {},
   "outputs": [
    {
     "data": {
      "text/plain": [
       "[Text(0, 0.5, 'Densidad'),\n",
       " Text(0.5, 0, 'Precio (Q)'),\n",
       " Text(0.5, 1.0, 'Random Forest Regressor')]"
      ]
     },
     "execution_count": 199,
     "metadata": {},
     "output_type": "execute_result"
    },
    {
     "data": {
      "image/png": "[encoded data removed]",
      "text/plain": [
       "<Figure size 432x288 with 1 Axes>"
      ]
     },
     "metadata": {
      "needs_background": "light"
     },
     "output_type": "display_data"
    }
   ],
   "source": [
    "# Obtenemos las predicciones del modelo para los datos test\n",
    "yHat = randomForestModel.predict(xTest)\n",
    "\n",
    "# Verificamos con un grafico de distribucion la prediccion del modelo\n",
    "ax1 = sns.distplot(yTest, hist = False, color = \"r\", label = \"Precio Actual\")\n",
    "sns.distplot(yHat, hist = False, color = \"b\", label = \"Precio Modelo\", ax = ax1)\n",
    "ax1.set(title = \"Random Forest Regressor\", xlabel='Precio (Q)', ylabel='Densidad')"
   ]
  },
  {
   "cell_type": "markdown",
   "metadata": {},
   "source": [
    "#### MSE & R^2"
   ]
  },
  {
   "cell_type": "code",
   "execution_count": 200,
   "metadata": {},
   "outputs": [
    {
     "data": {
      "text/plain": [
       "364104495485.3591"
      ]
     },
     "execution_count": 200,
     "metadata": {},
     "output_type": "execute_result"
    }
   ],
   "source": [
    "# Calculo de metricas\n",
    "mseRandomForestModel = mean_squared_error(yTest, yHat)\n",
    "r2RandomForestModel = r2_score(yTest, yHat)\n",
    "\n",
    "mseRandomForestModel"
   ]
  },
  {
   "cell_type": "code",
   "execution_count": 201,
   "metadata": {},
   "outputs": [
    {
     "data": {
      "text/plain": [
       "0.7834126531801536"
      ]
     },
     "execution_count": 201,
     "metadata": {},
     "output_type": "execute_result"
    }
   ],
   "source": [
    "r2RandomForestModel"
   ]
  },
  {
   "cell_type": "code",
   "execution_count": 204,
   "metadata": {},
   "outputs": [
    {
     "data": {
      "text/html": [
       "<div>\n",
       "<style scoped>\n",
       "    .dataframe tbody tr th:only-of-type {\n",
       "        vertical-align: middle;\n",
       "    }\n",
       "\n",
       "    .dataframe tbody tr th {\n",
       "        vertical-align: top;\n",
       "    }\n",
       "\n",
       "    .dataframe thead th {\n",
       "        text-align: right;\n",
       "    }\n",
       "</style>\n",
       "<table border=\"1\" class=\"dataframe\">\n",
       "  <thead>\n",
       "    <tr style=\"text-align: right;\">\n",
       "      <th></th>\n",
       "      <th>banos</th>\n",
       "      <th>espacio_m2</th>\n",
       "      <th>habitaciones</th>\n",
       "      <th>parqueo</th>\n",
       "      <th>moneda_q</th>\n",
       "      <th>moneda_d</th>\n",
       "      <th>tipo_dueno</th>\n",
       "      <th>tipo_inmobiliaria</th>\n",
       "      <th>U1</th>\n",
       "      <th>U10</th>\n",
       "      <th>U2</th>\n",
       "      <th>U3</th>\n",
       "      <th>U4</th>\n",
       "      <th>U5</th>\n",
       "      <th>U6</th>\n",
       "      <th>U7</th>\n",
       "      <th>U8</th>\n",
       "      <th>U9</th>\n",
       "    </tr>\n",
       "  </thead>\n",
       "  <tbody>\n",
       "    <tr>\n",
       "      <th>0</th>\n",
       "      <td>3.0</td>\n",
       "      <td>232.0</td>\n",
       "      <td>3.0</td>\n",
       "      <td>1</td>\n",
       "      <td>0</td>\n",
       "      <td>1</td>\n",
       "      <td>0</td>\n",
       "      <td>1</td>\n",
       "      <td>1</td>\n",
       "      <td>0</td>\n",
       "      <td>0</td>\n",
       "      <td>0</td>\n",
       "      <td>0</td>\n",
       "      <td>0</td>\n",
       "      <td>0</td>\n",
       "      <td>0</td>\n",
       "      <td>0</td>\n",
       "      <td>0</td>\n",
       "    </tr>\n",
       "  </tbody>\n",
       "</table>\n",
       "</div>"
      ],
      "text/plain": [
       "   banos  espacio_m2  habitaciones  parqueo  moneda_q  moneda_d  tipo_dueno  \\\n",
       "0    3.0       232.0           3.0        1         0         1           0   \n",
       "\n",
       "   tipo_inmobiliaria  U1  U10  U2  U3  U4  U5  U6  U7  U8  U9  \n",
       "0                  1   1    0   0   0   0   0   0   0   0   0  "
      ]
     },
     "execution_count": 204,
     "metadata": {},
     "output_type": "execute_result"
    }
   ],
   "source": [
    "dfT = dfModeloSet.loc[dfModeloSet['idregistro'] == '1007688385', ~dfModeloSet.columns.isin(['idregistro', 'precio_real'])]\n",
    "\n",
    "dfT"
   ]
  }
 ],
 "metadata": {
  "kernelspec": {
   "display_name": "Python 3",
   "language": "python",
   "name": "python3"
  },
  "language_info": {
   "codemirror_mode": {
    "name": "ipython",
    "version": 3
   },
   "file_extension": ".py",
   "mimetype": "text/x-python",
   "name": "python",
   "nbconvert_exporter": "python",
   "pygments_lexer": "ipython3",
   "version": "3.7.6"
  },
  "toc": {
   "base_numbering": 1,
   "nav_menu": {},
   "number_sections": true,
   "sideBar": true,
   "skip_h1_title": false,
   "title_cell": "Table of Contents",
   "title_sidebar": "Contents",
   "toc_cell": false,
   "toc_position": {
    "height": "calc(100% - 180px)",
    "left": "10px",
    "top": "150px",
    "width": "212px"
   },
   "toc_section_display": true,
   "toc_window_display": true
  }
 },
 "nbformat": 4,
 "nbformat_minor": 4
}
