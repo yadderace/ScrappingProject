{
 "cells": [
  {
   "cell_type": "markdown",
   "metadata": {},
   "source": [
    "# Data Wrangling"
   ]
  },
  {
   "cell_type": "markdown",
   "metadata": {},
   "source": [
    "## Librerias\n",
    "\n",
    "### Instalacion"
   ]
  },
  {
   "cell_type": "code",
   "execution_count": null,
   "metadata": {},
   "outputs": [],
   "source": []
  },
  {
   "cell_type": "markdown",
   "metadata": {},
   "source": [
    "### Importacion"
   ]
  },
  {
   "cell_type": "code",
   "execution_count": 342,
   "metadata": {},
   "outputs": [],
   "source": [
    "import re\n",
    "import pandas as pd\n",
    "import numpy as np\n",
    "import seaborn as sns\n",
    "\n",
    "from sklearn.cluster import KMeans\n",
    "from sklearn.model_selection import train_test_split\n",
    "from sklearn.linear_model import LinearRegression\n",
    "from sklearn.ensemble import RandomForestRegressor"
   ]
  },
  {
   "cell_type": "markdown",
   "metadata": {},
   "source": [
    "## Carga Datos"
   ]
  },
  {
   "cell_type": "code",
   "execution_count": 296,
   "metadata": {},
   "outputs": [
    {
     "data": {
      "text/html": [
       "<div>\n",
       "<style scoped>\n",
       "    .dataframe tbody tr th:only-of-type {\n",
       "        vertical-align: middle;\n",
       "    }\n",
       "\n",
       "    .dataframe tbody tr th {\n",
       "        vertical-align: top;\n",
       "    }\n",
       "\n",
       "    .dataframe thead th {\n",
       "        text-align: right;\n",
       "    }\n",
       "</style>\n",
       "<table border=\"1\" class=\"dataframe\">\n",
       "  <thead>\n",
       "    <tr style=\"text-align: right;\">\n",
       "      <th></th>\n",
       "      <th>codigoencabezado</th>\n",
       "      <th>idregistro</th>\n",
       "      <th>linkpagina</th>\n",
       "      <th>fecharegistro</th>\n",
       "      <th>administracion</th>\n",
       "      <th>amueblado</th>\n",
       "      <th>antiguedad</th>\n",
       "      <th>banos</th>\n",
       "      <th>habitaciones</th>\n",
       "      <th>estudio</th>\n",
       "      <th>...</th>\n",
       "      <th>moneda</th>\n",
       "      <th>tipo</th>\n",
       "      <th>tipo_vendedor</th>\n",
       "      <th>favoritos</th>\n",
       "      <th>titulo</th>\n",
       "      <th>fecha_creacion</th>\n",
       "      <th>valido_hasta</th>\n",
       "      <th>descripcion</th>\n",
       "      <th>partner_code</th>\n",
       "      <th>user_id</th>\n",
       "    </tr>\n",
       "  </thead>\n",
       "  <tbody>\n",
       "    <tr>\n",
       "      <th>count</th>\n",
       "      <td>2918.000000</td>\n",
       "      <td>2.918000e+03</td>\n",
       "      <td>2918</td>\n",
       "      <td>2918</td>\n",
       "      <td>612.000000</td>\n",
       "      <td>1779</td>\n",
       "      <td>1405</td>\n",
       "      <td>2916.000000</td>\n",
       "      <td>2904.000000</td>\n",
       "      <td>2904</td>\n",
       "      <td>...</td>\n",
       "      <td>2918</td>\n",
       "      <td>2915</td>\n",
       "      <td>2403</td>\n",
       "      <td>2918.000000</td>\n",
       "      <td>2918</td>\n",
       "      <td>2918</td>\n",
       "      <td>2918</td>\n",
       "      <td>2918</td>\n",
       "      <td>423</td>\n",
       "      <td>2.918000e+03</td>\n",
       "    </tr>\n",
       "    <tr>\n",
       "      <th>unique</th>\n",
       "      <td>NaN</td>\n",
       "      <td>NaN</td>\n",
       "      <td>1543</td>\n",
       "      <td>10</td>\n",
       "      <td>NaN</td>\n",
       "      <td>2</td>\n",
       "      <td>8</td>\n",
       "      <td>NaN</td>\n",
       "      <td>NaN</td>\n",
       "      <td>2</td>\n",
       "      <td>...</td>\n",
       "      <td>2</td>\n",
       "      <td>4</td>\n",
       "      <td>2</td>\n",
       "      <td>NaN</td>\n",
       "      <td>1450</td>\n",
       "      <td>1665</td>\n",
       "      <td>1528</td>\n",
       "      <td>1545</td>\n",
       "      <td>252</td>\n",
       "      <td>NaN</td>\n",
       "    </tr>\n",
       "    <tr>\n",
       "      <th>top</th>\n",
       "      <td>NaN</td>\n",
       "      <td>NaN</td>\n",
       "      <td>https://www.olx.com.gt/item/venta-apartamento-...</td>\n",
       "      <td>2020-06-10</td>\n",
       "      <td>NaN</td>\n",
       "      <td>No</td>\n",
       "      <td>Entre 5 y 10 años</td>\n",
       "      <td>NaN</td>\n",
       "      <td>NaN</td>\n",
       "      <td>No</td>\n",
       "      <td>...</td>\n",
       "      <td>US$</td>\n",
       "      <td>Apartamento</td>\n",
       "      <td>Inmobiliaria</td>\n",
       "      <td>NaN</td>\n",
       "      <td>ALQUILO APARTAMENTO EN VILLA CANALES</td>\n",
       "      <td>2020-05-03T13:47:49-06:00</td>\n",
       "      <td>2020-08-20T10:46:28-06:00</td>\n",
       "      <td>Fácil acceso por Villa Nueva, Petapa, Villa Ca...</td>\n",
       "      <td>PVA-007-05-20-V</td>\n",
       "      <td>NaN</td>\n",
       "    </tr>\n",
       "    <tr>\n",
       "      <th>freq</th>\n",
       "      <td>NaN</td>\n",
       "      <td>NaN</td>\n",
       "      <td>11</td>\n",
       "      <td>550</td>\n",
       "      <td>NaN</td>\n",
       "      <td>1395</td>\n",
       "      <td>441</td>\n",
       "      <td>NaN</td>\n",
       "      <td>NaN</td>\n",
       "      <td>2887</td>\n",
       "      <td>...</td>\n",
       "      <td>1814</td>\n",
       "      <td>2849</td>\n",
       "      <td>2003</td>\n",
       "      <td>NaN</td>\n",
       "      <td>14</td>\n",
       "      <td>11</td>\n",
       "      <td>11</td>\n",
       "      <td>15</td>\n",
       "      <td>6</td>\n",
       "      <td>NaN</td>\n",
       "    </tr>\n",
       "    <tr>\n",
       "      <th>mean</th>\n",
       "      <td>1460.194311</td>\n",
       "      <td>1.095548e+09</td>\n",
       "      <td>NaN</td>\n",
       "      <td>NaN</td>\n",
       "      <td>808.816993</td>\n",
       "      <td>NaN</td>\n",
       "      <td>NaN</td>\n",
       "      <td>1.945816</td>\n",
       "      <td>2.308884</td>\n",
       "      <td>NaN</td>\n",
       "      <td>...</td>\n",
       "      <td>NaN</td>\n",
       "      <td>NaN</td>\n",
       "      <td>NaN</td>\n",
       "      <td>2.209390</td>\n",
       "      <td>NaN</td>\n",
       "      <td>NaN</td>\n",
       "      <td>NaN</td>\n",
       "      <td>NaN</td>\n",
       "      <td>NaN</td>\n",
       "      <td>4.043748e+07</td>\n",
       "    </tr>\n",
       "    <tr>\n",
       "      <th>std</th>\n",
       "      <td>842.866093</td>\n",
       "      <td>1.460999e+07</td>\n",
       "      <td>NaN</td>\n",
       "      <td>NaN</td>\n",
       "      <td>4543.787512</td>\n",
       "      <td>NaN</td>\n",
       "      <td>NaN</td>\n",
       "      <td>0.917046</td>\n",
       "      <td>0.810271</td>\n",
       "      <td>NaN</td>\n",
       "      <td>...</td>\n",
       "      <td>NaN</td>\n",
       "      <td>NaN</td>\n",
       "      <td>NaN</td>\n",
       "      <td>13.218336</td>\n",
       "      <td>NaN</td>\n",
       "      <td>NaN</td>\n",
       "      <td>NaN</td>\n",
       "      <td>NaN</td>\n",
       "      <td>NaN</td>\n",
       "      <td>2.521975e+07</td>\n",
       "    </tr>\n",
       "    <tr>\n",
       "      <th>min</th>\n",
       "      <td>1.000000</td>\n",
       "      <td>9.637780e+08</td>\n",
       "      <td>NaN</td>\n",
       "      <td>NaN</td>\n",
       "      <td>0.000000</td>\n",
       "      <td>NaN</td>\n",
       "      <td>NaN</td>\n",
       "      <td>0.000000</td>\n",
       "      <td>1.000000</td>\n",
       "      <td>NaN</td>\n",
       "      <td>...</td>\n",
       "      <td>NaN</td>\n",
       "      <td>NaN</td>\n",
       "      <td>NaN</td>\n",
       "      <td>0.000000</td>\n",
       "      <td>NaN</td>\n",
       "      <td>NaN</td>\n",
       "      <td>NaN</td>\n",
       "      <td>NaN</td>\n",
       "      <td>NaN</td>\n",
       "      <td>4.263970e+06</td>\n",
       "    </tr>\n",
       "    <tr>\n",
       "      <th>25%</th>\n",
       "      <td>730.250000</td>\n",
       "      <td>1.100263e+09</td>\n",
       "      <td>NaN</td>\n",
       "      <td>NaN</td>\n",
       "      <td>0.000000</td>\n",
       "      <td>NaN</td>\n",
       "      <td>NaN</td>\n",
       "      <td>1.000000</td>\n",
       "      <td>2.000000</td>\n",
       "      <td>NaN</td>\n",
       "      <td>...</td>\n",
       "      <td>NaN</td>\n",
       "      <td>NaN</td>\n",
       "      <td>NaN</td>\n",
       "      <td>0.000000</td>\n",
       "      <td>NaN</td>\n",
       "      <td>NaN</td>\n",
       "      <td>NaN</td>\n",
       "      <td>NaN</td>\n",
       "      <td>NaN</td>\n",
       "      <td>2.401211e+07</td>\n",
       "    </tr>\n",
       "    <tr>\n",
       "      <th>50%</th>\n",
       "      <td>1460.500000</td>\n",
       "      <td>1.100372e+09</td>\n",
       "      <td>NaN</td>\n",
       "      <td>NaN</td>\n",
       "      <td>0.000000</td>\n",
       "      <td>NaN</td>\n",
       "      <td>NaN</td>\n",
       "      <td>2.000000</td>\n",
       "      <td>2.000000</td>\n",
       "      <td>NaN</td>\n",
       "      <td>...</td>\n",
       "      <td>NaN</td>\n",
       "      <td>NaN</td>\n",
       "      <td>NaN</td>\n",
       "      <td>1.000000</td>\n",
       "      <td>NaN</td>\n",
       "      <td>NaN</td>\n",
       "      <td>NaN</td>\n",
       "      <td>NaN</td>\n",
       "      <td>NaN</td>\n",
       "      <td>2.767485e+07</td>\n",
       "    </tr>\n",
       "    <tr>\n",
       "      <th>75%</th>\n",
       "      <td>2189.750000</td>\n",
       "      <td>1.100398e+09</td>\n",
       "      <td>NaN</td>\n",
       "      <td>NaN</td>\n",
       "      <td>650.000000</td>\n",
       "      <td>NaN</td>\n",
       "      <td>NaN</td>\n",
       "      <td>2.000000</td>\n",
       "      <td>3.000000</td>\n",
       "      <td>NaN</td>\n",
       "      <td>...</td>\n",
       "      <td>NaN</td>\n",
       "      <td>NaN</td>\n",
       "      <td>NaN</td>\n",
       "      <td>2.000000</td>\n",
       "      <td>NaN</td>\n",
       "      <td>NaN</td>\n",
       "      <td>NaN</td>\n",
       "      <td>NaN</td>\n",
       "      <td>NaN</td>\n",
       "      <td>6.291165e+07</td>\n",
       "    </tr>\n",
       "    <tr>\n",
       "      <th>max</th>\n",
       "      <td>2919.000000</td>\n",
       "      <td>1.100426e+09</td>\n",
       "      <td>NaN</td>\n",
       "      <td>NaN</td>\n",
       "      <td>65546.000000</td>\n",
       "      <td>NaN</td>\n",
       "      <td>NaN</td>\n",
       "      <td>10.000000</td>\n",
       "      <td>10.000000</td>\n",
       "      <td>NaN</td>\n",
       "      <td>...</td>\n",
       "      <td>NaN</td>\n",
       "      <td>NaN</td>\n",
       "      <td>NaN</td>\n",
       "      <td>642.000000</td>\n",
       "      <td>NaN</td>\n",
       "      <td>NaN</td>\n",
       "      <td>NaN</td>\n",
       "      <td>NaN</td>\n",
       "      <td>NaN</td>\n",
       "      <td>8.036920e+07</td>\n",
       "    </tr>\n",
       "  </tbody>\n",
       "</table>\n",
       "<p>11 rows × 26 columns</p>\n",
       "</div>"
      ],
      "text/plain": [
       "        codigoencabezado    idregistro  \\\n",
       "count        2918.000000  2.918000e+03   \n",
       "unique               NaN           NaN   \n",
       "top                  NaN           NaN   \n",
       "freq                 NaN           NaN   \n",
       "mean         1460.194311  1.095548e+09   \n",
       "std           842.866093  1.460999e+07   \n",
       "min             1.000000  9.637780e+08   \n",
       "25%           730.250000  1.100263e+09   \n",
       "50%          1460.500000  1.100372e+09   \n",
       "75%          2189.750000  1.100398e+09   \n",
       "max          2919.000000  1.100426e+09   \n",
       "\n",
       "                                               linkpagina fecharegistro  \\\n",
       "count                                                2918          2918   \n",
       "unique                                               1543            10   \n",
       "top     https://www.olx.com.gt/item/venta-apartamento-...    2020-06-10   \n",
       "freq                                                   11           550   \n",
       "mean                                                  NaN           NaN   \n",
       "std                                                   NaN           NaN   \n",
       "min                                                   NaN           NaN   \n",
       "25%                                                   NaN           NaN   \n",
       "50%                                                   NaN           NaN   \n",
       "75%                                                   NaN           NaN   \n",
       "max                                                   NaN           NaN   \n",
       "\n",
       "        administracion amueblado         antiguedad        banos  \\\n",
       "count       612.000000      1779               1405  2916.000000   \n",
       "unique             NaN         2                  8          NaN   \n",
       "top                NaN        No  Entre 5 y 10 años          NaN   \n",
       "freq               NaN      1395                441          NaN   \n",
       "mean        808.816993       NaN                NaN     1.945816   \n",
       "std        4543.787512       NaN                NaN     0.917046   \n",
       "min           0.000000       NaN                NaN     0.000000   \n",
       "25%           0.000000       NaN                NaN     1.000000   \n",
       "50%           0.000000       NaN                NaN     2.000000   \n",
       "75%         650.000000       NaN                NaN     2.000000   \n",
       "max       65546.000000       NaN                NaN    10.000000   \n",
       "\n",
       "        habitaciones estudio  ...  moneda         tipo  tipo_vendedor  \\\n",
       "count    2904.000000    2904  ...    2918         2915           2403   \n",
       "unique           NaN       2  ...       2            4              2   \n",
       "top              NaN      No  ...     US$  Apartamento   Inmobiliaria   \n",
       "freq             NaN    2887  ...    1814         2849           2003   \n",
       "mean        2.308884     NaN  ...     NaN          NaN            NaN   \n",
       "std         0.810271     NaN  ...     NaN          NaN            NaN   \n",
       "min         1.000000     NaN  ...     NaN          NaN            NaN   \n",
       "25%         2.000000     NaN  ...     NaN          NaN            NaN   \n",
       "50%         2.000000     NaN  ...     NaN          NaN            NaN   \n",
       "75%         3.000000     NaN  ...     NaN          NaN            NaN   \n",
       "max        10.000000     NaN  ...     NaN          NaN            NaN   \n",
       "\n",
       "          favoritos                                titulo  \\\n",
       "count   2918.000000                                  2918   \n",
       "unique          NaN                                  1450   \n",
       "top             NaN  ALQUILO APARTAMENTO EN VILLA CANALES   \n",
       "freq            NaN                                    14   \n",
       "mean       2.209390                                   NaN   \n",
       "std       13.218336                                   NaN   \n",
       "min        0.000000                                   NaN   \n",
       "25%        0.000000                                   NaN   \n",
       "50%        1.000000                                   NaN   \n",
       "75%        2.000000                                   NaN   \n",
       "max      642.000000                                   NaN   \n",
       "\n",
       "                   fecha_creacion               valido_hasta  \\\n",
       "count                        2918                       2918   \n",
       "unique                       1665                       1528   \n",
       "top     2020-05-03T13:47:49-06:00  2020-08-20T10:46:28-06:00   \n",
       "freq                           11                         11   \n",
       "mean                          NaN                        NaN   \n",
       "std                           NaN                        NaN   \n",
       "min                           NaN                        NaN   \n",
       "25%                           NaN                        NaN   \n",
       "50%                           NaN                        NaN   \n",
       "75%                           NaN                        NaN   \n",
       "max                           NaN                        NaN   \n",
       "\n",
       "                                              descripcion     partner_code  \\\n",
       "count                                                2918              423   \n",
       "unique                                               1545              252   \n",
       "top     Fácil acceso por Villa Nueva, Petapa, Villa Ca...  PVA-007-05-20-V   \n",
       "freq                                                   15                6   \n",
       "mean                                                  NaN              NaN   \n",
       "std                                                   NaN              NaN   \n",
       "min                                                   NaN              NaN   \n",
       "25%                                                   NaN              NaN   \n",
       "50%                                                   NaN              NaN   \n",
       "75%                                                   NaN              NaN   \n",
       "max                                                   NaN              NaN   \n",
       "\n",
       "             user_id  \n",
       "count   2.918000e+03  \n",
       "unique           NaN  \n",
       "top              NaN  \n",
       "freq             NaN  \n",
       "mean    4.043748e+07  \n",
       "std     2.521975e+07  \n",
       "min     4.263970e+06  \n",
       "25%     2.401211e+07  \n",
       "50%     2.767485e+07  \n",
       "75%     6.291165e+07  \n",
       "max     8.036920e+07  \n",
       "\n",
       "[11 rows x 26 columns]"
      ]
     },
     "execution_count": 296,
     "metadata": {},
     "output_type": "execute_result"
    }
   ],
   "source": [
    "dfFinalSet = pd.read_csv('FinalSet.csv', dtype = {'codigoencabezado': 'int32'})\n",
    "\n",
    "dfFinalSet.describe(include = 'all')"
   ]
  },
  {
   "cell_type": "markdown",
   "metadata": {},
   "source": [
    "## Data Wrangling"
   ]
  },
  {
   "cell_type": "markdown",
   "metadata": {},
   "source": [
    "En esta seccion prepararemos el set de datos que se utilizara para realizar la construccion del modelo de regresion. Primero definiremos los valores de flag para indicar que acciones se aplicaran sobre los datos."
   ]
  },
  {
   "cell_type": "code",
   "execution_count": 297,
   "metadata": {},
   "outputs": [],
   "source": [
    "# Normalizacion de datos para columna espacio_m2\n",
    "flagDataNormalization = True"
   ]
  },
  {
   "cell_type": "markdown",
   "metadata": {},
   "source": [
    "### Registros Unicos\n",
    "\n",
    "Obtendremos solo los valores mas actualizados de los registros. Utilizaremos el atributo **idregistro** como identificador unico de los registros."
   ]
  },
  {
   "cell_type": "code",
   "execution_count": 298,
   "metadata": {},
   "outputs": [
    {
     "data": {
      "text/plain": [
       "(1530, 26)"
      ]
     },
     "execution_count": 298,
     "metadata": {},
     "output_type": "execute_result"
    }
   ],
   "source": [
    "# Conversion a string del campo idregistro\n",
    "dfAnalisisSet = dfFinalSet.astype({'idregistro': 'str'})\n",
    "\n",
    "# Conversion a fecha del campo fecharegsitro\n",
    "dfAnalisisSet['fecharegistro'] = pd.to_datetime(dfAnalisisSet['fecharegistro'], format = \"%Y-%m-%d\")\n",
    "\n",
    "# Obtencion de fecha maxima por cada idregistro y filtro de esos registros.\n",
    "dfAnalisisSet = dfAnalisisSet.loc[dfAnalisisSet.reset_index().groupby(['idregistro'])['fecharegistro'].idxmax()]\n",
    "\n",
    "# Verificamos la cantidad de registros faltantes\n",
    "dfAnalisisSet.shape"
   ]
  },
  {
   "cell_type": "markdown",
   "metadata": {},
   "source": [
    "### Columna Precio Real\n",
    "\n",
    "Procedemos a crear una columna llamada **precio_real** para establecer el precio en quetzales. Para los registros que tienen un precio en dolares se aplicara el factor de conversion a quetzales."
   ]
  },
  {
   "cell_type": "code",
   "execution_count": 299,
   "metadata": {},
   "outputs": [
    {
     "data": {
      "text/plain": [
       "1630    2299310.0\n",
       "974     1207330.0\n",
       "975      922800.0\n",
       "965        6000.0\n",
       "556        9612.5\n",
       "          ...    \n",
       "2515       4500.0\n",
       "2514       6000.0\n",
       "2513       9228.0\n",
       "1645        900.0\n",
       "2659    4921600.0\n",
       "Name: precio_real, Length: 1530, dtype: float64"
      ]
     },
     "execution_count": 299,
     "metadata": {},
     "output_type": "execute_result"
    }
   ],
   "source": [
    "# Factor de conversion\n",
    "cambio_moneda = 7.69\n",
    "\n",
    "# Creacion de nueva columna\n",
    "dfAnalisisSet['precio_real'] = np.where(dfAnalisisSet['moneda'] == 'US$', dfAnalisisSet['precio'] * cambio_moneda, \n",
    "                                        dfAnalisisSet['precio'])\n",
    "\n",
    "# Visualizams los valores de precio real\n",
    "dfAnalisisSet['precio_real']"
   ]
  },
  {
   "cell_type": "markdown",
   "metadata": {},
   "source": [
    "### Columna Oferta\n",
    "\n",
    "Procederemos a crear una columna llamada oferta para determinar si es una venta o alquiler de apartamento. Para ello vamos a especificar un valor pivote en la columna precio. Todo valor superior al valor pivote sera considerado como una venta."
   ]
  },
  {
   "cell_type": "code",
   "execution_count": 300,
   "metadata": {},
   "outputs": [
    {
     "data": {
      "text/plain": [
       "oferta\n",
       "Alquiler    950\n",
       "Venta       580\n",
       "Name: codigoencabezado, dtype: int64"
      ]
     },
     "execution_count": 300,
     "metadata": {},
     "output_type": "execute_result"
    }
   ],
   "source": [
    "# Asignacion de valor pivote\n",
    "intValorPivote = 50000\n",
    "\n",
    "# Creacion de nueva columna oferta.\n",
    "dfAnalisisSet['oferta'] = ['Venta' if precio > intValorPivote else 'Alquiler' for precio in dfAnalisisSet['precio_real']]\n",
    "\n",
    "# Verificamos cuantos registros quedaron en el dataset\n",
    "dfAnalisisSet.groupby(['oferta']).count()['codigoencabezado']"
   ]
  },
  {
   "cell_type": "markdown",
   "metadata": {},
   "source": [
    "### Filtro Inicial"
   ]
  },
  {
   "cell_type": "markdown",
   "metadata": {},
   "source": [
    "Los primeros filtros a aplicar a nuestro set de datos son los siguientes:\n",
    "* Tipo de oferta como Venta, ya que solo nos interesa realizar el modelo para apartamentos en venta.\n",
    "* Amueblado con valor No, ya que segun el analisis para las ventas no hay data para este atributo.\n",
    "* El tipo se especificara como \"Apartamento\" ya que es la clasificacion que posee mayor cantidad de registros."
   ]
  },
  {
   "cell_type": "code",
   "execution_count": 301,
   "metadata": {},
   "outputs": [
    {
     "data": {
      "text/plain": [
       "(562, 28)"
      ]
     },
     "execution_count": 301,
     "metadata": {},
     "output_type": "execute_result"
    }
   ],
   "source": [
    "# Especificamos los filtros\n",
    "dfFiltradoSet = dfAnalisisSet[(dfAnalisisSet['oferta'] == 'Venta') & \n",
    "                              ((dfAnalisisSet['amueblado'] == 'No') | (dfAnalisisSet['amueblado'].isnull())) &\n",
    "                             (dfAnalisisSet['tipo'] == 'Apartamento')]\n",
    "\n",
    "# Verificamos las dimensiones\n",
    "dfFiltradoSet.shape"
   ]
  },
  {
   "cell_type": "markdown",
   "metadata": {},
   "source": [
    "Ahora especificamos las columnas que utilizaremos en principio para la construccion del set de datos"
   ]
  },
  {
   "cell_type": "code",
   "execution_count": 302,
   "metadata": {},
   "outputs": [
    {
     "data": {
      "text/plain": [
       "(562, 11)"
      ]
     },
     "execution_count": 302,
     "metadata": {},
     "output_type": "execute_result"
    }
   ],
   "source": [
    "# Seleccionando las columnas a utilizar\n",
    "dfFiltradoSet = dfFiltradoSet[['idregistro', 'banos', 'habitaciones', \n",
    "                               'espacio_m2', 'latitud', 'longitud', 'moneda',\n",
    "                               'parqueo', 'tipo_vendedor', 'precio_real', 'user_id']]\n",
    "\n",
    "dfFiltradoSet.shape"
   ]
  },
  {
   "cell_type": "markdown",
   "metadata": {},
   "source": [
    "### Nueva Variable Ubicacion (KMeans)\n",
    "\n",
    "Se procedera a crear una nueva variable llamada ubicacion que sera el numero de cluster asignado dependiendo de los valores de longitud y latitud."
   ]
  },
  {
   "cell_type": "code",
   "execution_count": 303,
   "metadata": {},
   "outputs": [
    {
     "data": {
      "text/html": [
       "<div>\n",
       "<style scoped>\n",
       "    .dataframe tbody tr th:only-of-type {\n",
       "        vertical-align: middle;\n",
       "    }\n",
       "\n",
       "    .dataframe tbody tr th {\n",
       "        vertical-align: top;\n",
       "    }\n",
       "\n",
       "    .dataframe thead th {\n",
       "        text-align: right;\n",
       "    }\n",
       "</style>\n",
       "<table border=\"1\" class=\"dataframe\">\n",
       "  <thead>\n",
       "    <tr style=\"text-align: right;\">\n",
       "      <th></th>\n",
       "      <th>idregistro</th>\n",
       "      <th>banos</th>\n",
       "      <th>habitaciones</th>\n",
       "      <th>espacio_m2</th>\n",
       "      <th>latitud</th>\n",
       "      <th>longitud</th>\n",
       "      <th>moneda</th>\n",
       "      <th>parqueo</th>\n",
       "      <th>tipo_vendedor</th>\n",
       "      <th>precio_real</th>\n",
       "      <th>user_id</th>\n",
       "      <th>ubicacion</th>\n",
       "    </tr>\n",
       "  </thead>\n",
       "  <tbody>\n",
       "    <tr>\n",
       "      <th>1630</th>\n",
       "      <td>1007688385</td>\n",
       "      <td>3.0</td>\n",
       "      <td>3.0</td>\n",
       "      <td>232.0</td>\n",
       "      <td>14.591</td>\n",
       "      <td>-90.506</td>\n",
       "      <td>US$</td>\n",
       "      <td>NaN</td>\n",
       "      <td>Inmobiliaria</td>\n",
       "      <td>2299310.00</td>\n",
       "      <td>55074295</td>\n",
       "      <td>U0</td>\n",
       "    </tr>\n",
       "    <tr>\n",
       "      <th>974</th>\n",
       "      <td>1014321966</td>\n",
       "      <td>2.0</td>\n",
       "      <td>1.0</td>\n",
       "      <td>78.0</td>\n",
       "      <td>14.600</td>\n",
       "      <td>-90.511</td>\n",
       "      <td>US$</td>\n",
       "      <td>Si</td>\n",
       "      <td>Inmobiliaria</td>\n",
       "      <td>1207330.00</td>\n",
       "      <td>34408653</td>\n",
       "      <td>U0</td>\n",
       "    </tr>\n",
       "    <tr>\n",
       "      <th>975</th>\n",
       "      <td>1014324725</td>\n",
       "      <td>2.0</td>\n",
       "      <td>2.0</td>\n",
       "      <td>65.0</td>\n",
       "      <td>14.593</td>\n",
       "      <td>-90.491</td>\n",
       "      <td>US$</td>\n",
       "      <td>Si</td>\n",
       "      <td>Inmobiliaria</td>\n",
       "      <td>922800.00</td>\n",
       "      <td>34408653</td>\n",
       "      <td>U0</td>\n",
       "    </tr>\n",
       "    <tr>\n",
       "      <th>557</th>\n",
       "      <td>1023944274</td>\n",
       "      <td>2.0</td>\n",
       "      <td>2.0</td>\n",
       "      <td>74.0</td>\n",
       "      <td>14.588</td>\n",
       "      <td>-90.503</td>\n",
       "      <td>US$</td>\n",
       "      <td>Si</td>\n",
       "      <td>Inmobiliaria</td>\n",
       "      <td>1647474.84</td>\n",
       "      <td>24012106</td>\n",
       "      <td>U0</td>\n",
       "    </tr>\n",
       "    <tr>\n",
       "      <th>559</th>\n",
       "      <td>1029720345</td>\n",
       "      <td>2.0</td>\n",
       "      <td>3.0</td>\n",
       "      <td>290.0</td>\n",
       "      <td>14.607</td>\n",
       "      <td>-90.470</td>\n",
       "      <td>US$</td>\n",
       "      <td>Si</td>\n",
       "      <td>Inmobiliaria</td>\n",
       "      <td>5190750.00</td>\n",
       "      <td>24012106</td>\n",
       "      <td>U5</td>\n",
       "    </tr>\n",
       "    <tr>\n",
       "      <th>2219</th>\n",
       "      <td>1030164820</td>\n",
       "      <td>2.0</td>\n",
       "      <td>2.0</td>\n",
       "      <td>74.0</td>\n",
       "      <td>14.588</td>\n",
       "      <td>-90.503</td>\n",
       "      <td>US$</td>\n",
       "      <td>Si</td>\n",
       "      <td>Inmobiliaria</td>\n",
       "      <td>1647474.84</td>\n",
       "      <td>24012106</td>\n",
       "      <td>U0</td>\n",
       "    </tr>\n",
       "    <tr>\n",
       "      <th>521</th>\n",
       "      <td>1039739280</td>\n",
       "      <td>2.0</td>\n",
       "      <td>2.0</td>\n",
       "      <td>74.0</td>\n",
       "      <td>14.588</td>\n",
       "      <td>-90.503</td>\n",
       "      <td>US$</td>\n",
       "      <td>Si</td>\n",
       "      <td>Inmobiliaria</td>\n",
       "      <td>1647474.84</td>\n",
       "      <td>24012106</td>\n",
       "      <td>U0</td>\n",
       "    </tr>\n",
       "    <tr>\n",
       "      <th>526</th>\n",
       "      <td>1041192203</td>\n",
       "      <td>1.0</td>\n",
       "      <td>1.0</td>\n",
       "      <td>79.0</td>\n",
       "      <td>14.588</td>\n",
       "      <td>-90.503</td>\n",
       "      <td>Q</td>\n",
       "      <td>Si</td>\n",
       "      <td>Inmobiliaria</td>\n",
       "      <td>1329277.00</td>\n",
       "      <td>24012106</td>\n",
       "      <td>U0</td>\n",
       "    </tr>\n",
       "    <tr>\n",
       "      <th>527</th>\n",
       "      <td>1041192824</td>\n",
       "      <td>2.0</td>\n",
       "      <td>2.0</td>\n",
       "      <td>79.0</td>\n",
       "      <td>14.588</td>\n",
       "      <td>-90.503</td>\n",
       "      <td>Q</td>\n",
       "      <td>Si</td>\n",
       "      <td>Inmobiliaria</td>\n",
       "      <td>1604456.00</td>\n",
       "      <td>24012106</td>\n",
       "      <td>U0</td>\n",
       "    </tr>\n",
       "    <tr>\n",
       "      <th>528</th>\n",
       "      <td>1041193829</td>\n",
       "      <td>2.0</td>\n",
       "      <td>3.0</td>\n",
       "      <td>114.0</td>\n",
       "      <td>14.588</td>\n",
       "      <td>-90.503</td>\n",
       "      <td>Q</td>\n",
       "      <td>Si</td>\n",
       "      <td>Inmobiliaria</td>\n",
       "      <td>1604456.00</td>\n",
       "      <td>24012106</td>\n",
       "      <td>U0</td>\n",
       "    </tr>\n",
       "  </tbody>\n",
       "</table>\n",
       "</div>"
      ],
      "text/plain": [
       "      idregistro  banos  habitaciones  espacio_m2  latitud  longitud moneda  \\\n",
       "1630  1007688385    3.0           3.0       232.0   14.591   -90.506    US$   \n",
       "974   1014321966    2.0           1.0        78.0   14.600   -90.511    US$   \n",
       "975   1014324725    2.0           2.0        65.0   14.593   -90.491    US$   \n",
       "557   1023944274    2.0           2.0        74.0   14.588   -90.503    US$   \n",
       "559   1029720345    2.0           3.0       290.0   14.607   -90.470    US$   \n",
       "2219  1030164820    2.0           2.0        74.0   14.588   -90.503    US$   \n",
       "521   1039739280    2.0           2.0        74.0   14.588   -90.503    US$   \n",
       "526   1041192203    1.0           1.0        79.0   14.588   -90.503      Q   \n",
       "527   1041192824    2.0           2.0        79.0   14.588   -90.503      Q   \n",
       "528   1041193829    2.0           3.0       114.0   14.588   -90.503      Q   \n",
       "\n",
       "     parqueo tipo_vendedor  precio_real   user_id ubicacion  \n",
       "1630     NaN  Inmobiliaria   2299310.00  55074295        U0  \n",
       "974       Si  Inmobiliaria   1207330.00  34408653        U0  \n",
       "975       Si  Inmobiliaria    922800.00  34408653        U0  \n",
       "557       Si  Inmobiliaria   1647474.84  24012106        U0  \n",
       "559       Si  Inmobiliaria   5190750.00  24012106        U5  \n",
       "2219      Si  Inmobiliaria   1647474.84  24012106        U0  \n",
       "521       Si  Inmobiliaria   1647474.84  24012106        U0  \n",
       "526       Si  Inmobiliaria   1329277.00  24012106        U0  \n",
       "527       Si  Inmobiliaria   1604456.00  24012106        U0  \n",
       "528       Si  Inmobiliaria   1604456.00  24012106        U0  "
      ]
     },
     "execution_count": 303,
     "metadata": {},
     "output_type": "execute_result"
    }
   ],
   "source": [
    "# Seleccion de numero de clusters.\n",
    "# Nota: En Notebook Data Analysis podriamos identificar la cantidad de cluster por medio de elbow plot\n",
    "intKClusters = 10\n",
    "\n",
    "# Se obtienen los valores que se utilizaran para la construccion de modelo KMeans\n",
    "npUbicaciones = np.array(list(zip(dfFiltradoSet['longitud'], \n",
    "                                  dfFiltradoSet['latitud']))).reshape(len(dfFiltradoSet['longitud']), 2)\n",
    "\n",
    "# Construccion del modelo\n",
    "kmeanModel = KMeans(n_clusters = intKClusters, max_iter = 2000).fit(npUbicaciones)\n",
    "\n",
    "# Asignacion de clusters a registros\n",
    "dfFiltradoSet['ubicacion'] =[\"U\" + str(ubicacion) for ubicacion in kmeanModel.labels_]\n",
    "\n",
    "# Verificacion de la nueva columna\n",
    "dfFiltradoSet.head(10)"
   ]
  },
  {
   "cell_type": "markdown",
   "metadata": {},
   "source": [
    "### Filtro Baja Frecuencia (Ubicacion)\n",
    "\n",
    "Verificaremos para la variable **ubicacion** del dataframe la frecuencia de sus valores para dejar aquellos que se encuentran bien representados."
   ]
  },
  {
   "cell_type": "code",
   "execution_count": 304,
   "metadata": {},
   "outputs": [
    {
     "data": {
      "text/plain": [
       "U0    272\n",
       "U3    114\n",
       "U5     83\n",
       "U7     27\n",
       "U2     17\n",
       "U8     17\n",
       "U4     15\n",
       "U6     12\n",
       "U9      4\n",
       "U1      1\n",
       "Name: ubicacion, dtype: int64"
      ]
     },
     "execution_count": 304,
     "metadata": {},
     "output_type": "execute_result"
    }
   ],
   "source": [
    "srFreqUbicacion = pd.Series(dfFiltradoSet['ubicacion']).value_counts()\n",
    "srFreqUbicacion"
   ]
  },
  {
   "cell_type": "code",
   "execution_count": 305,
   "metadata": {},
   "outputs": [],
   "source": [
    "# Eliminando elementos que tienen baja frecuencia para ubicacion\n",
    "intNumeroPivote = 5\n",
    "idxEliminar = srFreqUbicacion[srFreqUbicacion <= intNumeroPivote].index\n",
    "dfFiltradoSet = dfFiltradoSet[~dfFiltradoSet.ubicacion.isin(idxEliminar)]"
   ]
  },
  {
   "cell_type": "markdown",
   "metadata": {},
   "source": [
    "### Manejo valores nulos\n",
    "\n",
    "#### Validacion variables con valores nulos\n",
    "Procedemos a verificar cuales son las variables que presentan valores nulos"
   ]
  },
  {
   "cell_type": "code",
   "execution_count": 306,
   "metadata": {},
   "outputs": [
    {
     "data": {
      "text/plain": [
       "idregistro         0\n",
       "banos              0\n",
       "habitaciones       0\n",
       "espacio_m2         0\n",
       "latitud            0\n",
       "longitud           0\n",
       "moneda             0\n",
       "parqueo           14\n",
       "tipo_vendedor    137\n",
       "precio_real        0\n",
       "user_id            0\n",
       "ubicacion          0\n",
       "dtype: int64"
      ]
     },
     "execution_count": 306,
     "metadata": {},
     "output_type": "execute_result"
    }
   ],
   "source": [
    "dfFiltradoSet.isnull().sum()"
   ]
  },
  {
   "cell_type": "markdown",
   "metadata": {},
   "source": [
    "#### Tratamiento Valores Nulos Parqueo\n",
    "Primero verificaremos los rangos de valores para la variable **parqueo**."
   ]
  },
  {
   "cell_type": "code",
   "execution_count": 307,
   "metadata": {},
   "outputs": [
    {
     "data": {
      "text/plain": [
       "Si     446\n",
       "No      97\n",
       "NaN     14\n",
       "Name: parqueo, dtype: int64"
      ]
     },
     "execution_count": 307,
     "metadata": {},
     "output_type": "execute_result"
    }
   ],
   "source": [
    "srFreqParqueo = pd.Series(dfFiltradoSet['parqueo']).value_counts(dropna = False)\n",
    "srFreqParqueo"
   ]
  },
  {
   "cell_type": "markdown",
   "metadata": {},
   "source": [
    "Vamos a utilizar la columna de descripcion para verificar si tiene la columna parqueo. De ser asi, se les colocara que si posee parqueo."
   ]
  },
  {
   "cell_type": "code",
   "execution_count": 308,
   "metadata": {},
   "outputs": [
    {
     "data": {
      "text/plain": [
       "1    457\n",
       "0    100\n",
       "Name: parqueo, dtype: int64"
      ]
     },
     "execution_count": 308,
     "metadata": {},
     "output_type": "execute_result"
    }
   ],
   "source": [
    "# Obtenemos la info de los registros que tienen parqueo como nulo.\n",
    "dfSinParqueo = dfFiltradoSet.loc[pd.isnull(dfFiltradoSet['parqueo']), ['idregistro', 'parqueo']]\n",
    "\n",
    "# Obtenemos la info de los regsitros del catalogo inicial solo para los registros de interes.\n",
    "dfCatalogo = dfAnalisisSet.loc[dfAnalisisSet.idregistro.isin(dfSinParqueo['idregistro']), ['idregistro', 'descripcion']]\n",
    "\n",
    "# Verificamos si existe palabra parqueo dentro de columna descripcion\n",
    "dfCatalogo['parqueo'] = [\"Si\" if (re.search('parqueo',str(descripcion).lower())) else \"No\" \\\n",
    "                         for descripcion in dfCatalogo['descripcion']]\n",
    "\n",
    "# Asignacion de los valores calculados para parqueo\n",
    "dfFiltradoSet = dfFiltradoSet.set_index(['idregistro'])\\\n",
    "    .combine_first(dfCatalogo[['idregistro', 'parqueo']].set_index(['idregistro']))\\\n",
    "    .reset_index()\n",
    "\n",
    "\n",
    "# Verificamos si existe palabra parqueo dentro de columna descripcion\n",
    "dfFiltradoSet['parqueo'] = [1 if (parqueo == \"Si\") else 0 for parqueo in dfFiltradoSet['parqueo']]\n",
    "\n",
    "# Verificacion del parqueo\n",
    "srFreqParqueo = pd.Series(dfFiltradoSet['parqueo']).value_counts(dropna = False)\n",
    "srFreqParqueo"
   ]
  },
  {
   "cell_type": "markdown",
   "metadata": {},
   "source": [
    "#### Tratamiento Valores Nulos Tipo Vendedor"
   ]
  },
  {
   "cell_type": "code",
   "execution_count": 309,
   "metadata": {},
   "outputs": [
    {
     "data": {
      "text/plain": [
       "Inmobiliaria     400\n",
       "NaN              137\n",
       "Dueño Directo     20\n",
       "Name: tipo_vendedor, dtype: int64"
      ]
     },
     "execution_count": 309,
     "metadata": {},
     "output_type": "execute_result"
    }
   ],
   "source": [
    "srFreqVendedor = pd.Series(dfFiltradoSet['tipo_vendedor']).value_counts(dropna = False)\n",
    "srFreqVendedor"
   ]
  },
  {
   "cell_type": "code",
   "execution_count": 310,
   "metadata": {},
   "outputs": [
    {
     "data": {
      "text/plain": [
       "Inmobiliaria     526\n",
       "Dueño Directo     31\n",
       "Name: tipo_vendedor, dtype: int64"
      ]
     },
     "execution_count": 310,
     "metadata": {},
     "output_type": "execute_result"
    }
   ],
   "source": [
    "# Obtenemos los codigos de vendedor donde el tipo_vendedor es nulo.\n",
    "dfSinVendedor = dfFiltradoSet.loc[pd.isnull(dfFiltradoSet['tipo_vendedor']), ['idregistro', 'tipo_vendedor', 'user_id']]\n",
    "\n",
    "# Calculamos la frecuencia de registros para cada user_id\n",
    "srFreqVendedores = pd.Series(dfSinVendedor['user_id']).value_counts(dropna = False)\n",
    "\n",
    "# Para aquellos user_id que solo poseen un registro se les asigna el valor de \"Dueno Directo\"\n",
    "intNumeroPivote = 1\n",
    "idxDuenos = srFreqVendedores[srFreqVendedores == intNumeroPivote].index\n",
    "dfSinVendedor['tipo_vendedor'] = [\"Dueño Directo\" if x else \"Inmobiliaria\" for x in dfSinVendedor.user_id.isin(idxDuenos)]\n",
    "\n",
    "# Asignacion de los valores calculados para tipo de vendedor\n",
    "dfFiltradoSet = dfFiltradoSet.set_index(['idregistro'])\\\n",
    "    .combine_first(dfSinVendedor[['idregistro', 'tipo_vendedor']].set_index(['idregistro']))\\\n",
    "    .reset_index()\n",
    "\n",
    "# Verificacion del tipo de vendedor\n",
    "srFreqParqueo = pd.Series(dfFiltradoSet['tipo_vendedor']).value_counts(dropna = False)\n",
    "srFreqParqueo"
   ]
  },
  {
   "cell_type": "markdown",
   "metadata": {},
   "source": [
    "### Data Normalization\n",
    "\n",
    "El objetivo es normalizar  la columna de espacio que tiene una escala mayor a diferencia de las otras variables. Para la normalizacion se utilizara Z score."
   ]
  },
  {
   "cell_type": "code",
   "execution_count": 311,
   "metadata": {},
   "outputs": [
    {
     "data": {
      "text/html": [
       "<div>\n",
       "<style scoped>\n",
       "    .dataframe tbody tr th:only-of-type {\n",
       "        vertical-align: middle;\n",
       "    }\n",
       "\n",
       "    .dataframe tbody tr th {\n",
       "        vertical-align: top;\n",
       "    }\n",
       "\n",
       "    .dataframe thead th {\n",
       "        text-align: right;\n",
       "    }\n",
       "</style>\n",
       "<table border=\"1\" class=\"dataframe\">\n",
       "  <thead>\n",
       "    <tr style=\"text-align: right;\">\n",
       "      <th></th>\n",
       "      <th>idregistro</th>\n",
       "      <th>banos</th>\n",
       "      <th>espacio_m2</th>\n",
       "      <th>habitaciones</th>\n",
       "      <th>latitud</th>\n",
       "      <th>longitud</th>\n",
       "      <th>moneda</th>\n",
       "      <th>parqueo</th>\n",
       "      <th>precio_real</th>\n",
       "      <th>tipo_vendedor</th>\n",
       "      <th>ubicacion</th>\n",
       "      <th>user_id</th>\n",
       "    </tr>\n",
       "  </thead>\n",
       "  <tbody>\n",
       "    <tr>\n",
       "      <th>0</th>\n",
       "      <td>1007688385</td>\n",
       "      <td>3.0</td>\n",
       "      <td>0.358714</td>\n",
       "      <td>3.0</td>\n",
       "      <td>14.591</td>\n",
       "      <td>-90.506</td>\n",
       "      <td>US$</td>\n",
       "      <td>1</td>\n",
       "      <td>2299310.00</td>\n",
       "      <td>Inmobiliaria</td>\n",
       "      <td>U0</td>\n",
       "      <td>55074295</td>\n",
       "    </tr>\n",
       "    <tr>\n",
       "      <th>1</th>\n",
       "      <td>1014321966</td>\n",
       "      <td>2.0</td>\n",
       "      <td>0.098139</td>\n",
       "      <td>1.0</td>\n",
       "      <td>14.600</td>\n",
       "      <td>-90.511</td>\n",
       "      <td>US$</td>\n",
       "      <td>1</td>\n",
       "      <td>1207330.00</td>\n",
       "      <td>Inmobiliaria</td>\n",
       "      <td>U0</td>\n",
       "      <td>34408653</td>\n",
       "    </tr>\n",
       "    <tr>\n",
       "      <th>2</th>\n",
       "      <td>1014324725</td>\n",
       "      <td>2.0</td>\n",
       "      <td>0.076142</td>\n",
       "      <td>2.0</td>\n",
       "      <td>14.593</td>\n",
       "      <td>-90.491</td>\n",
       "      <td>US$</td>\n",
       "      <td>1</td>\n",
       "      <td>922800.00</td>\n",
       "      <td>Inmobiliaria</td>\n",
       "      <td>U0</td>\n",
       "      <td>34408653</td>\n",
       "    </tr>\n",
       "    <tr>\n",
       "      <th>3</th>\n",
       "      <td>1023944274</td>\n",
       "      <td>2.0</td>\n",
       "      <td>0.091371</td>\n",
       "      <td>2.0</td>\n",
       "      <td>14.588</td>\n",
       "      <td>-90.503</td>\n",
       "      <td>US$</td>\n",
       "      <td>1</td>\n",
       "      <td>1647474.84</td>\n",
       "      <td>Inmobiliaria</td>\n",
       "      <td>U0</td>\n",
       "      <td>24012106</td>\n",
       "    </tr>\n",
       "    <tr>\n",
       "      <th>4</th>\n",
       "      <td>1029720345</td>\n",
       "      <td>2.0</td>\n",
       "      <td>0.456853</td>\n",
       "      <td>3.0</td>\n",
       "      <td>14.607</td>\n",
       "      <td>-90.470</td>\n",
       "      <td>US$</td>\n",
       "      <td>1</td>\n",
       "      <td>5190750.00</td>\n",
       "      <td>Inmobiliaria</td>\n",
       "      <td>U5</td>\n",
       "      <td>24012106</td>\n",
       "    </tr>\n",
       "    <tr>\n",
       "      <th>...</th>\n",
       "      <td>...</td>\n",
       "      <td>...</td>\n",
       "      <td>...</td>\n",
       "      <td>...</td>\n",
       "      <td>...</td>\n",
       "      <td>...</td>\n",
       "      <td>...</td>\n",
       "      <td>...</td>\n",
       "      <td>...</td>\n",
       "      <td>...</td>\n",
       "      <td>...</td>\n",
       "      <td>...</td>\n",
       "    </tr>\n",
       "    <tr>\n",
       "      <th>552</th>\n",
       "      <td>1100424578</td>\n",
       "      <td>2.0</td>\n",
       "      <td>0.250423</td>\n",
       "      <td>3.0</td>\n",
       "      <td>14.591</td>\n",
       "      <td>-90.493</td>\n",
       "      <td>US$</td>\n",
       "      <td>1</td>\n",
       "      <td>2378486.24</td>\n",
       "      <td>Inmobiliaria</td>\n",
       "      <td>U0</td>\n",
       "      <td>25529822</td>\n",
       "    </tr>\n",
       "    <tr>\n",
       "      <th>553</th>\n",
       "      <td>1100424611</td>\n",
       "      <td>3.0</td>\n",
       "      <td>0.656514</td>\n",
       "      <td>3.0</td>\n",
       "      <td>14.591</td>\n",
       "      <td>-90.493</td>\n",
       "      <td>US$</td>\n",
       "      <td>1</td>\n",
       "      <td>5136920.00</td>\n",
       "      <td>Inmobiliaria</td>\n",
       "      <td>U0</td>\n",
       "      <td>25529822</td>\n",
       "    </tr>\n",
       "    <tr>\n",
       "      <th>554</th>\n",
       "      <td>1100424722</td>\n",
       "      <td>3.0</td>\n",
       "      <td>0.186125</td>\n",
       "      <td>3.0</td>\n",
       "      <td>14.621</td>\n",
       "      <td>-90.516</td>\n",
       "      <td>US$</td>\n",
       "      <td>0</td>\n",
       "      <td>1768700.00</td>\n",
       "      <td>Inmobiliaria</td>\n",
       "      <td>U3</td>\n",
       "      <td>4263970</td>\n",
       "    </tr>\n",
       "    <tr>\n",
       "      <th>555</th>\n",
       "      <td>1100425243</td>\n",
       "      <td>2.0</td>\n",
       "      <td>0.240271</td>\n",
       "      <td>3.0</td>\n",
       "      <td>14.634</td>\n",
       "      <td>-90.507</td>\n",
       "      <td>US$</td>\n",
       "      <td>1</td>\n",
       "      <td>2153200.00</td>\n",
       "      <td>Inmobiliaria</td>\n",
       "      <td>U3</td>\n",
       "      <td>38828922</td>\n",
       "    </tr>\n",
       "    <tr>\n",
       "      <th>556</th>\n",
       "      <td>998866453</td>\n",
       "      <td>4.0</td>\n",
       "      <td>0.549915</td>\n",
       "      <td>3.0</td>\n",
       "      <td>14.607</td>\n",
       "      <td>-90.470</td>\n",
       "      <td>US$</td>\n",
       "      <td>1</td>\n",
       "      <td>4921600.00</td>\n",
       "      <td>Inmobiliaria</td>\n",
       "      <td>U5</td>\n",
       "      <td>15462053</td>\n",
       "    </tr>\n",
       "  </tbody>\n",
       "</table>\n",
       "<p>557 rows × 12 columns</p>\n",
       "</div>"
      ],
      "text/plain": [
       "     idregistro  banos  espacio_m2  habitaciones  latitud  longitud moneda  \\\n",
       "0    1007688385    3.0    0.358714           3.0   14.591   -90.506    US$   \n",
       "1    1014321966    2.0    0.098139           1.0   14.600   -90.511    US$   \n",
       "2    1014324725    2.0    0.076142           2.0   14.593   -90.491    US$   \n",
       "3    1023944274    2.0    0.091371           2.0   14.588   -90.503    US$   \n",
       "4    1029720345    2.0    0.456853           3.0   14.607   -90.470    US$   \n",
       "..          ...    ...         ...           ...      ...       ...    ...   \n",
       "552  1100424578    2.0    0.250423           3.0   14.591   -90.493    US$   \n",
       "553  1100424611    3.0    0.656514           3.0   14.591   -90.493    US$   \n",
       "554  1100424722    3.0    0.186125           3.0   14.621   -90.516    US$   \n",
       "555  1100425243    2.0    0.240271           3.0   14.634   -90.507    US$   \n",
       "556   998866453    4.0    0.549915           3.0   14.607   -90.470    US$   \n",
       "\n",
       "     parqueo  precio_real tipo_vendedor ubicacion   user_id  \n",
       "0          1   2299310.00  Inmobiliaria        U0  55074295  \n",
       "1          1   1207330.00  Inmobiliaria        U0  34408653  \n",
       "2          1    922800.00  Inmobiliaria        U0  34408653  \n",
       "3          1   1647474.84  Inmobiliaria        U0  24012106  \n",
       "4          1   5190750.00  Inmobiliaria        U5  24012106  \n",
       "..       ...          ...           ...       ...       ...  \n",
       "552        1   2378486.24  Inmobiliaria        U0  25529822  \n",
       "553        1   5136920.00  Inmobiliaria        U0  25529822  \n",
       "554        0   1768700.00  Inmobiliaria        U3   4263970  \n",
       "555        1   2153200.00  Inmobiliaria        U3  38828922  \n",
       "556        1   4921600.00  Inmobiliaria        U5  15462053  \n",
       "\n",
       "[557 rows x 12 columns]"
      ]
     },
     "execution_count": 311,
     "metadata": {},
     "output_type": "execute_result"
    }
   ],
   "source": [
    "dfFiltradoSet['espacio_m2'] = (dfFiltradoSet['espacio_m2'] - dfFiltradoSet['espacio_m2'].min()) / (dfFiltradoSet['espacio_m2'].max() - dfFiltradoSet['espacio_m2'].min())\n",
    "\n",
    "dfFiltradoSet"
   ]
  },
  {
   "cell_type": "markdown",
   "metadata": {},
   "source": [
    "### Hot Encoding\n",
    "\n",
    "Vamos a crear dummy variables para aquellas variables que son de tipo categorico. Primero verificaremos los tipos de datos del actual dataframe."
   ]
  },
  {
   "cell_type": "code",
   "execution_count": 312,
   "metadata": {},
   "outputs": [
    {
     "data": {
      "text/plain": [
       "idregistro        object\n",
       "banos            float64\n",
       "espacio_m2       float64\n",
       "habitaciones     float64\n",
       "latitud          float64\n",
       "longitud         float64\n",
       "moneda            object\n",
       "parqueo            int64\n",
       "precio_real      float64\n",
       "tipo_vendedor     object\n",
       "ubicacion         object\n",
       "user_id            int64\n",
       "dtype: object"
      ]
     },
     "execution_count": 312,
     "metadata": {},
     "output_type": "execute_result"
    }
   ],
   "source": [
    "dfFiltradoSet.dtypes"
   ]
  },
  {
   "cell_type": "code",
   "execution_count": 313,
   "metadata": {},
   "outputs": [
    {
     "data": {
      "text/plain": [
       "idregistro            object\n",
       "banos                float64\n",
       "espacio_m2           float64\n",
       "habitaciones         float64\n",
       "latitud              float64\n",
       "longitud             float64\n",
       "moneda                object\n",
       "parqueo                int64\n",
       "precio_real          float64\n",
       "tipo_vendedor         object\n",
       "ubicacion             object\n",
       "user_id                int64\n",
       "moneda_q               uint8\n",
       "moneda_d               uint8\n",
       "tipo_dueno             uint8\n",
       "tipo_inmobiliaria      uint8\n",
       "U0                     uint8\n",
       "U2                     uint8\n",
       "U3                     uint8\n",
       "U4                     uint8\n",
       "U5                     uint8\n",
       "U6                     uint8\n",
       "U7                     uint8\n",
       "U8                     uint8\n",
       "dtype: object"
      ]
     },
     "execution_count": 313,
     "metadata": {},
     "output_type": "execute_result"
    }
   ],
   "source": [
    "# Eliminamos variables dummy si ya existen\n",
    "dfFiltradoSet = dfFiltradoSet.drop(['moneda_q','moneda_d', 'tipo_inmobiliaria', 'tipo_dueno'], axis=1, errors='ignore')\n",
    "\n",
    "# Convertimos aquellas variables categoricas a variables dummy.\n",
    "dfFiltradoSet = pd.concat([dfFiltradoSet, pd.get_dummies(dfFiltradoSet['moneda'])\\\n",
    "                              .rename(columns={'Q': 'moneda_q', 'US$': 'moneda_d'})], axis = 1)\n",
    "\n",
    "dfFiltradoSet = pd.concat([dfFiltradoSet, pd.get_dummies(dfFiltradoSet['tipo_vendedor'])\\\n",
    "                              .rename(columns={'Inmobiliaria': 'tipo_inmobiliaria', \n",
    "                                               'Dueño Directo': 'tipo_dueno'})], axis = 1)\n",
    "\n",
    "dfFiltradoSet = pd.concat([dfFiltradoSet, pd.get_dummies(dfFiltradoSet['ubicacion'])], axis = 1)\n",
    "\n",
    "# Verificamos las variables resultantes\n",
    "dfFiltradoSet.dtypes"
   ]
  },
  {
   "cell_type": "markdown",
   "metadata": {},
   "source": [
    "### Seleccion Variables Modelo"
   ]
  },
  {
   "cell_type": "code",
   "execution_count": 315,
   "metadata": {},
   "outputs": [
    {
     "data": {
      "text/plain": [
       "idregistro            object\n",
       "banos                float64\n",
       "espacio_m2           float64\n",
       "habitaciones         float64\n",
       "moneda_q               uint8\n",
       "moneda_d               uint8\n",
       "parqueo                int64\n",
       "tipo_dueno             uint8\n",
       "tipo_inmobiliaria      uint8\n",
       "U0                     uint8\n",
       "U2                     uint8\n",
       "U3                     uint8\n",
       "U4                     uint8\n",
       "U5                     uint8\n",
       "U6                     uint8\n",
       "U7                     uint8\n",
       "U8                     uint8\n",
       "precio_real          float64\n",
       "dtype: object"
      ]
     },
     "execution_count": 315,
     "metadata": {},
     "output_type": "execute_result"
    }
   ],
   "source": [
    "# Seleccion de las variables\n",
    "dfModeloSet = dfFiltradoSet[['idregistro', 'banos', 'espacio_m2', \n",
    "                               'habitaciones', 'moneda_q', 'moneda_d',\n",
    "                               'parqueo', 'tipo_dueno', 'tipo_inmobiliaria', \n",
    "                               'U0', 'U2', 'U3', 'U4', 'U5', 'U6', 'U7', 'U8',\n",
    "                               'precio_real'\n",
    "                              ]]\n",
    "\n",
    "# Verificacion de las variables\n",
    "dfModeloSet.dtypes"
   ]
  },
  {
   "cell_type": "markdown",
   "metadata": {},
   "source": [
    "## Construccion Modelo"
   ]
  },
  {
   "cell_type": "code",
   "execution_count": 328,
   "metadata": {},
   "outputs": [
    {
     "data": {
      "text/html": [
       "<div>\n",
       "<style scoped>\n",
       "    .dataframe tbody tr th:only-of-type {\n",
       "        vertical-align: middle;\n",
       "    }\n",
       "\n",
       "    .dataframe tbody tr th {\n",
       "        vertical-align: top;\n",
       "    }\n",
       "\n",
       "    .dataframe thead th {\n",
       "        text-align: right;\n",
       "    }\n",
       "</style>\n",
       "<table border=\"1\" class=\"dataframe\">\n",
       "  <thead>\n",
       "    <tr style=\"text-align: right;\">\n",
       "      <th></th>\n",
       "      <th>banos</th>\n",
       "      <th>espacio_m2</th>\n",
       "      <th>habitaciones</th>\n",
       "      <th>moneda_q</th>\n",
       "      <th>moneda_d</th>\n",
       "      <th>parqueo</th>\n",
       "      <th>tipo_dueno</th>\n",
       "      <th>tipo_inmobiliaria</th>\n",
       "      <th>U0</th>\n",
       "      <th>U2</th>\n",
       "      <th>U3</th>\n",
       "      <th>U4</th>\n",
       "      <th>U5</th>\n",
       "      <th>U6</th>\n",
       "      <th>U7</th>\n",
       "      <th>U8</th>\n",
       "    </tr>\n",
       "  </thead>\n",
       "  <tbody>\n",
       "    <tr>\n",
       "      <th>352</th>\n",
       "      <td>1.0</td>\n",
       "      <td>0.025381</td>\n",
       "      <td>1.0</td>\n",
       "      <td>1</td>\n",
       "      <td>0</td>\n",
       "      <td>1</td>\n",
       "      <td>0</td>\n",
       "      <td>1</td>\n",
       "      <td>0</td>\n",
       "      <td>0</td>\n",
       "      <td>1</td>\n",
       "      <td>0</td>\n",
       "      <td>0</td>\n",
       "      <td>0</td>\n",
       "      <td>0</td>\n",
       "      <td>0</td>\n",
       "    </tr>\n",
       "    <tr>\n",
       "      <th>411</th>\n",
       "      <td>2.0</td>\n",
       "      <td>0.152284</td>\n",
       "      <td>2.0</td>\n",
       "      <td>0</td>\n",
       "      <td>1</td>\n",
       "      <td>0</td>\n",
       "      <td>0</td>\n",
       "      <td>1</td>\n",
       "      <td>0</td>\n",
       "      <td>0</td>\n",
       "      <td>0</td>\n",
       "      <td>0</td>\n",
       "      <td>1</td>\n",
       "      <td>0</td>\n",
       "      <td>0</td>\n",
       "      <td>0</td>\n",
       "    </tr>\n",
       "    <tr>\n",
       "      <th>82</th>\n",
       "      <td>4.0</td>\n",
       "      <td>0.561760</td>\n",
       "      <td>4.0</td>\n",
       "      <td>0</td>\n",
       "      <td>1</td>\n",
       "      <td>1</td>\n",
       "      <td>0</td>\n",
       "      <td>1</td>\n",
       "      <td>1</td>\n",
       "      <td>0</td>\n",
       "      <td>0</td>\n",
       "      <td>0</td>\n",
       "      <td>0</td>\n",
       "      <td>0</td>\n",
       "      <td>0</td>\n",
       "      <td>0</td>\n",
       "    </tr>\n",
       "    <tr>\n",
       "      <th>301</th>\n",
       "      <td>2.0</td>\n",
       "      <td>0.165821</td>\n",
       "      <td>3.0</td>\n",
       "      <td>1</td>\n",
       "      <td>0</td>\n",
       "      <td>1</td>\n",
       "      <td>0</td>\n",
       "      <td>1</td>\n",
       "      <td>0</td>\n",
       "      <td>0</td>\n",
       "      <td>1</td>\n",
       "      <td>0</td>\n",
       "      <td>0</td>\n",
       "      <td>0</td>\n",
       "      <td>0</td>\n",
       "      <td>0</td>\n",
       "    </tr>\n",
       "    <tr>\n",
       "      <th>494</th>\n",
       "      <td>2.0</td>\n",
       "      <td>0.128596</td>\n",
       "      <td>3.0</td>\n",
       "      <td>0</td>\n",
       "      <td>1</td>\n",
       "      <td>0</td>\n",
       "      <td>0</td>\n",
       "      <td>1</td>\n",
       "      <td>1</td>\n",
       "      <td>0</td>\n",
       "      <td>0</td>\n",
       "      <td>0</td>\n",
       "      <td>0</td>\n",
       "      <td>0</td>\n",
       "      <td>0</td>\n",
       "      <td>0</td>\n",
       "    </tr>\n",
       "    <tr>\n",
       "      <th>...</th>\n",
       "      <td>...</td>\n",
       "      <td>...</td>\n",
       "      <td>...</td>\n",
       "      <td>...</td>\n",
       "      <td>...</td>\n",
       "      <td>...</td>\n",
       "      <td>...</td>\n",
       "      <td>...</td>\n",
       "      <td>...</td>\n",
       "      <td>...</td>\n",
       "      <td>...</td>\n",
       "      <td>...</td>\n",
       "      <td>...</td>\n",
       "      <td>...</td>\n",
       "      <td>...</td>\n",
       "      <td>...</td>\n",
       "    </tr>\n",
       "    <tr>\n",
       "      <th>278</th>\n",
       "      <td>2.0</td>\n",
       "      <td>0.099831</td>\n",
       "      <td>2.0</td>\n",
       "      <td>1</td>\n",
       "      <td>0</td>\n",
       "      <td>1</td>\n",
       "      <td>1</td>\n",
       "      <td>0</td>\n",
       "      <td>0</td>\n",
       "      <td>0</td>\n",
       "      <td>0</td>\n",
       "      <td>1</td>\n",
       "      <td>0</td>\n",
       "      <td>0</td>\n",
       "      <td>0</td>\n",
       "      <td>0</td>\n",
       "    </tr>\n",
       "    <tr>\n",
       "      <th>127</th>\n",
       "      <td>2.0</td>\n",
       "      <td>0.131980</td>\n",
       "      <td>3.0</td>\n",
       "      <td>0</td>\n",
       "      <td>1</td>\n",
       "      <td>1</td>\n",
       "      <td>0</td>\n",
       "      <td>1</td>\n",
       "      <td>0</td>\n",
       "      <td>0</td>\n",
       "      <td>0</td>\n",
       "      <td>1</td>\n",
       "      <td>0</td>\n",
       "      <td>0</td>\n",
       "      <td>0</td>\n",
       "      <td>0</td>\n",
       "    </tr>\n",
       "    <tr>\n",
       "      <th>425</th>\n",
       "      <td>4.0</td>\n",
       "      <td>0.175973</td>\n",
       "      <td>3.0</td>\n",
       "      <td>0</td>\n",
       "      <td>1</td>\n",
       "      <td>1</td>\n",
       "      <td>0</td>\n",
       "      <td>1</td>\n",
       "      <td>1</td>\n",
       "      <td>0</td>\n",
       "      <td>0</td>\n",
       "      <td>0</td>\n",
       "      <td>0</td>\n",
       "      <td>0</td>\n",
       "      <td>0</td>\n",
       "      <td>0</td>\n",
       "    </tr>\n",
       "    <tr>\n",
       "      <th>408</th>\n",
       "      <td>3.0</td>\n",
       "      <td>0.094755</td>\n",
       "      <td>2.0</td>\n",
       "      <td>0</td>\n",
       "      <td>1</td>\n",
       "      <td>1</td>\n",
       "      <td>0</td>\n",
       "      <td>1</td>\n",
       "      <td>1</td>\n",
       "      <td>0</td>\n",
       "      <td>0</td>\n",
       "      <td>0</td>\n",
       "      <td>0</td>\n",
       "      <td>0</td>\n",
       "      <td>0</td>\n",
       "      <td>0</td>\n",
       "    </tr>\n",
       "    <tr>\n",
       "      <th>43</th>\n",
       "      <td>2.0</td>\n",
       "      <td>0.084602</td>\n",
       "      <td>3.0</td>\n",
       "      <td>1</td>\n",
       "      <td>0</td>\n",
       "      <td>1</td>\n",
       "      <td>0</td>\n",
       "      <td>1</td>\n",
       "      <td>0</td>\n",
       "      <td>0</td>\n",
       "      <td>1</td>\n",
       "      <td>0</td>\n",
       "      <td>0</td>\n",
       "      <td>0</td>\n",
       "      <td>0</td>\n",
       "      <td>0</td>\n",
       "    </tr>\n",
       "  </tbody>\n",
       "</table>\n",
       "<p>389 rows × 16 columns</p>\n",
       "</div>"
      ],
      "text/plain": [
       "     banos  espacio_m2  habitaciones  moneda_q  moneda_d  parqueo  tipo_dueno  \\\n",
       "352    1.0    0.025381           1.0         1         0        1           0   \n",
       "411    2.0    0.152284           2.0         0         1        0           0   \n",
       "82     4.0    0.561760           4.0         0         1        1           0   \n",
       "301    2.0    0.165821           3.0         1         0        1           0   \n",
       "494    2.0    0.128596           3.0         0         1        0           0   \n",
       "..     ...         ...           ...       ...       ...      ...         ...   \n",
       "278    2.0    0.099831           2.0         1         0        1           1   \n",
       "127    2.0    0.131980           3.0         0         1        1           0   \n",
       "425    4.0    0.175973           3.0         0         1        1           0   \n",
       "408    3.0    0.094755           2.0         0         1        1           0   \n",
       "43     2.0    0.084602           3.0         1         0        1           0   \n",
       "\n",
       "     tipo_inmobiliaria  U0  U2  U3  U4  U5  U6  U7  U8  \n",
       "352                  1   0   0   1   0   0   0   0   0  \n",
       "411                  1   0   0   0   0   1   0   0   0  \n",
       "82                   1   1   0   0   0   0   0   0   0  \n",
       "301                  1   0   0   1   0   0   0   0   0  \n",
       "494                  1   1   0   0   0   0   0   0   0  \n",
       "..                 ...  ..  ..  ..  ..  ..  ..  ..  ..  \n",
       "278                  0   0   0   0   1   0   0   0   0  \n",
       "127                  1   0   0   0   1   0   0   0   0  \n",
       "425                  1   1   0   0   0   0   0   0   0  \n",
       "408                  1   1   0   0   0   0   0   0   0  \n",
       "43                   1   0   0   1   0   0   0   0   0  \n",
       "\n",
       "[389 rows x 16 columns]"
      ]
     },
     "execution_count": 328,
     "metadata": {},
     "output_type": "execute_result"
    }
   ],
   "source": [
    "# Seleccionamos las variables predictoras\n",
    "dfPredictors = dfModeloSet.loc[:, ~dfModeloSet.columns.isin(['precio_real', 'idregistro'])]\n",
    "\n",
    "# Seleccionamos la variable dependiente\n",
    "Y = dfModeloSet['precio_real']\n",
    "\n",
    "# Separamos los datos para test y training\n",
    "xTrain, xTest, yTrain, yTest = train_test_split(dfPredictors, Y, test_size = 0.3, random_state=1505)\n",
    "\n",
    "xTrain"
   ]
  },
  {
   "cell_type": "markdown",
   "metadata": {},
   "source": [
    "### Regresion Lineal\n",
    "\n",
    "Se crea modelo de regresion lineal multivariable utilizando los datos de entrenamiento. Verificamos que obtenemos los valores de coeficiente y de intercepto."
   ]
  },
  {
   "cell_type": "code",
   "execution_count": 338,
   "metadata": {},
   "outputs": [
    {
     "data": {
      "text/plain": [
       "array([  44604.64529113, 7184143.34340133,  -53572.5176284 ,\n",
       "       -112965.80844991,  112965.80844991,  239569.51311517,\n",
       "       -113408.42449935,  113408.42449936,  199573.91662462,\n",
       "       -167978.97959686,   58743.61247766, -195344.62673469,\n",
       "        242115.22960329, -122911.2756633 ,  -74155.13174233,\n",
       "         59957.25503162])"
      ]
     },
     "execution_count": 338,
     "metadata": {},
     "output_type": "execute_result"
    }
   ],
   "source": [
    "# Construccion del modelo\n",
    "linearRegModel = LinearRegression()\n",
    "\n",
    "linearRegModel.fit(xTrain, yTrain)\n",
    "\n",
    "# Verificacion de coeficientes\n",
    "linearRegModel.coef_"
   ]
  },
  {
   "cell_type": "code",
   "execution_count": 337,
   "metadata": {},
   "outputs": [
    {
     "data": {
      "text/plain": [
       "-67766.46475738613"
      ]
     },
     "execution_count": 337,
     "metadata": {},
     "output_type": "execute_result"
    }
   ],
   "source": [
    "# Verificacion de intercepto\n",
    "linearRegModel.intercept_"
   ]
  },
  {
   "cell_type": "markdown",
   "metadata": {},
   "source": [
    "#### Validacion"
   ]
  },
  {
   "cell_type": "code",
   "execution_count": 339,
   "metadata": {},
   "outputs": [
    {
     "data": {
      "text/plain": [
       "<matplotlib.axes._subplots.AxesSubplot at 0x201a0330cc8>"
      ]
     },
     "execution_count": 339,
     "metadata": {},
     "output_type": "execute_result"
    },
    {
     "data": {
      "image/png": "[encoded data removed]",
      "text/plain": [
       "<Figure size 432x288 with 1 Axes>"
      ]
     },
     "metadata": {
      "needs_background": "light"
     },
     "output_type": "display_data"
    }
   ],
   "source": [
    "# Obtenemos las predicciones del modelo para los datos test\n",
    "yHat = linearRegModel.predict(xTest)\n",
    "\n",
    "# Verificamos con un grafico de distribucion la prediccion del modelo\n",
    "ax1 = sns.distplot(yTest, hist = False, color = \"r\", label = \"Actual Price\")\n",
    "sns.distplot(yHat, hist = False, color = \"b\", label = \"Fitted Price\", ax = ax1)"
   ]
  },
  {
   "cell_type": "markdown",
   "metadata": {},
   "source": [
    "### Random Forest Regressor"
   ]
  },
  {
   "cell_type": "code",
   "execution_count": 344,
   "metadata": {},
   "outputs": [
    {
     "data": {
      "text/plain": [
       "RandomForestRegressor(max_depth=20, n_estimators=200)"
      ]
     },
     "execution_count": 344,
     "metadata": {},
     "output_type": "execute_result"
    }
   ],
   "source": [
    "# Construccion del modelo\n",
    "randomForestModel = RandomForestRegressor(n_estimators = 200, max_depth = 20)\n",
    "\n",
    "randomForestModel.fit(xTrain, yTrain)"
   ]
  },
  {
   "cell_type": "markdown",
   "metadata": {},
   "source": [
    "#### Validacion"
   ]
  },
  {
   "cell_type": "code",
   "execution_count": 347,
   "metadata": {},
   "outputs": [
    {
     "data": {
      "text/plain": [
       "<matplotlib.axes._subplots.AxesSubplot at 0x201a157f288>"
      ]
     },
     "execution_count": 347,
     "metadata": {},
     "output_type": "execute_result"
    },
    {
     "data": {
      "image/png": "[encoded data removed]",
      "text/plain": [
       "<Figure size 432x288 with 1 Axes>"
      ]
     },
     "metadata": {
      "needs_background": "light"
     },
     "output_type": "display_data"
    }
   ],
   "source": [
    "# Obtenemos las predicciones del modelo para los datos test\n",
    "yHat = randomForestModel.predict(xTest)\n",
    "\n",
    "# Verificamos con un grafico de distribucion la prediccion del modelo\n",
    "ax1 = sns.distplot(yTest, hist = False, color = \"r\", label = \"Actual Price\")\n",
    "sns.distplot(yHat, hist = False, color = \"b\", label = \"Fitted Price\", ax = ax1)"
   ]
  }
 ],
 "metadata": {
  "kernelspec": {
   "display_name": "Python 3",
   "language": "python",
   "name": "python3"
  },
  "language_info": {
   "codemirror_mode": {
    "name": "ipython",
    "version": 3
   },
   "file_extension": ".py",
   "mimetype": "text/x-python",
   "name": "python",
   "nbconvert_exporter": "python",
   "pygments_lexer": "ipython3",
   "version": "3.7.6"
  },
  "toc": {
   "base_numbering": 1,
   "nav_menu": {},
   "number_sections": true,
   "sideBar": false,
   "skip_h1_title": false,
   "title_cell": "Table of Contents",
   "title_sidebar": "Contents",
   "toc_cell": false,
   "toc_position": {},
   "toc_section_display": true,
   "toc_window_display": true
  }
 },
 "nbformat": 4,
 "nbformat_minor": 4
}
